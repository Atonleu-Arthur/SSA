{
 "cells": [
  {
   "cell_type": "code",
   "execution_count": 1,
   "id": "189f78eb",
   "metadata": {},
   "outputs": [],
   "source": [
    "import numpy as np\n",
    "import pandas as pd\n",
    "import matplotlib.pyplot as plt\n",
    "import seaborn as sns"
   ]
  },
  {
   "cell_type": "code",
   "execution_count": 2,
   "id": "d2126b63",
   "metadata": {},
   "outputs": [],
   "source": [
    "pd.set_option('display.max_row', 14)\n",
    "pd.set_option('display.max_column', 14)"
   ]
  },
  {
   "cell_type": "code",
   "execution_count": null,
   "id": "faaa74b5",
   "metadata": {},
   "outputs": [],
   "source": []
  },
  {
   "cell_type": "code",
   "execution_count": 3,
   "id": "87d89938",
   "metadata": {},
   "outputs": [],
   "source": [
    "data = pd.read_excel('Manoeuvers_Ath.xlsx')"
   ]
  },
  {
   "cell_type": "code",
   "execution_count": null,
   "id": "91cd5432",
   "metadata": {},
   "outputs": [],
   "source": []
  },
  {
   "cell_type": "code",
   "execution_count": 4,
   "id": "53ce0282",
   "metadata": {
    "scrolled": true
   },
   "outputs": [
    {
     "data": {
      "text/html": [
       "<div>\n",
       "<style scoped>\n",
       "    .dataframe tbody tr th:only-of-type {\n",
       "        vertical-align: middle;\n",
       "    }\n",
       "\n",
       "    .dataframe tbody tr th {\n",
       "        vertical-align: top;\n",
       "    }\n",
       "\n",
       "    .dataframe thead th {\n",
       "        text-align: right;\n",
       "    }\n",
       "</style>\n",
       "<table border=\"1\" class=\"dataframe\">\n",
       "  <thead>\n",
       "    <tr style=\"text-align: right;\">\n",
       "      <th></th>\n",
       "      <th>Date</th>\n",
       "      <th>Maneuver type</th>\n",
       "      <th>Delta-t</th>\n",
       "      <th>Delta Inc X</th>\n",
       "      <th>Delta Inc Y</th>\n",
       "      <th>Delta Ecc X</th>\n",
       "      <th>Delta Ecc Y</th>\n",
       "      <th>Delta Energy</th>\n",
       "      <th>Delta Energy Previous</th>\n",
       "      <th>Delta Energy Next</th>\n",
       "      <th>Delta Moment</th>\n",
       "      <th>Delta Out-of-plane</th>\n",
       "      <th>Delta Along-track</th>\n",
       "      <th>Delta Along-track avg</th>\n",
       "    </tr>\n",
       "  </thead>\n",
       "  <tbody>\n",
       "    <tr>\n",
       "      <th>0</th>\n",
       "      <td>24140.749659</td>\n",
       "      <td>0</td>\n",
       "      <td>1.224519</td>\n",
       "      <td>0.000010</td>\n",
       "      <td>0.000258</td>\n",
       "      <td>-0.000058</td>\n",
       "      <td>0.000132</td>\n",
       "      <td>-46.793223</td>\n",
       "      <td>0.000000</td>\n",
       "      <td>99.526227</td>\n",
       "      <td>0.000517</td>\n",
       "      <td>-4628.698901</td>\n",
       "      <td>-28711.657464</td>\n",
       "      <td>0.000000</td>\n",
       "    </tr>\n",
       "    <tr>\n",
       "      <th>1</th>\n",
       "      <td>24141.519689</td>\n",
       "      <td>1</td>\n",
       "      <td>0.770030</td>\n",
       "      <td>-0.000025</td>\n",
       "      <td>-0.000213</td>\n",
       "      <td>0.000075</td>\n",
       "      <td>-0.000106</td>\n",
       "      <td>99.526227</td>\n",
       "      <td>-46.793223</td>\n",
       "      <td>-4.871059</td>\n",
       "      <td>0.000429</td>\n",
       "      <td>35293.385259</td>\n",
       "      <td>2776.854666</td>\n",
       "      <td>15744.256065</td>\n",
       "    </tr>\n",
       "    <tr>\n",
       "      <th>2</th>\n",
       "      <td>24142.516965</td>\n",
       "      <td>0</td>\n",
       "      <td>0.997276</td>\n",
       "      <td>-0.000015</td>\n",
       "      <td>0.000030</td>\n",
       "      <td>-0.000012</td>\n",
       "      <td>-0.000009</td>\n",
       "      <td>-4.871059</td>\n",
       "      <td>99.526227</td>\n",
       "      <td>-16.184467</td>\n",
       "      <td>0.000067</td>\n",
       "      <td>15963.393632</td>\n",
       "      <td>-10739.880071</td>\n",
       "      <td>1838.528849</td>\n",
       "    </tr>\n",
       "    <tr>\n",
       "      <th>3</th>\n",
       "      <td>24144.511512</td>\n",
       "      <td>0</td>\n",
       "      <td>1.994546</td>\n",
       "      <td>-0.000018</td>\n",
       "      <td>0.000027</td>\n",
       "      <td>0.000005</td>\n",
       "      <td>0.000001</td>\n",
       "      <td>-16.184467</td>\n",
       "      <td>-4.871059</td>\n",
       "      <td>-101.914365</td>\n",
       "      <td>0.000065</td>\n",
       "      <td>18457.947107</td>\n",
       "      <td>-8576.802672</td>\n",
       "      <td>5298.810851</td>\n",
       "    </tr>\n",
       "    <tr>\n",
       "      <th>4</th>\n",
       "      <td>24145.237001</td>\n",
       "      <td>0</td>\n",
       "      <td>0.725489</td>\n",
       "      <td>0.000026</td>\n",
       "      <td>-0.000008</td>\n",
       "      <td>0.000027</td>\n",
       "      <td>0.000033</td>\n",
       "      <td>-101.914365</td>\n",
       "      <td>-16.184467</td>\n",
       "      <td>84.064344</td>\n",
       "      <td>0.000054</td>\n",
       "      <td>-7575.844344</td>\n",
       "      <td>-30462.847067</td>\n",
       "      <td>-13084.512230</td>\n",
       "    </tr>\n",
       "  </tbody>\n",
       "</table>\n",
       "</div>"
      ],
      "text/plain": [
       "           Date  Maneuver type   Delta-t  Delta Inc X   Delta Inc Y  \\\n",
       "0  24140.749659              0  1.224519      0.000010     0.000258   \n",
       "1  24141.519689              1  0.770030     -0.000025    -0.000213   \n",
       "2  24142.516965              0  0.997276     -0.000015     0.000030   \n",
       "3  24144.511512              0  1.994546     -0.000018     0.000027   \n",
       "4  24145.237001              0  0.725489      0.000026    -0.000008   \n",
       "\n",
       "   Delta Ecc X   Delta Ecc Y  Delta Energy   Delta Energy Previous   \\\n",
       "0     -0.000058     0.000132     -46.793223                0.000000   \n",
       "1      0.000075    -0.000106      99.526227              -46.793223   \n",
       "2     -0.000012    -0.000009      -4.871059               99.526227   \n",
       "3      0.000005     0.000001     -16.184467               -4.871059   \n",
       "4      0.000027     0.000033    -101.914365              -16.184467   \n",
       "\n",
       "   Delta Energy Next  Delta Moment  Delta Out-of-plane  Delta Along-track  \\\n",
       "0          99.526227      0.000517        -4628.698901      -28711.657464   \n",
       "1          -4.871059      0.000429        35293.385259        2776.854666   \n",
       "2         -16.184467      0.000067        15963.393632      -10739.880071   \n",
       "3        -101.914365      0.000065        18457.947107       -8576.802672   \n",
       "4          84.064344      0.000054        -7575.844344      -30462.847067   \n",
       "\n",
       "   Delta Along-track avg  \n",
       "0               0.000000  \n",
       "1           15744.256065  \n",
       "2            1838.528849  \n",
       "3            5298.810851  \n",
       "4          -13084.512230  "
      ]
     },
     "execution_count": 4,
     "metadata": {},
     "output_type": "execute_result"
    }
   ],
   "source": [
    "data.head()"
   ]
  },
  {
   "cell_type": "markdown",
   "id": "2406b17e",
   "metadata": {},
   "source": [
    "# 1. Exploratory Data Analysis\n",
    "\n",
    "## Objectif :\n",
    "- Compréhension des données\n",
    "- Développer une premiere stratégie de modélisation \n",
    "\n",
    "## Checklist de base\n",
    "#### Analyse de Forme :\n",
    "- **variable target** : Maneuver type\t\n",
    "- **lignes et colonnes** : (1559, 14)\n",
    "- **types de variables** : qualitatives : 13, quantitatives : 1\n",
    "- **Analyse des valeurs manquantes** :\n",
    "    - Aucune valeur manquante\n",
    "\n",
    "#### Analyse de Fond :\n",
    "- **Visualisation de la target** :\n",
    "      Maneuver type:\n",
    "     - **Value = 0, on a 1267 acune manoeuvre**\n",
    "     - **Value = 1, on a 195 manoeuvres East/West**\n",
    "     - **Value = 2, 97   manoeuvres South/North** \n",
    "    \n",
    "    \n",
    "    \n",
    "- **Signification des variables** :\n",
    "    -  variables continues standardisées, skewed (asymétriques), Delta Ecc\n",
    "    \n",
    "\n",
    "- **Relation Variables / Target** :\n",
    "   \n",
    "    - target/Delta-t : \n",
    "    \n",
    "    - target / Delta Energy : \n",
    "    \n",
    "    \n",
    "    \n",
    "## Analyse plus détaillée\n",
    "\n",
    "- **Relation Variables / Variables** :\n",
    "    - Delta Energy / Maneuver type :  corrélation entre les deux\n",
    "    - Deta Moment / Maneuver type : \n",
    "\n",
    "\n",
    "### hypotheses nulle (H0): \n",
    "\n",
    "- \n",
    "\n",
    "    "
   ]
  },
  {
   "cell_type": "code",
   "execution_count": 4,
   "id": "8f518c19",
   "metadata": {},
   "outputs": [],
   "source": [
    "df = data.copy()"
   ]
  },
  {
   "cell_type": "code",
   "execution_count": 13,
   "id": "54f87a44",
   "metadata": {},
   "outputs": [
    {
     "data": {
      "text/plain": [
       "(1559, 14)"
      ]
     },
     "execution_count": 13,
     "metadata": {},
     "output_type": "execute_result"
    }
   ],
   "source": [
    "#Détection du nombre de lignes et colonnes\n",
    "df.shape"
   ]
  },
  {
   "cell_type": "code",
   "execution_count": 14,
   "id": "a62983a8",
   "metadata": {},
   "outputs": [
    {
     "data": {
      "text/plain": [
       "float64    13\n",
       "int64       1\n",
       "dtype: int64"
      ]
     },
     "execution_count": 14,
     "metadata": {},
     "output_type": "execute_result"
    }
   ],
   "source": [
    "#Détection du type de variable\n",
    "df.dtypes.value_counts()"
   ]
  },
  {
   "cell_type": "code",
   "execution_count": 85,
   "id": "588eccbf",
   "metadata": {},
   "outputs": [
    {
     "data": {
      "text/html": [
       "<div>\n",
       "<style scoped>\n",
       "    .dataframe tbody tr th:only-of-type {\n",
       "        vertical-align: middle;\n",
       "    }\n",
       "\n",
       "    .dataframe tbody tr th {\n",
       "        vertical-align: top;\n",
       "    }\n",
       "\n",
       "    .dataframe thead th {\n",
       "        text-align: right;\n",
       "    }\n",
       "</style>\n",
       "<table border=\"1\" class=\"dataframe\">\n",
       "  <thead>\n",
       "    <tr style=\"text-align: right;\">\n",
       "      <th></th>\n",
       "      <th>Date</th>\n",
       "      <th>Maneuver type</th>\n",
       "      <th>Delta-t</th>\n",
       "      <th>Delta Inc X</th>\n",
       "      <th>Delta Inc Y</th>\n",
       "      <th>Delta Ecc X</th>\n",
       "      <th>Delta Ecc Y</th>\n",
       "      <th>Delta Energy</th>\n",
       "      <th>Delta Energy Previous</th>\n",
       "      <th>Delta Energy Next</th>\n",
       "      <th>Delta Moment</th>\n",
       "      <th>Delta Out-of-plane</th>\n",
       "      <th>Delta Along-track</th>\n",
       "      <th>Delta Along-track avg</th>\n",
       "    </tr>\n",
       "  </thead>\n",
       "  <tbody>\n",
       "    <tr>\n",
       "      <th>0</th>\n",
       "      <td>False</td>\n",
       "      <td>False</td>\n",
       "      <td>False</td>\n",
       "      <td>False</td>\n",
       "      <td>False</td>\n",
       "      <td>False</td>\n",
       "      <td>False</td>\n",
       "      <td>False</td>\n",
       "      <td>False</td>\n",
       "      <td>False</td>\n",
       "      <td>False</td>\n",
       "      <td>False</td>\n",
       "      <td>False</td>\n",
       "      <td>False</td>\n",
       "    </tr>\n",
       "    <tr>\n",
       "      <th>1</th>\n",
       "      <td>False</td>\n",
       "      <td>False</td>\n",
       "      <td>False</td>\n",
       "      <td>False</td>\n",
       "      <td>False</td>\n",
       "      <td>False</td>\n",
       "      <td>False</td>\n",
       "      <td>False</td>\n",
       "      <td>False</td>\n",
       "      <td>False</td>\n",
       "      <td>False</td>\n",
       "      <td>False</td>\n",
       "      <td>False</td>\n",
       "      <td>False</td>\n",
       "    </tr>\n",
       "    <tr>\n",
       "      <th>2</th>\n",
       "      <td>False</td>\n",
       "      <td>False</td>\n",
       "      <td>False</td>\n",
       "      <td>False</td>\n",
       "      <td>False</td>\n",
       "      <td>False</td>\n",
       "      <td>False</td>\n",
       "      <td>False</td>\n",
       "      <td>False</td>\n",
       "      <td>False</td>\n",
       "      <td>False</td>\n",
       "      <td>False</td>\n",
       "      <td>False</td>\n",
       "      <td>False</td>\n",
       "    </tr>\n",
       "    <tr>\n",
       "      <th>3</th>\n",
       "      <td>False</td>\n",
       "      <td>False</td>\n",
       "      <td>False</td>\n",
       "      <td>False</td>\n",
       "      <td>False</td>\n",
       "      <td>False</td>\n",
       "      <td>False</td>\n",
       "      <td>False</td>\n",
       "      <td>False</td>\n",
       "      <td>False</td>\n",
       "      <td>False</td>\n",
       "      <td>False</td>\n",
       "      <td>False</td>\n",
       "      <td>False</td>\n",
       "    </tr>\n",
       "    <tr>\n",
       "      <th>4</th>\n",
       "      <td>False</td>\n",
       "      <td>False</td>\n",
       "      <td>False</td>\n",
       "      <td>False</td>\n",
       "      <td>False</td>\n",
       "      <td>False</td>\n",
       "      <td>False</td>\n",
       "      <td>False</td>\n",
       "      <td>False</td>\n",
       "      <td>False</td>\n",
       "      <td>False</td>\n",
       "      <td>False</td>\n",
       "      <td>False</td>\n",
       "      <td>False</td>\n",
       "    </tr>\n",
       "    <tr>\n",
       "      <th>...</th>\n",
       "      <td>...</td>\n",
       "      <td>...</td>\n",
       "      <td>...</td>\n",
       "      <td>...</td>\n",
       "      <td>...</td>\n",
       "      <td>...</td>\n",
       "      <td>...</td>\n",
       "      <td>...</td>\n",
       "      <td>...</td>\n",
       "      <td>...</td>\n",
       "      <td>...</td>\n",
       "      <td>...</td>\n",
       "      <td>...</td>\n",
       "      <td>...</td>\n",
       "    </tr>\n",
       "    <tr>\n",
       "      <th>1554</th>\n",
       "      <td>False</td>\n",
       "      <td>False</td>\n",
       "      <td>False</td>\n",
       "      <td>False</td>\n",
       "      <td>False</td>\n",
       "      <td>False</td>\n",
       "      <td>False</td>\n",
       "      <td>False</td>\n",
       "      <td>False</td>\n",
       "      <td>False</td>\n",
       "      <td>False</td>\n",
       "      <td>False</td>\n",
       "      <td>False</td>\n",
       "      <td>False</td>\n",
       "    </tr>\n",
       "    <tr>\n",
       "      <th>1555</th>\n",
       "      <td>False</td>\n",
       "      <td>False</td>\n",
       "      <td>False</td>\n",
       "      <td>False</td>\n",
       "      <td>False</td>\n",
       "      <td>False</td>\n",
       "      <td>False</td>\n",
       "      <td>False</td>\n",
       "      <td>False</td>\n",
       "      <td>False</td>\n",
       "      <td>False</td>\n",
       "      <td>False</td>\n",
       "      <td>False</td>\n",
       "      <td>False</td>\n",
       "    </tr>\n",
       "    <tr>\n",
       "      <th>1556</th>\n",
       "      <td>False</td>\n",
       "      <td>False</td>\n",
       "      <td>False</td>\n",
       "      <td>False</td>\n",
       "      <td>False</td>\n",
       "      <td>False</td>\n",
       "      <td>False</td>\n",
       "      <td>False</td>\n",
       "      <td>False</td>\n",
       "      <td>False</td>\n",
       "      <td>False</td>\n",
       "      <td>False</td>\n",
       "      <td>False</td>\n",
       "      <td>False</td>\n",
       "    </tr>\n",
       "    <tr>\n",
       "      <th>1557</th>\n",
       "      <td>False</td>\n",
       "      <td>False</td>\n",
       "      <td>False</td>\n",
       "      <td>False</td>\n",
       "      <td>False</td>\n",
       "      <td>False</td>\n",
       "      <td>False</td>\n",
       "      <td>False</td>\n",
       "      <td>False</td>\n",
       "      <td>False</td>\n",
       "      <td>False</td>\n",
       "      <td>False</td>\n",
       "      <td>False</td>\n",
       "      <td>False</td>\n",
       "    </tr>\n",
       "    <tr>\n",
       "      <th>1558</th>\n",
       "      <td>False</td>\n",
       "      <td>False</td>\n",
       "      <td>False</td>\n",
       "      <td>False</td>\n",
       "      <td>False</td>\n",
       "      <td>False</td>\n",
       "      <td>False</td>\n",
       "      <td>False</td>\n",
       "      <td>False</td>\n",
       "      <td>False</td>\n",
       "      <td>False</td>\n",
       "      <td>False</td>\n",
       "      <td>False</td>\n",
       "      <td>False</td>\n",
       "    </tr>\n",
       "  </tbody>\n",
       "</table>\n",
       "<p>1559 rows × 14 columns</p>\n",
       "</div>"
      ],
      "text/plain": [
       "       Date  Maneuver type  Delta-t  Delta Inc X   Delta Inc Y  Delta Ecc X   \\\n",
       "0     False          False    False         False        False         False   \n",
       "1     False          False    False         False        False         False   \n",
       "2     False          False    False         False        False         False   \n",
       "3     False          False    False         False        False         False   \n",
       "4     False          False    False         False        False         False   \n",
       "...     ...            ...      ...           ...          ...           ...   \n",
       "1554  False          False    False         False        False         False   \n",
       "1555  False          False    False         False        False         False   \n",
       "1556  False          False    False         False        False         False   \n",
       "1557  False          False    False         False        False         False   \n",
       "1558  False          False    False         False        False         False   \n",
       "\n",
       "      Delta Ecc Y  Delta Energy   Delta Energy Previous   Delta Energy Next  \\\n",
       "0           False          False                   False              False   \n",
       "1           False          False                   False              False   \n",
       "2           False          False                   False              False   \n",
       "3           False          False                   False              False   \n",
       "4           False          False                   False              False   \n",
       "...           ...            ...                     ...                ...   \n",
       "1554        False          False                   False              False   \n",
       "1555        False          False                   False              False   \n",
       "1556        False          False                   False              False   \n",
       "1557        False          False                   False              False   \n",
       "1558        False          False                   False              False   \n",
       "\n",
       "      Delta Moment  Delta Out-of-plane  Delta Along-track  \\\n",
       "0            False               False              False   \n",
       "1            False               False              False   \n",
       "2            False               False              False   \n",
       "3            False               False              False   \n",
       "4            False               False              False   \n",
       "...            ...                 ...                ...   \n",
       "1554         False               False              False   \n",
       "1555         False               False              False   \n",
       "1556         False               False              False   \n",
       "1557         False               False              False   \n",
       "1558         False               False              False   \n",
       "\n",
       "      Delta Along-track avg  \n",
       "0                     False  \n",
       "1                     False  \n",
       "2                     False  \n",
       "3                     False  \n",
       "4                     False  \n",
       "...                     ...  \n",
       "1554                  False  \n",
       "1555                  False  \n",
       "1556                  False  \n",
       "1557                  False  \n",
       "1558                  False  \n",
       "\n",
       "[1559 rows x 14 columns]"
      ]
     },
     "execution_count": 85,
     "metadata": {},
     "output_type": "execute_result"
    }
   ],
   "source": [
    "#Toujours dans la phase d'analyse on affiche notre dataset dans une image\n",
    "df.isna()"
   ]
  },
  {
   "cell_type": "code",
   "execution_count": 86,
   "id": "ec2aa1a5",
   "metadata": {},
   "outputs": [
    {
     "data": {
      "text/plain": [
       "<AxesSubplot:>"
      ]
     },
     "execution_count": 86,
     "metadata": {},
     "output_type": "execute_result"
    },
    {
     "data": {
      "image/png": "[encoded data removed]",
      "text/plain": [
       "<Figure size 1440x720 with 1 Axes>"
      ]
     },
     "metadata": {
      "needs_background": "light"
     },
     "output_type": "display_data"
    }
   ],
   "source": [
    "#Cette figure illustre parfaitement le fait que notre dataset n'a aucune valeur manquante\n",
    "#Ce qui est une très bonne nouvelle hiihi ^^\n",
    "\n",
    "plt.figure(figsize=(20,10))\n",
    "sns.heatmap(df.isna(), cbar=False)"
   ]
  },
  {
   "cell_type": "code",
   "execution_count": 5,
   "id": "2b882a5d",
   "metadata": {},
   "outputs": [],
   "source": [
    "#Suppression de  Delta Out-of-plane, Delta Along-track et Delta Along-track avg\n",
    "#Car pas important et données de calcul de ces valeurs manquantes dans le word\n",
    "\n",
    "df = df.drop('Delta Out-of-plane', axis=1)\n",
    "df = df.drop('Delta Along-track', axis=1)\n",
    "df = df.drop('Delta Along-track avg', axis=1)\n"
   ]
  },
  {
   "cell_type": "code",
   "execution_count": 16,
   "id": "dcd4515d",
   "metadata": {},
   "outputs": [
    {
     "data": {
      "text/html": [
       "<div>\n",
       "<style scoped>\n",
       "    .dataframe tbody tr th:only-of-type {\n",
       "        vertical-align: middle;\n",
       "    }\n",
       "\n",
       "    .dataframe tbody tr th {\n",
       "        vertical-align: top;\n",
       "    }\n",
       "\n",
       "    .dataframe thead th {\n",
       "        text-align: right;\n",
       "    }\n",
       "</style>\n",
       "<table border=\"1\" class=\"dataframe\">\n",
       "  <thead>\n",
       "    <tr style=\"text-align: right;\">\n",
       "      <th></th>\n",
       "      <th>Date</th>\n",
       "      <th>Maneuver type</th>\n",
       "      <th>Delta-t</th>\n",
       "      <th>Delta Inc X</th>\n",
       "      <th>Delta Inc Y</th>\n",
       "      <th>Delta Ecc X</th>\n",
       "      <th>Delta Ecc Y</th>\n",
       "      <th>Delta Energy</th>\n",
       "      <th>Delta Energy Previous</th>\n",
       "      <th>Delta Energy Next</th>\n",
       "      <th>Delta Moment</th>\n",
       "    </tr>\n",
       "  </thead>\n",
       "  <tbody>\n",
       "    <tr>\n",
       "      <th>0</th>\n",
       "      <td>24140.749659</td>\n",
       "      <td>0</td>\n",
       "      <td>1.224519</td>\n",
       "      <td>0.000010</td>\n",
       "      <td>0.000258</td>\n",
       "      <td>-0.000058</td>\n",
       "      <td>0.000132</td>\n",
       "      <td>-46.793223</td>\n",
       "      <td>0.000000</td>\n",
       "      <td>99.526227</td>\n",
       "      <td>0.000517</td>\n",
       "    </tr>\n",
       "    <tr>\n",
       "      <th>1</th>\n",
       "      <td>24141.519689</td>\n",
       "      <td>1</td>\n",
       "      <td>0.770030</td>\n",
       "      <td>-0.000025</td>\n",
       "      <td>-0.000213</td>\n",
       "      <td>0.000075</td>\n",
       "      <td>-0.000106</td>\n",
       "      <td>99.526227</td>\n",
       "      <td>-46.793223</td>\n",
       "      <td>-4.871059</td>\n",
       "      <td>0.000429</td>\n",
       "    </tr>\n",
       "    <tr>\n",
       "      <th>2</th>\n",
       "      <td>24142.516965</td>\n",
       "      <td>0</td>\n",
       "      <td>0.997276</td>\n",
       "      <td>-0.000015</td>\n",
       "      <td>0.000030</td>\n",
       "      <td>-0.000012</td>\n",
       "      <td>-0.000009</td>\n",
       "      <td>-4.871059</td>\n",
       "      <td>99.526227</td>\n",
       "      <td>-16.184467</td>\n",
       "      <td>0.000067</td>\n",
       "    </tr>\n",
       "    <tr>\n",
       "      <th>3</th>\n",
       "      <td>24144.511512</td>\n",
       "      <td>0</td>\n",
       "      <td>1.994546</td>\n",
       "      <td>-0.000018</td>\n",
       "      <td>0.000027</td>\n",
       "      <td>0.000005</td>\n",
       "      <td>0.000001</td>\n",
       "      <td>-16.184467</td>\n",
       "      <td>-4.871059</td>\n",
       "      <td>-101.914365</td>\n",
       "      <td>0.000065</td>\n",
       "    </tr>\n",
       "    <tr>\n",
       "      <th>4</th>\n",
       "      <td>24145.237001</td>\n",
       "      <td>0</td>\n",
       "      <td>0.725489</td>\n",
       "      <td>0.000026</td>\n",
       "      <td>-0.000008</td>\n",
       "      <td>0.000027</td>\n",
       "      <td>0.000033</td>\n",
       "      <td>-101.914365</td>\n",
       "      <td>-16.184467</td>\n",
       "      <td>84.064344</td>\n",
       "      <td>0.000054</td>\n",
       "    </tr>\n",
       "  </tbody>\n",
       "</table>\n",
       "</div>"
      ],
      "text/plain": [
       "           Date  Maneuver type   Delta-t  Delta Inc X   Delta Inc Y  \\\n",
       "0  24140.749659              0  1.224519      0.000010     0.000258   \n",
       "1  24141.519689              1  0.770030     -0.000025    -0.000213   \n",
       "2  24142.516965              0  0.997276     -0.000015     0.000030   \n",
       "3  24144.511512              0  1.994546     -0.000018     0.000027   \n",
       "4  24145.237001              0  0.725489      0.000026    -0.000008   \n",
       "\n",
       "   Delta Ecc X   Delta Ecc Y  Delta Energy   Delta Energy Previous   \\\n",
       "0     -0.000058     0.000132     -46.793223                0.000000   \n",
       "1      0.000075    -0.000106      99.526227              -46.793223   \n",
       "2     -0.000012    -0.000009      -4.871059               99.526227   \n",
       "3      0.000005     0.000001     -16.184467               -4.871059   \n",
       "4      0.000027     0.000033    -101.914365              -16.184467   \n",
       "\n",
       "   Delta Energy Next  Delta Moment  \n",
       "0          99.526227      0.000517  \n",
       "1          -4.871059      0.000429  \n",
       "2         -16.184467      0.000067  \n",
       "3        -101.914365      0.000065  \n",
       "4          84.064344      0.000054  "
      ]
     },
     "execution_count": 16,
     "metadata": {},
     "output_type": "execute_result"
    }
   ],
   "source": [
    "df.head()"
   ]
  },
  {
   "cell_type": "markdown",
   "id": "1639d74a",
   "metadata": {},
   "source": [
    "### Examen de la colonne target"
   ]
  },
  {
   "cell_type": "code",
   "execution_count": 6,
   "id": "2be6065d",
   "metadata": {},
   "outputs": [
    {
     "data": {
      "text/plain": [
       "0    1267\n",
       "1     195\n",
       "2      97\n",
       "Name: Maneuver type, dtype: int64"
      ]
     },
     "execution_count": 6,
     "metadata": {},
     "output_type": "execute_result"
    }
   ],
   "source": [
    "df['Maneuver type'].value_counts()"
   ]
  },
  {
   "cell_type": "markdown",
   "id": "29bc3085",
   "metadata": {},
   "source": [
    "### histogrames des variables continues "
   ]
  },
  {
   "cell_type": "code",
   "execution_count": 7,
   "id": "0e3288b2",
   "metadata": {},
   "outputs": [
    {
     "data": {
      "image/png": "[encoded data removed]",
      "text/plain": [
       "<Figure size 432x288 with 1 Axes>"
      ]
     },
     "metadata": {
      "needs_background": "light"
     },
     "output_type": "display_data"
    },
    {
     "data": {
      "image/png": "[encoded data removed]",
      "text/plain": [
       "<Figure size 432x288 with 1 Axes>"
      ]
     },
     "metadata": {
      "needs_background": "light"
     },
     "output_type": "display_data"
    },
    {
     "data": {
      "image/png": "[encoded data removed]",
      "text/plain": [
       "<Figure size 432x288 with 1 Axes>"
      ]
     },
     "metadata": {
      "needs_background": "light"
     },
     "output_type": "display_data"
    },
    {
     "data": {
      "image/png": "[encoded data removed]",
      "text/plain": [
       "<Figure size 432x288 with 1 Axes>"
      ]
     },
     "metadata": {
      "needs_background": "light"
     },
     "output_type": "display_data"
    },
    {
     "data": {
      "image/png": "[encoded data removed]",
      "text/plain": [
       "<Figure size 432x288 with 1 Axes>"
      ]
     },
     "metadata": {
      "needs_background": "light"
     },
     "output_type": "display_data"
    },
    {
     "data": {
      "image/png": "[encoded data removed]",
      "text/plain": [
       "<Figure size 432x288 with 1 Axes>"
      ]
     },
     "metadata": {
      "needs_background": "light"
     },
     "output_type": "display_data"
    },
    {
     "data": {
      "image/png": "[encoded data removed]",
      "text/plain": [
       "<Figure size 432x288 with 1 Axes>"
      ]
     },
     "metadata": {
      "needs_background": "light"
     },
     "output_type": "display_data"
    },
    {
     "data": {
      "image/png": "[encoded data removed]",
      "text/plain": [
       "<Figure size 432x288 with 1 Axes>"
      ]
     },
     "metadata": {
      "needs_background": "light"
     },
     "output_type": "display_data"
    },
    {
     "data": {
      "image/png": "[encoded data removed]",
      "text/plain": [
       "<Figure size 432x288 with 1 Axes>"
      ]
     },
     "metadata": {
      "needs_background": "light"
     },
     "output_type": "display_data"
    },
    {
     "data": {
      "image/png": "[encoded data removed]",
      "text/plain": [
       "<Figure size 432x288 with 1 Axes>"
      ]
     },
     "metadata": {
      "needs_background": "light"
     },
     "output_type": "display_data"
    }
   ],
   "source": [
    "for col in df.select_dtypes('float'):\n",
    "    plt.figure()\n",
    "    sns.histplot(df[col])\n",
    "    "
   ]
  },
  {
   "cell_type": "markdown",
   "id": "5af84a69",
   "metadata": {},
   "source": [
    "## Relation Target / Variables\n",
    "### Création de sous-ensembles East/West, South/North et None"
   ]
  },
  {
   "cell_type": "code",
   "execution_count": 114,
   "id": "d33ce709",
   "metadata": {},
   "outputs": [],
   "source": [
    "eastW_df = df[df['Maneuver type'] == 1]"
   ]
  },
  {
   "cell_type": "code",
   "execution_count": 117,
   "id": "759a4d0a",
   "metadata": {},
   "outputs": [],
   "source": [
    "southN_df = df[df['Maneuver type'] == 2]"
   ]
  },
  {
   "cell_type": "code",
   "execution_count": 118,
   "id": "56ccbd40",
   "metadata": {},
   "outputs": [],
   "source": [
    "none_df = df[df['Maneuver type'] == 0]"
   ]
  },
  {
   "cell_type": "markdown",
   "id": "2334464e",
   "metadata": {},
   "source": [
    "### Relation Target / Delta-t"
   ]
  },
  {
   "cell_type": "code",
   "execution_count": 150,
   "id": "e3e7f18f",
   "metadata": {},
   "outputs": [
    {
     "data": {
      "image/png": "[encoded data removed]",
      "text/plain": [
       "<Figure size 1440x720 with 1 Axes>"
      ]
     },
     "metadata": {
      "needs_background": "light"
     },
     "output_type": "display_data"
    }
   ],
   "source": [
    "plt.figure(figsize=(20,10))\n",
    "ax = sns.countplot(x='Delta-t', hue='Maneuver type', data=df)\n",
    "plt.show()"
   ]
  },
  {
   "cell_type": "markdown",
   "id": "5d75814d",
   "metadata": {},
   "source": [
    "### Relation Target / Delta-Energy"
   ]
  },
  {
   "cell_type": "code",
   "execution_count": null,
   "id": "9a7332f6",
   "metadata": {},
   "outputs": [],
   "source": []
  },
  {
   "cell_type": "code",
   "execution_count": 148,
   "id": "fbc843c1",
   "metadata": {},
   "outputs": [
    {
     "data": {
      "image/png": "[encoded data removed]",
      "text/plain": [
       "<Figure size 1440x720 with 1 Axes>"
      ]
     },
     "metadata": {
      "needs_background": "light"
     },
     "output_type": "display_data"
    }
   ],
   "source": [
    "plt.figure(figsize=(20,10))\n",
    "ax = sns.countplot(x='Delta Energy ', hue='Maneuver type', data=df)\n",
    "plt.show()"
   ]
  },
  {
   "cell_type": "markdown",
   "id": "0d8ef686",
   "metadata": {},
   "source": [
    "### Relation Target / Delta Moment"
   ]
  },
  {
   "cell_type": "code",
   "execution_count": 147,
   "id": "c35274bd",
   "metadata": {},
   "outputs": [
    {
     "data": {
      "image/png": "[encoded data removed]",
      "text/plain": [
       "<Figure size 1440x720 with 1 Axes>"
      ]
     },
     "metadata": {
      "needs_background": "light"
     },
     "output_type": "display_data"
    }
   ],
   "source": [
    "plt.figure(figsize=(20,10))\n",
    "ax = sns.countplot(x='Delta Moment', hue='Maneuver type', data=df)\n",
    "plt.show()"
   ]
  },
  {
   "cell_type": "markdown",
   "id": "27ae9b95",
   "metadata": {},
   "source": [
    "## Analyse un peu plus Avancée\n",
    "### Relation Variables / Variables"
   ]
  },
  {
   "cell_type": "markdown",
   "id": "13e33ece",
   "metadata": {},
   "source": [
    "## Relation Ecc x / Delta Energy"
   ]
  },
  {
   "cell_type": "code",
   "execution_count": 164,
   "id": "f2e43bb7",
   "metadata": {},
   "outputs": [
    {
     "data": {
      "text/plain": [
       "Delta Energy Next        -0.167058\n",
       "Delta Energy Previous    -0.167039\n",
       "Delta Inc X              -0.061107\n",
       "Delta Moment             -0.053924\n",
       "Delta Ecc Y              -0.005366\n",
       "Date                     -0.001923\n",
       "Delta-t                   0.006948\n",
       "Delta Ecc X               0.011861\n",
       "Delta Inc Y               0.097566\n",
       "Maneuver type             0.352029\n",
       "Delta Energy              1.000000\n",
       "Name: Delta Energy , dtype: float64"
      ]
     },
     "execution_count": 164,
     "metadata": {},
     "output_type": "execute_result"
    }
   ],
   "source": [
    "\n",
    "df.corr()['Delta Energy '].sort_values()"
   ]
  },
  {
   "cell_type": "code",
   "execution_count": 165,
   "id": "b96197c2",
   "metadata": {},
   "outputs": [
    {
     "data": {
      "text/plain": [
       "Delta Inc Y              -0.504090\n",
       "Date                     -0.102756\n",
       "Delta Energy Previous    -0.062981\n",
       "Delta Energy             -0.053924\n",
       "Delta Ecc X              -0.012610\n",
       "Delta Energy Next        -0.008701\n",
       "Delta Ecc Y               0.012006\n",
       "Delta-t                   0.017220\n",
       "Delta Inc X               0.270260\n",
       "Maneuver type             0.563152\n",
       "Delta Moment              1.000000\n",
       "Name: Delta Moment, dtype: float64"
      ]
     },
     "execution_count": 165,
     "metadata": {},
     "output_type": "execute_result"
    }
   ],
   "source": [
    "\n",
    "df.corr()['Delta Moment'].sort_values()"
   ]
  },
  {
   "cell_type": "markdown",
   "id": "36bf9907",
   "metadata": {},
   "source": [
    "# PRE-PROCESSING"
   ]
  },
  {
   "cell_type": "code",
   "execution_count": 9,
   "id": "dbf79f08",
   "metadata": {},
   "outputs": [],
   "source": [
    "df = data.copy()"
   ]
  },
  {
   "cell_type": "code",
   "execution_count": 18,
   "id": "e939b8dd",
   "metadata": {},
   "outputs": [
    {
     "data": {
      "text/plain": [
       "Index(['Date', 'Maneuver type', 'Delta-t', 'Delta Inc X ', 'Delta Inc Y',\n",
       "       'Delta Ecc X ', 'Delta Ecc Y', 'Delta Energy ',\n",
       "       'Delta Energy Previous ', 'Delta Energy Next', 'Delta Moment',\n",
       "       'Delta Out-of-plane', 'Delta Along-track', 'Delta Along-track avg'],\n",
       "      dtype='object')"
      ]
     },
     "execution_count": 18,
     "metadata": {},
     "output_type": "execute_result"
    }
   ],
   "source": [
    "df.head()\n",
    "df.columns"
   ]
  },
  {
   "cell_type": "code",
   "execution_count": 41,
   "id": "278b9ded",
   "metadata": {},
   "outputs": [],
   "source": [
    "df = df.drop('Delta Out-of-plane', axis=1)\n",
    "df = df.drop('Delta Along-track', axis=1)\n",
    "df = df.drop('Delta Along-track avg', axis=1)\n",
    "df = df.drop('Date', axis=1)\n",
    "#df = df.drop('Delta-t', axis=1)\n",
    "#df = df.drop('Delta Inc X ', axis=1)\n",
    "#df = df.drop('Delta Ecc X ', axis=1)\n",
    "#df = df.drop('Delta Ecc Y', axis=1)\n"
   ]
  },
  {
   "cell_type": "code",
   "execution_count": 40,
   "id": "56227803",
   "metadata": {},
   "outputs": [
    {
     "data": {
      "text/html": [
       "<div>\n",
       "<style scoped>\n",
       "    .dataframe tbody tr th:only-of-type {\n",
       "        vertical-align: middle;\n",
       "    }\n",
       "\n",
       "    .dataframe tbody tr th {\n",
       "        vertical-align: top;\n",
       "    }\n",
       "\n",
       "    .dataframe thead th {\n",
       "        text-align: right;\n",
       "    }\n",
       "</style>\n",
       "<table border=\"1\" class=\"dataframe\">\n",
       "  <thead>\n",
       "    <tr style=\"text-align: right;\">\n",
       "      <th></th>\n",
       "      <th>Maneuver type</th>\n",
       "      <th>Delta-t</th>\n",
       "      <th>Delta Inc X</th>\n",
       "      <th>Delta Inc Y</th>\n",
       "      <th>Delta Ecc X</th>\n",
       "      <th>Delta Ecc Y</th>\n",
       "      <th>Delta Energy</th>\n",
       "      <th>Delta Energy Previous</th>\n",
       "      <th>Delta Energy Next</th>\n",
       "      <th>Delta Moment</th>\n",
       "    </tr>\n",
       "  </thead>\n",
       "  <tbody>\n",
       "    <tr>\n",
       "      <th>0</th>\n",
       "      <td>0</td>\n",
       "      <td>1.224519</td>\n",
       "      <td>0.000010</td>\n",
       "      <td>0.000258</td>\n",
       "      <td>-0.000058</td>\n",
       "      <td>0.000132</td>\n",
       "      <td>-46.793223</td>\n",
       "      <td>0.000000</td>\n",
       "      <td>99.526227</td>\n",
       "      <td>0.000517</td>\n",
       "    </tr>\n",
       "    <tr>\n",
       "      <th>1</th>\n",
       "      <td>1</td>\n",
       "      <td>0.770030</td>\n",
       "      <td>-0.000025</td>\n",
       "      <td>-0.000213</td>\n",
       "      <td>0.000075</td>\n",
       "      <td>-0.000106</td>\n",
       "      <td>99.526227</td>\n",
       "      <td>-46.793223</td>\n",
       "      <td>-4.871059</td>\n",
       "      <td>0.000429</td>\n",
       "    </tr>\n",
       "    <tr>\n",
       "      <th>2</th>\n",
       "      <td>0</td>\n",
       "      <td>0.997276</td>\n",
       "      <td>-0.000015</td>\n",
       "      <td>0.000030</td>\n",
       "      <td>-0.000012</td>\n",
       "      <td>-0.000009</td>\n",
       "      <td>-4.871059</td>\n",
       "      <td>99.526227</td>\n",
       "      <td>-16.184467</td>\n",
       "      <td>0.000067</td>\n",
       "    </tr>\n",
       "    <tr>\n",
       "      <th>3</th>\n",
       "      <td>0</td>\n",
       "      <td>1.994546</td>\n",
       "      <td>-0.000018</td>\n",
       "      <td>0.000027</td>\n",
       "      <td>0.000005</td>\n",
       "      <td>0.000001</td>\n",
       "      <td>-16.184467</td>\n",
       "      <td>-4.871059</td>\n",
       "      <td>-101.914365</td>\n",
       "      <td>0.000065</td>\n",
       "    </tr>\n",
       "    <tr>\n",
       "      <th>4</th>\n",
       "      <td>0</td>\n",
       "      <td>0.725489</td>\n",
       "      <td>0.000026</td>\n",
       "      <td>-0.000008</td>\n",
       "      <td>0.000027</td>\n",
       "      <td>0.000033</td>\n",
       "      <td>-101.914365</td>\n",
       "      <td>-16.184467</td>\n",
       "      <td>84.064344</td>\n",
       "      <td>0.000054</td>\n",
       "    </tr>\n",
       "  </tbody>\n",
       "</table>\n",
       "</div>"
      ],
      "text/plain": [
       "   Maneuver type   Delta-t  Delta Inc X   Delta Inc Y  Delta Ecc X   \\\n",
       "0              0  1.224519      0.000010     0.000258     -0.000058   \n",
       "1              1  0.770030     -0.000025    -0.000213      0.000075   \n",
       "2              0  0.997276     -0.000015     0.000030     -0.000012   \n",
       "3              0  1.994546     -0.000018     0.000027      0.000005   \n",
       "4              0  0.725489      0.000026    -0.000008      0.000027   \n",
       "\n",
       "   Delta Ecc Y  Delta Energy   Delta Energy Previous   Delta Energy Next  \\\n",
       "0     0.000132     -46.793223                0.000000          99.526227   \n",
       "1    -0.000106      99.526227              -46.793223          -4.871059   \n",
       "2    -0.000009      -4.871059               99.526227         -16.184467   \n",
       "3     0.000001     -16.184467               -4.871059        -101.914365   \n",
       "4     0.000033    -101.914365              -16.184467          84.064344   \n",
       "\n",
       "   Delta Moment  \n",
       "0      0.000517  \n",
       "1      0.000429  \n",
       "2      0.000067  \n",
       "3      0.000065  \n",
       "4      0.000054  "
      ]
     },
     "execution_count": 40,
     "metadata": {},
     "output_type": "execute_result"
    }
   ],
   "source": [
    "df.head()"
   ]
  },
  {
   "cell_type": "markdown",
   "id": "ba1911ba",
   "metadata": {},
   "source": [
    "## TrainTest - Nettoyage - Encodage"
   ]
  },
  {
   "cell_type": "code",
   "execution_count": 7,
   "id": "a8f3c57c",
   "metadata": {},
   "outputs": [],
   "source": [
    "from sklearn.model_selection import train_test_split"
   ]
  },
  {
   "cell_type": "markdown",
   "id": "66eea84a",
   "metadata": {},
   "source": [
    "## TrainTest (de 1 a 1000)- Nettoyage - Encodage\n"
   ]
  },
  {
   "cell_type": "code",
   "execution_count": 19,
   "id": "d8947bcf",
   "metadata": {},
   "outputs": [],
   "source": [
    "#Création de deux dataset un dataset pour la validation et un autre pour les tes\n",
    "trainset, testset = train_test_split(df, test_size=0.358, shuffle=False)"
   ]
  },
  {
   "cell_type": "code",
   "execution_count": null,
   "id": "25103374",
   "metadata": {},
   "outputs": [],
   "source": [
    "## Réseau de neuronnes"
   ]
  },
  {
   "cell_type": "code",
   "execution_count": 17,
   "id": "aea845fc",
   "metadata": {},
   "outputs": [],
   "source": [
    "#Création de deux dataset un dataset pour la validation et un autre pour les tes\n",
    "trainsetr, testsetr = train_test_split(df, test_size=0.358, shuffle=False)"
   ]
  },
  {
   "cell_type": "code",
   "execution_count": 106,
   "id": "db331dc7",
   "metadata": {},
   "outputs": [
    {
     "data": {
      "text/plain": [
       "(1000, 10)"
      ]
     },
     "execution_count": 106,
     "metadata": {},
     "output_type": "execute_result"
    }
   ],
   "source": [
    "trainset.shape"
   ]
  },
  {
   "cell_type": "code",
   "execution_count": 107,
   "id": "bd9bb378",
   "metadata": {},
   "outputs": [
    {
     "data": {
      "text/plain": [
       "(559, 10)"
      ]
     },
     "execution_count": 107,
     "metadata": {},
     "output_type": "execute_result"
    }
   ],
   "source": [
    "testset.shape"
   ]
  },
  {
   "cell_type": "code",
   "execution_count": 108,
   "id": "d84d9250",
   "metadata": {},
   "outputs": [
    {
     "data": {
      "text/plain": [
       "0    790\n",
       "1    141\n",
       "2     69\n",
       "Name: Maneuver type, dtype: int64"
      ]
     },
     "execution_count": 108,
     "metadata": {},
     "output_type": "execute_result"
    }
   ],
   "source": [
    "trainset['Maneuver type'].value_counts()"
   ]
  },
  {
   "cell_type": "code",
   "execution_count": 110,
   "id": "dfc4778e",
   "metadata": {},
   "outputs": [
    {
     "data": {
      "text/html": [
       "<div>\n",
       "<style scoped>\n",
       "    .dataframe tbody tr th:only-of-type {\n",
       "        vertical-align: middle;\n",
       "    }\n",
       "\n",
       "    .dataframe tbody tr th {\n",
       "        vertical-align: top;\n",
       "    }\n",
       "\n",
       "    .dataframe thead th {\n",
       "        text-align: right;\n",
       "    }\n",
       "</style>\n",
       "<table border=\"1\" class=\"dataframe\">\n",
       "  <thead>\n",
       "    <tr style=\"text-align: right;\">\n",
       "      <th></th>\n",
       "      <th>Maneuver type</th>\n",
       "      <th>Delta-t</th>\n",
       "      <th>Delta Inc X</th>\n",
       "      <th>Delta Inc Y</th>\n",
       "      <th>Delta Ecc X</th>\n",
       "      <th>Delta Ecc Y</th>\n",
       "      <th>Delta Energy</th>\n",
       "      <th>Delta Energy Previous</th>\n",
       "      <th>Delta Energy Next</th>\n",
       "      <th>Delta Moment</th>\n",
       "    </tr>\n",
       "  </thead>\n",
       "  <tbody>\n",
       "    <tr>\n",
       "      <th>0</th>\n",
       "      <td>0</td>\n",
       "      <td>1.224519</td>\n",
       "      <td>0.000010</td>\n",
       "      <td>0.000258</td>\n",
       "      <td>-0.000058</td>\n",
       "      <td>0.000132</td>\n",
       "      <td>-46.793223</td>\n",
       "      <td>0.000000</td>\n",
       "      <td>99.526227</td>\n",
       "      <td>0.000517</td>\n",
       "    </tr>\n",
       "    <tr>\n",
       "      <th>1</th>\n",
       "      <td>1</td>\n",
       "      <td>0.770030</td>\n",
       "      <td>-0.000025</td>\n",
       "      <td>-0.000213</td>\n",
       "      <td>0.000075</td>\n",
       "      <td>-0.000106</td>\n",
       "      <td>99.526227</td>\n",
       "      <td>-46.793223</td>\n",
       "      <td>-4.871059</td>\n",
       "      <td>0.000429</td>\n",
       "    </tr>\n",
       "    <tr>\n",
       "      <th>2</th>\n",
       "      <td>0</td>\n",
       "      <td>0.997276</td>\n",
       "      <td>-0.000015</td>\n",
       "      <td>0.000030</td>\n",
       "      <td>-0.000012</td>\n",
       "      <td>-0.000009</td>\n",
       "      <td>-4.871059</td>\n",
       "      <td>99.526227</td>\n",
       "      <td>-16.184467</td>\n",
       "      <td>0.000067</td>\n",
       "    </tr>\n",
       "    <tr>\n",
       "      <th>3</th>\n",
       "      <td>0</td>\n",
       "      <td>1.994546</td>\n",
       "      <td>-0.000018</td>\n",
       "      <td>0.000027</td>\n",
       "      <td>0.000005</td>\n",
       "      <td>0.000001</td>\n",
       "      <td>-16.184467</td>\n",
       "      <td>-4.871059</td>\n",
       "      <td>-101.914365</td>\n",
       "      <td>0.000065</td>\n",
       "    </tr>\n",
       "    <tr>\n",
       "      <th>4</th>\n",
       "      <td>0</td>\n",
       "      <td>0.725489</td>\n",
       "      <td>0.000026</td>\n",
       "      <td>-0.000008</td>\n",
       "      <td>0.000027</td>\n",
       "      <td>0.000033</td>\n",
       "      <td>-101.914365</td>\n",
       "      <td>-16.184467</td>\n",
       "      <td>84.064344</td>\n",
       "      <td>0.000054</td>\n",
       "    </tr>\n",
       "  </tbody>\n",
       "</table>\n",
       "</div>"
      ],
      "text/plain": [
       "   Maneuver type   Delta-t  Delta Inc X   Delta Inc Y  Delta Ecc X   \\\n",
       "0              0  1.224519      0.000010     0.000258     -0.000058   \n",
       "1              1  0.770030     -0.000025    -0.000213      0.000075   \n",
       "2              0  0.997276     -0.000015     0.000030     -0.000012   \n",
       "3              0  1.994546     -0.000018     0.000027      0.000005   \n",
       "4              0  0.725489      0.000026    -0.000008      0.000027   \n",
       "\n",
       "   Delta Ecc Y  Delta Energy   Delta Energy Previous   Delta Energy Next  \\\n",
       "0     0.000132     -46.793223                0.000000          99.526227   \n",
       "1    -0.000106      99.526227              -46.793223          -4.871059   \n",
       "2    -0.000009      -4.871059               99.526227         -16.184467   \n",
       "3     0.000001     -16.184467               -4.871059        -101.914365   \n",
       "4     0.000033    -101.914365              -16.184467          84.064344   \n",
       "\n",
       "   Delta Moment  \n",
       "0      0.000517  \n",
       "1      0.000429  \n",
       "2      0.000067  \n",
       "3      0.000065  \n",
       "4      0.000054  "
      ]
     },
     "execution_count": 110,
     "metadata": {},
     "output_type": "execute_result"
    }
   ],
   "source": [
    "trainset.head()"
   ]
  },
  {
   "cell_type": "code",
   "execution_count": 111,
   "id": "4a011ccf",
   "metadata": {},
   "outputs": [
    {
     "data": {
      "text/html": [
       "<div>\n",
       "<style scoped>\n",
       "    .dataframe tbody tr th:only-of-type {\n",
       "        vertical-align: middle;\n",
       "    }\n",
       "\n",
       "    .dataframe tbody tr th {\n",
       "        vertical-align: top;\n",
       "    }\n",
       "\n",
       "    .dataframe thead th {\n",
       "        text-align: right;\n",
       "    }\n",
       "</style>\n",
       "<table border=\"1\" class=\"dataframe\">\n",
       "  <thead>\n",
       "    <tr style=\"text-align: right;\">\n",
       "      <th></th>\n",
       "      <th>Maneuver type</th>\n",
       "      <th>Delta-t</th>\n",
       "      <th>Delta Inc X</th>\n",
       "      <th>Delta Inc Y</th>\n",
       "      <th>Delta Ecc X</th>\n",
       "      <th>Delta Ecc Y</th>\n",
       "      <th>Delta Energy</th>\n",
       "      <th>Delta Energy Previous</th>\n",
       "      <th>Delta Energy Next</th>\n",
       "      <th>Delta Moment</th>\n",
       "    </tr>\n",
       "  </thead>\n",
       "  <tbody>\n",
       "    <tr>\n",
       "      <th>1000</th>\n",
       "      <td>0</td>\n",
       "      <td>0.997257</td>\n",
       "      <td>0.000005</td>\n",
       "      <td>-0.000012</td>\n",
       "      <td>0.000007</td>\n",
       "      <td>0.000000</td>\n",
       "      <td>-14.550189</td>\n",
       "      <td>-13.513155</td>\n",
       "      <td>-15.932903</td>\n",
       "      <td>0.000027</td>\n",
       "    </tr>\n",
       "    <tr>\n",
       "      <th>1001</th>\n",
       "      <td>0</td>\n",
       "      <td>0.997254</td>\n",
       "      <td>0.000011</td>\n",
       "      <td>-0.000021</td>\n",
       "      <td>0.000005</td>\n",
       "      <td>0.000002</td>\n",
       "      <td>-15.932903</td>\n",
       "      <td>-14.550189</td>\n",
       "      <td>138.180332</td>\n",
       "      <td>0.000048</td>\n",
       "    </tr>\n",
       "    <tr>\n",
       "      <th>1002</th>\n",
       "      <td>1</td>\n",
       "      <td>0.997238</td>\n",
       "      <td>-0.000031</td>\n",
       "      <td>0.000025</td>\n",
       "      <td>0.000022</td>\n",
       "      <td>-0.000013</td>\n",
       "      <td>138.180332</td>\n",
       "      <td>-15.932903</td>\n",
       "      <td>-5.845286</td>\n",
       "      <td>0.000080</td>\n",
       "    </tr>\n",
       "    <tr>\n",
       "      <th>1003</th>\n",
       "      <td>0</td>\n",
       "      <td>0.997283</td>\n",
       "      <td>0.000002</td>\n",
       "      <td>0.000007</td>\n",
       "      <td>0.000004</td>\n",
       "      <td>-0.000000</td>\n",
       "      <td>-5.845286</td>\n",
       "      <td>138.180332</td>\n",
       "      <td>-15.493132</td>\n",
       "      <td>0.000014</td>\n",
       "    </tr>\n",
       "    <tr>\n",
       "      <th>1004</th>\n",
       "      <td>0</td>\n",
       "      <td>0.997280</td>\n",
       "      <td>0.000002</td>\n",
       "      <td>0.000016</td>\n",
       "      <td>0.000002</td>\n",
       "      <td>0.000004</td>\n",
       "      <td>-15.493132</td>\n",
       "      <td>-5.845286</td>\n",
       "      <td>-29.697718</td>\n",
       "      <td>0.000032</td>\n",
       "    </tr>\n",
       "  </tbody>\n",
       "</table>\n",
       "</div>"
      ],
      "text/plain": [
       "      Maneuver type   Delta-t  Delta Inc X   Delta Inc Y  Delta Ecc X   \\\n",
       "1000              0  0.997257      0.000005    -0.000012      0.000007   \n",
       "1001              0  0.997254      0.000011    -0.000021      0.000005   \n",
       "1002              1  0.997238     -0.000031     0.000025      0.000022   \n",
       "1003              0  0.997283      0.000002     0.000007      0.000004   \n",
       "1004              0  0.997280      0.000002     0.000016      0.000002   \n",
       "\n",
       "      Delta Ecc Y  Delta Energy   Delta Energy Previous   Delta Energy Next  \\\n",
       "1000     0.000000     -14.550189              -13.513155         -15.932903   \n",
       "1001     0.000002     -15.932903              -14.550189         138.180332   \n",
       "1002    -0.000013     138.180332              -15.932903          -5.845286   \n",
       "1003    -0.000000      -5.845286              138.180332         -15.493132   \n",
       "1004     0.000004     -15.493132               -5.845286         -29.697718   \n",
       "\n",
       "      Delta Moment  \n",
       "1000      0.000027  \n",
       "1001      0.000048  \n",
       "1002      0.000080  \n",
       "1003      0.000014  \n",
       "1004      0.000032  "
      ]
     },
     "execution_count": 111,
     "metadata": {},
     "output_type": "execute_result"
    }
   ],
   "source": [
    "testset.head()"
   ]
  },
  {
   "cell_type": "code",
   "execution_count": 81,
   "id": "b974b2a2",
   "metadata": {},
   "outputs": [
    {
     "data": {
      "text/plain": [
       "0    481\n",
       "1     54\n",
       "2     28\n",
       "Name: Maneuver type, dtype: int64"
      ]
     },
     "execution_count": 81,
     "metadata": {},
     "output_type": "execute_result"
    }
   ],
   "source": [
    "testset['Maneuver type'].value_counts()"
   ]
  },
  {
   "cell_type": "markdown",
   "id": "9faa3a90",
   "metadata": {},
   "source": [
    "#### Retrait du dataset la valeur 0 pour le cas ou il y'a pas de maneuve \n",
    "#### et entrainer le model juste avec 1 et 2  valeurs présentes dans le dataset initial\n"
   ]
  },
  {
   "cell_type": "code",
   "execution_count": 11,
   "id": "b43a6fcf",
   "metadata": {},
   "outputs": [
    {
     "name": "stderr",
     "output_type": "stream",
     "text": [
      "C:\\Users\\Arthur Atonleu\\anaconda3\\lib\\site-packages\\pandas\\core\\frame.py:4308: SettingWithCopyWarning: \n",
      "A value is trying to be set on a copy of a slice from a DataFrame\n",
      "\n",
      "See the caveats in the documentation: https://pandas.pydata.org/pandas-docs/stable/user_guide/indexing.html#returning-a-view-versus-a-copy\n",
      "  return super().drop(\n"
     ]
    }
   ],
   "source": [
    "#def removeValue:\n",
    " #   for i in testset['Maneuver type']\n",
    "  #   if i==0:\n",
    "   #     testset.\n",
    "testset.drop( testset[ testset['Maneuver type'] == 0 ].index, inplace=True)    "
   ]
  },
  {
   "cell_type": "code",
   "execution_count": 12,
   "id": "f75de0f0",
   "metadata": {},
   "outputs": [
    {
     "data": {
      "text/plain": [
       "1    54\n",
       "2    28\n",
       "Name: Maneuver type, dtype: int64"
      ]
     },
     "execution_count": 12,
     "metadata": {},
     "output_type": "execute_result"
    }
   ],
   "source": [
    "testset['Maneuver type'].value_counts()"
   ]
  },
  {
   "cell_type": "code",
   "execution_count": 18,
   "id": "b1e68fc6",
   "metadata": {},
   "outputs": [],
   "source": [
    " #inutile avec ce dataset acr aucunes valeurs manquantes et toutes les valeurs sont deja encodées\n",
    "def preprocessing(df):\n",
    "    \n",
    "    #df = feature_engineering(df)\n",
    "    \n",
    "    \n",
    "    X = df.drop('Maneuver type', axis=1)\n",
    "    y = df['Maneuver type']\n",
    "    \n",
    "    print(y.value_counts())\n",
    "    \n",
    "    return X, y"
   ]
  },
  {
   "cell_type": "code",
   "execution_count": 21,
   "id": "30a35a2d",
   "metadata": {},
   "outputs": [
    {
     "name": "stdout",
     "output_type": "stream",
     "text": [
      "0    790\n",
      "1    141\n",
      "2     69\n",
      "Name: Maneuver type, dtype: int64\n"
     ]
    }
   ],
   "source": [
    "X_train, y_train = preprocessing(trainset)"
   ]
  },
  {
   "cell_type": "code",
   "execution_count": 25,
   "id": "f0cc833d",
   "metadata": {},
   "outputs": [
    {
     "name": "stdout",
     "output_type": "stream",
     "text": [
      "0    790\n",
      "1    141\n",
      "2     69\n",
      "Name: Maneuver type, dtype: int64\n"
     ]
    }
   ],
   "source": [
    "X_trainr, y_trainr = preprocessing(trainsetr)"
   ]
  },
  {
   "cell_type": "code",
   "execution_count": null,
   "id": "cba32625",
   "metadata": {},
   "outputs": [],
   "source": [
    "### Suppression de la valeur 0 dans le train et testset pour le SVM"
   ]
  },
  {
   "cell_type": "code",
   "execution_count": 121,
   "id": "c6c59405",
   "metadata": {},
   "outputs": [
    {
     "name": "stdout",
     "output_type": "stream",
     "text": [
      "1    141\n",
      "2     69\n",
      "Name: Maneuver type, dtype: int64\n"
     ]
    },
    {
     "name": "stderr",
     "output_type": "stream",
     "text": [
      "C:\\Users\\Arthur Atonleu\\anaconda3\\lib\\site-packages\\pandas\\core\\frame.py:4308: SettingWithCopyWarning: \n",
      "A value is trying to be set on a copy of a slice from a DataFrame\n",
      "\n",
      "See the caveats in the documentation: https://pandas.pydata.org/pandas-docs/stable/user_guide/indexing.html#returning-a-view-versus-a-copy\n",
      "  return super().drop(\n"
     ]
    }
   ],
   "source": [
    "trainset.drop( trainset[ trainset['Maneuver type'] == 0 ].index, inplace=True)    \n",
    "X_train, y_train = preprocessing(trainset)"
   ]
  },
  {
   "cell_type": "code",
   "execution_count": 26,
   "id": "080f3a6f",
   "metadata": {},
   "outputs": [
    {
     "name": "stdout",
     "output_type": "stream",
     "text": [
      "1    54\n",
      "2    28\n",
      "Name: Maneuver type, dtype: int64\n"
     ]
    },
    {
     "name": "stderr",
     "output_type": "stream",
     "text": [
      "C:\\Users\\Arthur Atonleu\\anaconda3\\lib\\site-packages\\pandas\\core\\frame.py:4308: SettingWithCopyWarning: \n",
      "A value is trying to be set on a copy of a slice from a DataFrame\n",
      "\n",
      "See the caveats in the documentation: https://pandas.pydata.org/pandas-docs/stable/user_guide/indexing.html#returning-a-view-versus-a-copy\n",
      "  return super().drop(\n"
     ]
    }
   ],
   "source": [
    "testset.drop( testset[ testset['Maneuver type'] == 0 ].index, inplace=True)    \n",
    "X_test, y_test = preprocessing(testset)"
   ]
  },
  {
   "cell_type": "code",
   "execution_count": 28,
   "id": "2e74f396",
   "metadata": {},
   "outputs": [
    {
     "name": "stdout",
     "output_type": "stream",
     "text": [
      "0    477\n",
      "1     54\n",
      "2     28\n",
      "Name: Maneuver type, dtype: int64\n"
     ]
    }
   ],
   "source": [
    "X_testr, y_testr = preprocessing(testsetr)"
   ]
  },
  {
   "cell_type": "code",
   "execution_count": null,
   "id": "f6f41922",
   "metadata": {},
   "outputs": [],
   "source": []
  },
  {
   "cell_type": "markdown",
   "id": "6c8bb9be",
   "metadata": {},
   "source": [
    "## Procédure d'évaluation"
   ]
  },
  {
   "cell_type": "code",
   "execution_count": 33,
   "id": "80eea8ff",
   "metadata": {},
   "outputs": [],
   "source": [
    "from sklearn.metrics import f1_score, confusion_matrix, classification_report\n",
    "from sklearn.model_selection import learning_curve"
   ]
  },
  {
   "cell_type": "code",
   "execution_count": 34,
   "id": "c08c33aa",
   "metadata": {},
   "outputs": [],
   "source": [
    "def evaluation(model):\n",
    "    \n",
    "    model.fit(X_train, y_train)\n",
    "    \n",
    "    ypred = model.predict(X_test)\n",
    "    \n",
    "    print(confusion_matrix(y_test, ypred))\n",
    "    print(classification_report(y_test, ypred))\n",
    "    #print(\"Score :\", model.scrore(X_train, y_train))\n",
    "    \n",
    "    N, train_score, val_score = learning_curve(model, X_train, y_train,\n",
    "                                              cv=4, scoring='f1',\n",
    "                                               train_sizes=np.linspace(0.1, 1, 10))\n",
    "    \n",
    "    \n",
    "    plt.figure(figsize=(12, 8))\n",
    "    plt.plot(N, train_score.mean(axis=1), label='train score')\n",
    "    plt.plot(N, val_score.mean(axis=1), label='validation score')\n",
    "    plt.legend()\n",
    "    \n",
    "    "
   ]
  },
  {
   "cell_type": "code",
   "execution_count": null,
   "id": "f4f11432",
   "metadata": {},
   "outputs": [],
   "source": [
    "### y'a une diiférence à réciser"
   ]
  },
  {
   "cell_type": "code",
   "execution_count": 47,
   "id": "ffe6aa0e",
   "metadata": {},
   "outputs": [],
   "source": [
    "def evaluationr(model):\n",
    "    \n",
    "    model.fit(X_trainr, y_trainr)\n",
    "    \n",
    "    ypredr = model.predict(X_testr)\n",
    "    \n",
    "    print(confusion_matrix(y_testr, ypredr))\n",
    "    print(classification_report(y_testr, ypredr))\n",
    "    #print(\"Score :\", model.scrore(X_train, y_train))\n",
    "    \n",
    "    #N, train_score, val_score = learning_curve(model, X_trainr, y_trainr,\n",
    "                                             # cv=4, scoring='f1',\n",
    "                                              # train_sizes=np.linspace(0.1, 1, 10))\n",
    "    \n",
    "    \n",
    "   # plt.figure(figsize=(12, 8))\n",
    "    #plt.plot(N, train_score.mean(axis=1), label='train score')\n",
    "    #plt.plot(N, val_score.mean(axis=1), label='validation score')\n",
    "    #plt.legend()\n",
    "    \n",
    "    "
   ]
  },
  {
   "cell_type": "markdown",
   "id": "70eceb1d",
   "metadata": {},
   "source": [
    "## Modellisation\n",
    "\n",
    "### 1.) Utilisation de Sklearn  ..."
   ]
  },
  {
   "cell_type": "code",
   "execution_count": 44,
   "id": "0acfface",
   "metadata": {},
   "outputs": [],
   "source": [
    "#Implémentation de plusieurs fonctions et choix de celle qui a un recall le plus élévée\n",
    "from sklearn.tree import DecisionTreeClassifier\n",
    "from sklearn.ensemble import RandomForestClassifier, AdaBoostClassifier\n",
    "from sklearn.svm import SVC\n",
    "from sklearn.neighbors import KNeighborsClassifier\n",
    "from sklearn.pipeline import make_pipeline\n",
    "from sklearn.feature_selection import SelectKBest, f_classif\n",
    "from sklearn.preprocessing import PolynomialFeatures, StandardScaler\n",
    "import warnings"
   ]
  },
  {
   "cell_type": "code",
   "execution_count": 40,
   "id": "86cb78db",
   "metadata": {},
   "outputs": [],
   "source": [
    "preprocessor = make_pipeline(PolynomialFeatures(2, include_bias=False), SelectKBest(f_classif, k=10))"
   ]
  },
  {
   "cell_type": "code",
   "execution_count": 41,
   "id": "2ca60cde",
   "metadata": {},
   "outputs": [],
   "source": [
    "RandomForest = make_pipeline(preprocessor, RandomForestClassifier(random_state=0))\n",
    "AdaBoost = make_pipeline(preprocessor, AdaBoostClassifier(random_state=0))\n",
    "SVM = make_pipeline(preprocessor, StandardScaler(), SVC(random_state=0))\n",
    "KNN = make_pipeline(preprocessor, StandardScaler(), KNeighborsClassifier())\n",
    "model_1 = RandomForestClassifier(random_state=0)"
   ]
  },
  {
   "cell_type": "code",
   "execution_count": 42,
   "id": "0a55517f",
   "metadata": {},
   "outputs": [],
   "source": [
    "dict_of_models = {'RandomForest': RandomForest,\n",
    "                  'AdaBoost' : AdaBoost,\n",
    "                  'SVM': SVM,\n",
    "                  'KNN': KNN\n",
    "                 }"
   ]
  },
  {
   "cell_type": "code",
   "execution_count": 48,
   "id": "9b2d3fdd",
   "metadata": {},
   "outputs": [
    {
     "name": "stdout",
     "output_type": "stream",
     "text": [
      "RandomForest\n",
      "[[476   1   0]\n",
      " [ 12  42   0]\n",
      " [  6   1  21]]\n",
      "              precision    recall  f1-score   support\n",
      "\n",
      "           0       0.96      1.00      0.98       477\n",
      "           1       0.95      0.78      0.86        54\n",
      "           2       1.00      0.75      0.86        28\n",
      "\n",
      "    accuracy                           0.96       559\n",
      "   macro avg       0.97      0.84      0.90       559\n",
      "weighted avg       0.96      0.96      0.96       559\n",
      "\n",
      "AdaBoost\n",
      "[[473   2   2]\n",
      " [ 16  38   0]\n",
      " [  2   0  26]]\n",
      "              precision    recall  f1-score   support\n",
      "\n",
      "           0       0.96      0.99      0.98       477\n",
      "           1       0.95      0.70      0.81        54\n",
      "           2       0.93      0.93      0.93        28\n",
      "\n",
      "    accuracy                           0.96       559\n",
      "   macro avg       0.95      0.87      0.90       559\n",
      "weighted avg       0.96      0.96      0.96       559\n",
      "\n",
      "SVM\n",
      "[[475   2   0]\n",
      " [ 14  40   0]\n",
      " [ 10   1  17]]\n",
      "              precision    recall  f1-score   support\n",
      "\n",
      "           0       0.95      1.00      0.97       477\n",
      "           1       0.93      0.74      0.82        54\n",
      "           2       1.00      0.61      0.76        28\n",
      "\n",
      "    accuracy                           0.95       559\n",
      "   macro avg       0.96      0.78      0.85       559\n",
      "weighted avg       0.95      0.95      0.95       559\n",
      "\n",
      "KNN\n",
      "[[470   5   2]\n",
      " [  8  46   0]\n",
      " [  8   1  19]]\n",
      "              precision    recall  f1-score   support\n",
      "\n",
      "           0       0.97      0.99      0.98       477\n",
      "           1       0.88      0.85      0.87        54\n",
      "           2       0.90      0.68      0.78        28\n",
      "\n",
      "    accuracy                           0.96       559\n",
      "   macro avg       0.92      0.84      0.87       559\n",
      "weighted avg       0.96      0.96      0.96       559\n",
      "\n"
     ]
    }
   ],
   "source": [
    "for name, model in dict_of_models.items():\n",
    "    print(name)\n",
    "    warnings.simplefilter('ignore')\n",
    "    evaluationr(model)\n",
    "  "
   ]
  },
  {
   "cell_type": "markdown",
   "id": "18cf0bec",
   "metadata": {},
   "source": [
    "#### A la vu de ces données Adaboost a des scores nettement plus meilleurs que les autres models"
   ]
  },
  {
   "cell_type": "markdown",
   "id": "4a344628",
   "metadata": {},
   "source": [
    "### 2.) Utilisation des réseaux de neuronnes  (Perceptron multicouche)\n"
   ]
  },
  {
   "cell_type": "code",
   "execution_count": 13,
   "id": "06b072fa",
   "metadata": {},
   "outputs": [],
   "source": [
    "from sklearn.neural_network import MLPClassifier\n",
    "from sklearn import preprocessing"
   ]
  },
  {
   "cell_type": "code",
   "execution_count": 37,
   "id": "c9faa987",
   "metadata": {},
   "outputs": [],
   "source": [
    "mlp = MLPClassifier(solver='lbfgs', alpha=1e-5, hidden_layer_sizes=(10, 2), random_state=1)"
   ]
  },
  {
   "cell_type": "code",
   "execution_count": 49,
   "id": "db7238e6",
   "metadata": {},
   "outputs": [],
   "source": [
    "#evaluationr(mlp)"
   ]
  },
  {
   "cell_type": "code",
   "execution_count": null,
   "id": "91c17b76",
   "metadata": {},
   "outputs": [],
   "source": []
  },
  {
   "cell_type": "markdown",
   "id": "b17bac9f",
   "metadata": {},
   "source": [
    "### Variable les plus importantes dans l'abre de décisions\n",
    "### On a la var Delta Energy , Delta Inc Y et Delta Moment\n"
   ]
  },
  {
   "cell_type": "code",
   "execution_count": 144,
   "id": "a9a8cb5b",
   "metadata": {},
   "outputs": [
    {
     "data": {
      "text/plain": [
       "<AxesSubplot:>"
      ]
     },
     "execution_count": 144,
     "metadata": {},
     "output_type": "execute_result"
    },
    {
     "data": {
      "image/png": "[encoded data removed]",
      "text/plain": [
       "<Figure size 864x576 with 1 Axes>"
      ]
     },
     "metadata": {
      "needs_background": "light"
     },
     "output_type": "display_data"
    }
   ],
   "source": [
    "\n",
    "pd.DataFrame(model_1.feature_importances_, index=X_train.columns).plot.bar(figsize=(12, 8))"
   ]
  },
  {
   "cell_type": "markdown",
   "id": "26a9d18f",
   "metadata": {},
   "source": [
    " Suppresiion des variables initules\n",
    " Faudra faire le test d'Anova pour une meilleure selection des varibales"
   ]
  },
  {
   "cell_type": "code",
   "execution_count": 50,
   "id": "04d9cc9d",
   "metadata": {},
   "outputs": [
    {
     "data": {
      "text/plain": [
       "pandas.core.series.Series"
      ]
     },
     "execution_count": 50,
     "metadata": {},
     "output_type": "execute_result"
    }
   ],
   "source": [
    "type(df[\"Maneuver type\"])"
   ]
  },
  {
   "cell_type": "markdown",
   "id": "f2f57adb",
   "metadata": {},
   "source": [
    "## Fonction de prédiction"
   ]
  },
  {
   "cell_type": "code",
   "execution_count": 55,
   "id": "ce396dde",
   "metadata": {},
   "outputs": [],
   "source": [
    "def decodage(df):\n",
    "    code = { 1:'1: East/West',\n",
    "             2: '2: South/North'\n",
    "             }\n",
    "    \n",
    "    for col in df.select_dtypes('object').columns:\n",
    "        df.loc[:,col] = df[col].map(code)\n",
    "        \n",
    "    return df"
   ]
  },
  {
   "cell_type": "code",
   "execution_count": 52,
   "id": "2ba2d4be",
   "metadata": {},
   "outputs": [],
   "source": [
    "def detect_maneuvers (model, dataframe):\n",
    "    df_copy = dataframe.copy()\n",
    "    #Fonction de prédicton\n",
    "    df_copy['Maneuver type'] = model.predict(dataframe)\n",
    "    decodage(df_copy)   \n",
    "    df_copy.to_excel(\"predict_Maneuvers_with3.xlsx\")\n",
    "    return df_copy\n",
    "    "
   ]
  },
  {
   "cell_type": "code",
   "execution_count": 56,
   "id": "d1b697c7",
   "metadata": {},
   "outputs": [
    {
     "data": {
      "text/html": [
       "<div>\n",
       "<style scoped>\n",
       "    .dataframe tbody tr th:only-of-type {\n",
       "        vertical-align: middle;\n",
       "    }\n",
       "\n",
       "    .dataframe tbody tr th {\n",
       "        vertical-align: top;\n",
       "    }\n",
       "\n",
       "    .dataframe thead th {\n",
       "        text-align: right;\n",
       "    }\n",
       "</style>\n",
       "<table border=\"1\" class=\"dataframe\">\n",
       "  <thead>\n",
       "    <tr style=\"text-align: right;\">\n",
       "      <th></th>\n",
       "      <th>Date</th>\n",
       "      <th>Delta-t</th>\n",
       "      <th>Delta Inc X</th>\n",
       "      <th>Delta Inc Y</th>\n",
       "      <th>Delta Ecc X</th>\n",
       "      <th>Delta Ecc Y</th>\n",
       "      <th>Delta Energy</th>\n",
       "      <th>Delta Energy Previous</th>\n",
       "      <th>Delta Energy Next</th>\n",
       "      <th>Delta Moment</th>\n",
       "      <th>Delta Out-of-plane</th>\n",
       "      <th>Delta Along-track</th>\n",
       "      <th>Delta Along-track avg</th>\n",
       "      <th>Maneuver type</th>\n",
       "    </tr>\n",
       "  </thead>\n",
       "  <tbody>\n",
       "    <tr>\n",
       "      <th>1000</th>\n",
       "      <td>25140.783803</td>\n",
       "      <td>0.997257</td>\n",
       "      <td>0.000005</td>\n",
       "      <td>-0.000012</td>\n",
       "      <td>0.000007</td>\n",
       "      <td>0.000000</td>\n",
       "      <td>-14.550189</td>\n",
       "      <td>-13.513155</td>\n",
       "      <td>-15.932903</td>\n",
       "      <td>0.000027</td>\n",
       "      <td>-9552.919419</td>\n",
       "      <td>22224.764878</td>\n",
       "      <td>2277.147186</td>\n",
       "      <td>0</td>\n",
       "    </tr>\n",
       "    <tr>\n",
       "      <th>1001</th>\n",
       "      <td>25141.781057</td>\n",
       "      <td>0.997254</td>\n",
       "      <td>0.000011</td>\n",
       "      <td>-0.000021</td>\n",
       "      <td>0.000005</td>\n",
       "      <td>0.000002</td>\n",
       "      <td>-15.932903</td>\n",
       "      <td>-14.550189</td>\n",
       "      <td>138.180332</td>\n",
       "      <td>0.000048</td>\n",
       "      <td>-8665.605015</td>\n",
       "      <td>20223.131757</td>\n",
       "      <td>930.871115</td>\n",
       "      <td>0</td>\n",
       "    </tr>\n",
       "    <tr>\n",
       "      <th>1002</th>\n",
       "      <td>25142.778295</td>\n",
       "      <td>0.997238</td>\n",
       "      <td>-0.000031</td>\n",
       "      <td>0.000025</td>\n",
       "      <td>0.000022</td>\n",
       "      <td>-0.000013</td>\n",
       "      <td>138.180332</td>\n",
       "      <td>-15.932903</td>\n",
       "      <td>-5.845286</td>\n",
       "      <td>0.000080</td>\n",
       "      <td>-12821.469226</td>\n",
       "      <td>3425.444317</td>\n",
       "      <td>-15590.812137</td>\n",
       "      <td>1</td>\n",
       "    </tr>\n",
       "    <tr>\n",
       "      <th>1003</th>\n",
       "      <td>25143.775579</td>\n",
       "      <td>0.997283</td>\n",
       "      <td>0.000002</td>\n",
       "      <td>0.000007</td>\n",
       "      <td>0.000004</td>\n",
       "      <td>-0.000000</td>\n",
       "      <td>-5.845286</td>\n",
       "      <td>138.180332</td>\n",
       "      <td>-15.493132</td>\n",
       "      <td>0.000014</td>\n",
       "      <td>-13118.575086</td>\n",
       "      <td>22684.156082</td>\n",
       "      <td>1397.598421</td>\n",
       "      <td>0</td>\n",
       "    </tr>\n",
       "    <tr>\n",
       "      <th>1004</th>\n",
       "      <td>25144.772859</td>\n",
       "      <td>0.997280</td>\n",
       "      <td>0.000002</td>\n",
       "      <td>0.000016</td>\n",
       "      <td>0.000002</td>\n",
       "      <td>0.000004</td>\n",
       "      <td>-15.493132</td>\n",
       "      <td>-5.845286</td>\n",
       "      <td>-29.697718</td>\n",
       "      <td>0.000032</td>\n",
       "      <td>-15082.636791</td>\n",
       "      <td>22822.995471</td>\n",
       "      <td>1640.909185</td>\n",
       "      <td>0</td>\n",
       "    </tr>\n",
       "    <tr>\n",
       "      <th>...</th>\n",
       "      <td>...</td>\n",
       "      <td>...</td>\n",
       "      <td>...</td>\n",
       "      <td>...</td>\n",
       "      <td>...</td>\n",
       "      <td>...</td>\n",
       "      <td>...</td>\n",
       "      <td>...</td>\n",
       "      <td>...</td>\n",
       "      <td>...</td>\n",
       "      <td>...</td>\n",
       "      <td>...</td>\n",
       "      <td>...</td>\n",
       "      <td>...</td>\n",
       "    </tr>\n",
       "    <tr>\n",
       "      <th>1554</th>\n",
       "      <td>25532.132438</td>\n",
       "      <td>0.293866</td>\n",
       "      <td>-0.000054</td>\n",
       "      <td>0.000018</td>\n",
       "      <td>-0.000000</td>\n",
       "      <td>0.000002</td>\n",
       "      <td>-5.939461</td>\n",
       "      <td>-19.389695</td>\n",
       "      <td>-12.413147</td>\n",
       "      <td>0.000113</td>\n",
       "      <td>5474.975202</td>\n",
       "      <td>14507.738466</td>\n",
       "      <td>799.663395</td>\n",
       "      <td>0</td>\n",
       "    </tr>\n",
       "    <tr>\n",
       "      <th>1555</th>\n",
       "      <td>25532.771737</td>\n",
       "      <td>0.639298</td>\n",
       "      <td>0.000026</td>\n",
       "      <td>-0.000003</td>\n",
       "      <td>0.000001</td>\n",
       "      <td>-0.000001</td>\n",
       "      <td>-12.413147</td>\n",
       "      <td>-5.939461</td>\n",
       "      <td>-7.699286</td>\n",
       "      <td>0.000053</td>\n",
       "      <td>-15703.381617</td>\n",
       "      <td>13504.164918</td>\n",
       "      <td>219.027938</td>\n",
       "      <td>0</td>\n",
       "    </tr>\n",
       "    <tr>\n",
       "      <th>1556</th>\n",
       "      <td>25533.142255</td>\n",
       "      <td>0.370518</td>\n",
       "      <td>0.000019</td>\n",
       "      <td>-0.000006</td>\n",
       "      <td>-0.000001</td>\n",
       "      <td>0.000002</td>\n",
       "      <td>-7.699286</td>\n",
       "      <td>-12.413147</td>\n",
       "      <td>-12.884505</td>\n",
       "      <td>0.000040</td>\n",
       "      <td>7276.431333</td>\n",
       "      <td>13185.835738</td>\n",
       "      <td>401.718375</td>\n",
       "      <td>0</td>\n",
       "    </tr>\n",
       "    <tr>\n",
       "      <th>1557</th>\n",
       "      <td>25533.848596</td>\n",
       "      <td>0.706341</td>\n",
       "      <td>0.000036</td>\n",
       "      <td>0.000016</td>\n",
       "      <td>0.000000</td>\n",
       "      <td>-0.000001</td>\n",
       "      <td>-12.884505</td>\n",
       "      <td>-7.699286</td>\n",
       "      <td>-8.013525</td>\n",
       "      <td>0.000078</td>\n",
       "      <td>-15782.724369</td>\n",
       "      <td>12066.395108</td>\n",
       "      <td>2301.136594</td>\n",
       "      <td>0</td>\n",
       "    </tr>\n",
       "    <tr>\n",
       "      <th>1558</th>\n",
       "      <td>25534.258132</td>\n",
       "      <td>0.409536</td>\n",
       "      <td>0.000013</td>\n",
       "      <td>0.000017</td>\n",
       "      <td>-0.000001</td>\n",
       "      <td>0.000001</td>\n",
       "      <td>-8.013525</td>\n",
       "      <td>-12.884505</td>\n",
       "      <td>-12.035987</td>\n",
       "      <td>0.000044</td>\n",
       "      <td>15289.739220</td>\n",
       "      <td>11890.730595</td>\n",
       "      <td>2125.472081</td>\n",
       "      <td>0</td>\n",
       "    </tr>\n",
       "  </tbody>\n",
       "</table>\n",
       "<p>559 rows × 14 columns</p>\n",
       "</div>"
      ],
      "text/plain": [
       "              Date   Delta-t  Delta Inc X   Delta Inc Y  Delta Ecc X   \\\n",
       "1000  25140.783803  0.997257      0.000005    -0.000012      0.000007   \n",
       "1001  25141.781057  0.997254      0.000011    -0.000021      0.000005   \n",
       "1002  25142.778295  0.997238     -0.000031     0.000025      0.000022   \n",
       "1003  25143.775579  0.997283      0.000002     0.000007      0.000004   \n",
       "1004  25144.772859  0.997280      0.000002     0.000016      0.000002   \n",
       "...            ...       ...           ...          ...           ...   \n",
       "1554  25532.132438  0.293866     -0.000054     0.000018     -0.000000   \n",
       "1555  25532.771737  0.639298      0.000026    -0.000003      0.000001   \n",
       "1556  25533.142255  0.370518      0.000019    -0.000006     -0.000001   \n",
       "1557  25533.848596  0.706341      0.000036     0.000016      0.000000   \n",
       "1558  25534.258132  0.409536      0.000013     0.000017     -0.000001   \n",
       "\n",
       "      Delta Ecc Y  Delta Energy   Delta Energy Previous   Delta Energy Next  \\\n",
       "1000     0.000000     -14.550189              -13.513155         -15.932903   \n",
       "1001     0.000002     -15.932903              -14.550189         138.180332   \n",
       "1002    -0.000013     138.180332              -15.932903          -5.845286   \n",
       "1003    -0.000000      -5.845286              138.180332         -15.493132   \n",
       "1004     0.000004     -15.493132               -5.845286         -29.697718   \n",
       "...           ...            ...                     ...                ...   \n",
       "1554     0.000002      -5.939461              -19.389695         -12.413147   \n",
       "1555    -0.000001     -12.413147               -5.939461          -7.699286   \n",
       "1556     0.000002      -7.699286              -12.413147         -12.884505   \n",
       "1557    -0.000001     -12.884505               -7.699286          -8.013525   \n",
       "1558     0.000001      -8.013525              -12.884505         -12.035987   \n",
       "\n",
       "      Delta Moment  Delta Out-of-plane  Delta Along-track  \\\n",
       "1000      0.000027        -9552.919419       22224.764878   \n",
       "1001      0.000048        -8665.605015       20223.131757   \n",
       "1002      0.000080       -12821.469226        3425.444317   \n",
       "1003      0.000014       -13118.575086       22684.156082   \n",
       "1004      0.000032       -15082.636791       22822.995471   \n",
       "...            ...                 ...                ...   \n",
       "1554      0.000113         5474.975202       14507.738466   \n",
       "1555      0.000053       -15703.381617       13504.164918   \n",
       "1556      0.000040         7276.431333       13185.835738   \n",
       "1557      0.000078       -15782.724369       12066.395108   \n",
       "1558      0.000044        15289.739220       11890.730595   \n",
       "\n",
       "      Delta Along-track avg  Maneuver type  \n",
       "1000            2277.147186              0  \n",
       "1001             930.871115              0  \n",
       "1002          -15590.812137              1  \n",
       "1003            1397.598421              0  \n",
       "1004            1640.909185              0  \n",
       "...                     ...            ...  \n",
       "1554             799.663395              0  \n",
       "1555             219.027938              0  \n",
       "1556             401.718375              0  \n",
       "1557            2301.136594              0  \n",
       "1558            2125.472081              0  \n",
       "\n",
       "[559 rows x 14 columns]"
      ]
     },
     "execution_count": 56,
     "metadata": {},
     "output_type": "execute_result"
    }
   ],
   "source": [
    "detect_maneuvers(AdaBoost, X_testr)"
   ]
  },
  {
   "cell_type": "code",
   "execution_count": 58,
   "id": "526c2651",
   "metadata": {},
   "outputs": [
    {
     "data": {
      "text/plain": [
       "1000    0\n",
       "1001    0\n",
       "1002    1\n",
       "1003    0\n",
       "1004    0\n",
       "       ..\n",
       "1554    0\n",
       "1555    0\n",
       "1556    0\n",
       "1557    0\n",
       "1558    0\n",
       "Name: Maneuver type, Length: 559, dtype: int64"
      ]
     },
     "execution_count": 58,
     "metadata": {},
     "output_type": "execute_result"
    }
   ],
   "source": [
    "y_testr"
   ]
  },
  {
   "cell_type": "markdown",
   "id": "cf0984c3",
   "metadata": {},
   "source": [
    "### DATA RECOVERY"
   ]
  },
  {
   "cell_type": "code",
   "execution_count": 64,
   "id": "868f7177",
   "metadata": {},
   "outputs": [],
   "source": [
    "import requests\n",
    "import numpy as np\n",
    "import math\n",
    "import json\n",
    "import statistics\n",
    "import matplotlib.dates as mdates\n",
    "from matplotlib import ticker\n",
    "from matplotlib.ticker import MultipleLocator\n",
    "import matplotlib.pyplot as plt\n",
    "from IPython.display import display, HTML\n",
    "from pyorbital.orbital import Orbital\n",
    "from tletools import TLE\n",
    "from sgp4.api import days2mdhms, Satrec, jday\n",
    "from datetime import date, datetime, timedelta\n",
    "import datetime as dt\n",
    "import io\n",
    "import astropy\n",
    "import pymap3d\n",
    "from sgp4.api import Satrec\n",
    "from sgp4.api import SGP4_ERRORS\n",
    "from astropy.time import Time\n",
    "from astropy.coordinates import TEME, CartesianDifferential, CartesianRepresentation\n",
    "from astropy import units as u\n",
    "from astropy.coordinates import ITRS\n",
    "from jdcal import gcal2jd, jd2gcal"
   ]
  },
  {
   "cell_type": "code",
   "execution_count": 132,
   "id": "4b1b32c4",
   "metadata": {
    "scrolled": true
   },
   "outputs": [],
   "source": [
    "#code jusque la ligne 113 pour se connecter au site\n",
    "class MyError(Exception):\n",
    "    def __init___(self,args):\n",
    "        Exception.__init__(self,\"my exception was raised with arguments {0}\".format(args))\n",
    "        self.args = args\n",
    "\n",
    "# URL des requêtes\n",
    "uriBase      = \"https://www.space-track.org\"\n",
    "requestLogin = \"/ajaxauth/login\"\n",
    "requestCmdAction  = \"/basicspacedata/query\"\n",
    "requestCustomSat1 = \"/class/satcat/SATNAME/\"\n",
    "requestCustomSat2 = \"/orderby/NORAD_CAT_ID asc/emptyresult/show\"\n",
    "requestFindCustom1 = \"/class/gp_history/NORAD_CAT_ID/\"\n",
    "requestFindCustom2 = \"/orderby/TLE_LINE1%20ASC/EPOCH/\"\n",
    "requestFindCustom3 = \"/format/tle\"\n",
    "\n",
    "# URL des données de Sentinel 3B des 3 dernières semaines\n",
    "#requestFindSentinel = \"https://www.space-track.org/basicspacedata/query/class/gp_history/NORAD_CAT_ID/43437/orderby/TLE_LINE1%20ASC/EPOCH/2021-08-31--2021-09-21/format/tle\"\n",
    "\n",
    "# Identifiant de connexion à l'API\n",
    "configUsr = \"engel@et.esiea.fr\"\n",
    "configPwd = \"ESIEA2021-20224A\"\n",
    "siteCred = {'identity': configUsr, 'password': configPwd}\n",
    "\n",
    "# use requests package to drive the RESTful session with space-track.org\n",
    "with requests.Session() as session:\n",
    "    # run the session in a with block to force session to close if we exit\n",
    "\n",
    "    # need to log in first. note that we get a 200 to say the web site got the data, not that we are logged in\n",
    "    resp = session.post(uriBase + requestLogin, data = siteCred)\n",
    "    if resp.status_code != 200:\n",
    "        raise MyError(resp, \"POST fail on login\")\n",
    "        \n",
    "    #customSat = input(\"Veuilez entrer le nom du satellite : \")\n",
    "    customSat = 'SENTINEL 3B'\n",
    "    #customSat = 'LUCH %28OLYMP%29'\n",
    "    #customSat = 'EUTE 21B'\n",
    "    \n",
    "    # Requête pour avoir le NORAD_CAT_ID de l'objet voulu\n",
    "    resp = session.get(uriBase + requestCmdAction + requestCustomSat1 + customSat + requestCustomSat2)\n",
    "    if resp.status_code != 200:\n",
    "        print(resp)\n",
    "        raise MyError(resp, \"GET fail on request for \" + customSat)\n",
    "\n",
    "    # use the json package to break the json formatted response text into a Python structure (a list of dictionaries)\n",
    "    retData = json.loads(resp.text)\n",
    "    satCount = len(retData)\n",
    "    catId = 0\n",
    "    \n",
    "    # Si la réponse est vide, alors le nom du satellite est faux\n",
    "    if not retData:\n",
    "        raise MyError(retData, \"Nom de satellite \\\"\" + customSat + \"\\\" invalide\")\n",
    "        \n",
    "    for e in retData:\n",
    "        # each e describes the latest elements for one Starlink satellite. We just need the NORAD_CAT_ID \n",
    "        \n",
    "        # Si le champ NORAD_CAT_ID est vide, alors le satellite n'existe pas\n",
    "        if not 'NORAD_CAT_ID' in e or len(e['NORAD_CAT_ID']) == 0:\n",
    "            raise MyError(e, \"Satellite \\\"\" + customSat + \"\\\" inconnu\")\n",
    "        catId = e['NORAD_CAT_ID']\n",
    "        #satIds.append(catId)\n",
    "        #break\n",
    "\n",
    "    # On demande les date de début et de fin de recherche\n",
    "    \n",
    "    #dateDebut = input (\"Veuillez entrer la date de début (format AAAA-MM-JJ avec les tirets) : \")\n",
    "    #dateFin  = input (\"Veuillez entrer la date de fin (format AAAA-MM-JJ avec les tirets) : \")\n",
    "    \n",
    "    dateDebut = '2018-04-25'\n",
    "    dateFin = '2019-05-27'\n",
    "        \n",
    "    # Récupère le résultat de la requête custom\n",
    "    resp = session.get(uriBase + requestCmdAction + requestFindCustom1 + catId + requestFindCustom2 + dateDebut + \"--\" + dateFin + requestFindCustom3)\n",
    "    if resp.status_code != 200:\n",
    "        print(resp)\n",
    "        raise MyError(resp, \"GET fail on request for \" + customSat)\n",
    "\n",
    "    # Assigne le résultat ligne par ligne\n",
    "    retData = resp.text.splitlines()\n",
    "    \n",
    "    # Affiche uniquement la première coordonnée (utile que pour tester)\n",
    "    \n",
    "    #tle_rec = ephem.readtle(\"Sentinelle 3B\", retData[0], retData[1])\n",
    "    #tle_rec.compute()\n",
    "    #print (tle_rec.sublong, tle_rec.sublat)\n",
    "    \n",
    "    \n",
    "    \n",
    "    \n",
    "    L_1 = [] # Tableau des lignes \"1\"\n",
    "    L_2 = [] # Tableau des lignes \"2\"\n",
    "    \n",
    "    L_1_bis = []\n",
    "    L_2_bis = []\n",
    "    \n",
    "    i = 1\n",
    "    \n",
    "    # Pour chaque ligne de la réponse, on alterne entre 1 et 2\n",
    "    for line in retData:\n",
    "        j = i\n",
    "        if i == 1:\n",
    "            # Si c'est 1, on ajoute la ligne qu'on est en train de lire à L_1\n",
    "            L_1.append(line[:69])\n",
    "            L_1_bis.append(line[:69])\n",
    "            j = 2\n",
    "        elif i == 2:\n",
    "            # Si c'est 2, on ajoute la ligne qu'on est en train de lire à L_2\n",
    "            L_2.append(line[:69])\n",
    "            L_2_bis.append(line[:69])\n",
    "            j = 1\n",
    "        # On alterne 1 et 2\n",
    "        i = j\n",
    "    \n",
    "    \n",
    "    L_mean_motion=[]\n",
    "    L_energie=[]\n",
    "    L_delta_energie=[]\n",
    "    L_inclinaison=[]\n",
    "    \n",
    "    #Variable pour l'IA\n",
    "    L_inclinaisonX=[]\n",
    "    L_inclinaisonY=[]\n",
    "    L_excentricite=[]\n",
    "    L_excentriciteX=[]\n",
    "    L_excentriciteY=[]\n",
    "    L_delta_EnergFinal=[]\n",
    "    max_energy = 1000\n",
    "    Delta_Energy_Prev=[]\n",
    "    Delta_Energy_Next=[]\n",
    "    \n",
    "    ##\n",
    "    \n",
    "    L_argp=[]\n",
    "    L_raan=[]\n",
    "    L_mean_anomaly=[]\n",
    "    \n",
    "    L_x=[]\n",
    "    L_y=[]\n",
    "    L_z=[]\n",
    "    \n",
    "    L_lat_ecef =[]\n",
    "    L_long_ecef =[]\n",
    "    L_D_ecef =[]\n",
    "    \n",
    "    L_x_ecef=[]\n",
    "    L_y_ecef=[]\n",
    "    L_z_ecef=[]\n",
    "    \n",
    "    L_longitude=[]\n",
    "    L_latitude=[]\n",
    "    L_altitude=[]\n",
    "    L_position=[]\n",
    "    L_vitesse=[]\n",
    "    \n",
    "    L_detection_manoeuvre=[]\n",
    "    \n",
    "    dates=[]\n",
    "    dates_detection_manoeuvre=[]\n",
    "    dates_MJD2000=[]\n",
    "    Temps=[]\n",
    "    Temps_MJD=[]\n",
    "    L_a=[]\n",
    "    \n",
    "    NbTLE = 0\n",
    "    \n",
    "    MU = 3.986004415 * 10 ** 14 \n",
    "    k = 0\n",
    "    TLES=[]\n",
    "    TLES_IA=[]\n",
    "    \n",
    "    #Initialisation de toutes les listes crées plus haut\n",
    "    \n",
    "    tle = TLE.from_lines(customSat, L_1[0], L_2[0])\n",
    "    \n",
    "        \n",
    "    month, day, hour, minute, second = days2mdhms(tle.epoch_year,tle.epoch_day)\n",
    "    temps = datetime(tle.epoch_year, month, day,hour)\n",
    "    Temps.append(temps)\n",
    "    #On separe les secondes et milisecondes\n",
    "    p=str(second)\n",
    "    SEC = int(p.partition(\".\")[0])\n",
    "    try :\n",
    "        MILI = int(p.partition(\".\")[2])\n",
    "    except ValueError: \n",
    "        MILI = 0\n",
    "\n",
    "    #on converti en format jd pour le traitement\n",
    "    t = Time(datetime(tle.epoch_year,month,day,hour,minute,SEC,MILI))\n",
    "    t.format = 'mjd'\n",
    "    #on ajoute ca a une liste pour la partie ia\n",
    "    dates_MJD2000.append(t.value)\n",
    "    \n",
    "    Temps_MJD.append(t.value)\n",
    "    \n",
    "\n",
    "    date_actuelle = datetime(tle.epoch_year,month,day,hour,minute,SEC,MILI)\n",
    "    dates.append(date_actuelle)\n",
    "    \n",
    "    ## CALCUL DE LA LONGITUDE (pour l'initialisation k=0)\n",
    "    satellite = Satrec.twoline2rv(L_1[0],L_2[0])\n",
    "    \n",
    "    #format datetime creeé\n",
    "    date_astropy = datetime(tle.epoch_year,month,day,hour,minute,SEC)\n",
    "    #print(date_astropy)\n",
    "    \n",
    "    t = Time(date_astropy, format='datetime')\n",
    "    #ici, on genere le vecteur position x,y,z en cartésien et le vecteur position\n",
    "    error_code, teme_p, teme_v = satellite.sgp4(t.jd1, t.jd2)  # in km and km/s\n",
    "    if error_code != 0:\n",
    "        raise RuntimeError(SGP4_ERRORS[error_code])\n",
    "        \n",
    "    L_position.append(teme_p)\n",
    "    #print(teme_p)\n",
    "    \n",
    "    L_x.append(L_position[0][0]) #on stocke x (en km)\n",
    "    L_y.append(L_position[0][1])\n",
    "    L_z.append(L_position[0][2])\n",
    "    \n",
    "    stringbis =pymap3d.eci2ecef(L_x[-1],L_y[-1],L_z[-1],date_astropy) ##ici eci to ecef\n",
    "    L_x_ecef.append(stringbis[0]) \n",
    "    L_y_ecef.append(stringbis[1])  \n",
    "    L_z_ecef.append(stringbis[2])\n",
    "    \n",
    "    ##\n",
    "    \n",
    "    \n",
    "    #rien d'interressant jusqua la ligne 260\n",
    "    \n",
    "    \n",
    "    # Calcul de l'Energie du satellite\n",
    "    L_energie.append((-1/2 )*((MU*2*math.pi*(float(tle.n)/86400)))**(2/3) )  \n",
    "    L_inclinaison.append(float(tle.inc))\n",
    "    L_excentricite.append(float(tle.ecc))\n",
    "    L_argp.append(float(tle.argp))\n",
    "    L_raan.append(float(tle.raan))\n",
    "    L_mean_motion.append(float(tle.n))\n",
    "    L_mean_anomaly.append(float(tle.M))\n",
    "    L_a.append(float(tle.a))\n",
    "    Delta_Energy_Prev.append(0)\n",
    "    Delta_Energy_Next.append(0)\n",
    "    \n",
    "\n",
    "    NbTLE = NbTLE +1\n",
    "    \n",
    "    #print(\"Je prends cette date: \", date_actuelle,\"\\n\")\n",
    "            \n",
    "        \n",
    "        \n",
    "    # Pour chaque duo de ligne, on sort les coordonnées\n",
    "    while k < len(L_1):\n",
    "        tle = TLE.from_lines(customSat, L_1[k], L_2[k])\n",
    "        \n",
    "        TLES.append(tle)\n",
    "        \n",
    "        #on charge les données relatives au temps\n",
    "        month, day, hour, minute, second = days2mdhms(tle.epoch_year,tle.epoch_day)\n",
    "        \n",
    "        t = Time(datetime(tle.epoch_year,month,day,hour,minute,SEC,MILI))\n",
    "        t.format = 'mjd'\n",
    "        \n",
    "        \n",
    "        #on stocke la date de la tle pour pouvoir selectionner les tle espacées de 12h\n",
    "        temps = datetime(tle.epoch_year, month, day,hour)\n",
    "        Temps_MJD.append(t.value)\n",
    "        #print(\"difference =\",t.value-Temps_MJD[-2])\n",
    "        \n",
    "        if ( t.value - Temps_MJD[-2] >0.25) :  #0.5 en mjd correspond à 12h après la date mjd 0 \n",
    "\n",
    "            Temps.append(temps)\n",
    "            month, day, hour, minute, second = days2mdhms(tle.epoch_year,tle.epoch_day)\n",
    "            \n",
    "            t = Time(datetime(tle.epoch_year,month,day,hour,minute,SEC,MILI))\n",
    "            t.format = 'jd'\n",
    "            dates_MJD2000.append(t.value)\n",
    "            \n",
    "            \n",
    "            p=str(second)\n",
    "            SEC = int(p.partition(\".\")[0]) \n",
    "            try :\n",
    "                MILI = int(p.partition(\".\")[2])\n",
    "            except ValueError: \n",
    "                MILI = 0\n",
    "         \n",
    "            date_actuelle = datetime(tle.epoch_year,month,day,hour,minute,SEC,MILI)\n",
    "            # récupération de la date\n",
    "            dates.append(date_actuelle)\n",
    "            \n",
    "            satellite = Satrec.twoline2rv(L_1[k],L_2[k])\n",
    "    \n",
    "            date_astropy = datetime(tle.epoch_year,month,day,hour,minute,SEC)\n",
    "\n",
    "            t = Time(date_astropy, format='datetime')\n",
    "            error_code, teme_p, teme_v = satellite.sgp4(t.jd1, t.jd2)  # in km and km/s\n",
    "            if error_code != 0:\n",
    "                raise RuntimeError(SGP4_ERRORS[error_code])\n",
    "\n",
    "            L_position.append(teme_p)\n",
    "            #print(teme_p)\n",
    "\n",
    "            \n",
    "            L_x.append(L_position[-1][0]) #pareil \n",
    "            L_y.append(L_position[-1][1])\n",
    "            L_z.append(L_position[-1][2])\n",
    "            \n",
    "            #conversion eci to ecef puis cart_to_sphe\n",
    "            stringbis =pymap3d.eci2ecef(L_x[-1],L_y[-1],L_z[-1],date_astropy) ##ici eci to ecef\n",
    "            L_x_ecef.append(stringbis[0]) \n",
    "            L_y_ecef.append(stringbis[1])  #phi = lat , theta=long , rho = distance\n",
    "            L_z_ecef.append(stringbis[2])\n",
    "            #donc la c'est en ecef\n",
    "        \n",
    "            \n",
    "    \n",
    "            #on a stocké tous les parametres cartésiens \n",
    "            #rien d'interressant jusqua la ligne 313\n",
    "        \n",
    "            # Calcul de l'Energie du satellite\n",
    "            L_energie.append((-1/2 )*((MU*2*math.pi*(float(tle.n)/86400)))**(2/3) )  #mu = 398 600,441 km**3/s**2\n",
    "            L_inclinaison.append(float(tle.inc))\n",
    "            \n",
    "            L_excentricite.append(float(tle.ecc))\n",
    "            L_argp.append(float(tle.argp))\n",
    "            L_raan.append(float(tle.raan))\n",
    "            L_mean_motion.append(float(tle.n))\n",
    "            L_mean_anomaly.append(float(tle.M))\n",
    "            L_a.append(float(tle.a))\n",
    "            \n",
    "           # Calcul des de Ix, Iy, Ex , Xy\n",
    "           \n",
    "            L_inclinaisonX.append(math.sin(float(tle.inc)/2) * math.cos(float(tle.raan)))\n",
    "            L_inclinaisonY.append(math.sin(float(tle.inc)/2) * math.sin(float(tle.raan)))\n",
    "           # L_delta_energie.append(((-1/2 )*((MU*2*math.pi*(float(tle.n)/86400)))**(2/3))-L_energie[k-1])\n",
    "            L_excentriciteX.append( float(tle.ecc) * math.cos(float(tle.argp) + float(tle.raan)))\n",
    "            L_excentriciteY.append(float(tle.ecc) * math.cos(float(tle.argp) + float(tle.raan)))\n",
    "            #L_delta_EnergFinal.append(float(min(max(L_delta_energie[k-1],-max_energy),max_energy)))\n",
    "            #Delta_Energy_Prev.append(min(max(Delta_Energy_Prev[k-1],-max_energy),max_energy))\n",
    "            #Delta_Energy_Next.append(min(max(Delta_Energy_Next[k-1],-max_energy),max_energy) )  \n",
    "           \n",
    "            NbTLE = NbTLE +1\n",
    "            \n",
    "            #print(\"Je prends cette date: \", date_actuelle)\n",
    "            #print(\"Différence avec la tle précédente: \",temps - Temps[-2],\"\\n\")\n",
    "\n",
    "        else : \n",
    "            p=str(second)\n",
    "            SEC = int(p.partition(\".\")[0])\n",
    "            try :\n",
    "                MILI = int(p.partition(\".\")[2])\n",
    "            except ValueError: \n",
    "                MILI = 0\n",
    "         \n",
    "            date_pas_prise = datetime(tle.epoch_year,month,day,hour,minute,SEC,MILI)\n",
    "            \n",
    "            #print(\"Je ne prends pas cette date: \",date_pas_prise)\n",
    "            #print(\"Difference:\",temps - Temps[-1])\n",
    "            \n",
    "        k = k + 1\n",
    "        \n",
    "    \n",
    "    \n",
    "    \n",
    "        \n",
    "    for i in range(len(L_energie)-1) : \n",
    "        #calcul du delta energie\n",
    "        L_delta_energie.append(L_energie[i+1]-L_energie[i])\n",
    "        L_delta_EnergFinal.append(float(min(max(L_delta_energie[i],-max_energy),max_energy)))\n",
    "        Delta_Energy_Prev.append(min(max(Delta_Energy_Prev[i],-max_energy),max_energy))\n",
    "        Delta_Energy_Next.append(min(max(Delta_Energy_Next[i],-max_energy),max_energy) )  \n",
    "           \n",
    "   \n",
    "    \n",
    "    Lix = pd.DataFrame( columns = ['Date','Delta Inc X','Delta Inc Y','Delta Ecc X','Delta Ecc Y','Delta Energy','Delta Energy Previous','Delta Energy Next'])\n",
    "    \n",
    "#print(dates_MJD2000)\n",
    "# Fermeture de la session avec l'API et fin du programme\n",
    "session.close()\n",
    "#print(\"Completed session\")    "
   ]
  },
  {
   "cell_type": "code",
   "execution_count": 133,
   "id": "94ccac85",
   "metadata": {},
   "outputs": [],
   "source": [
    "Lix['Date'] = dates"
   ]
  },
  {
   "cell_type": "code",
   "execution_count": 141,
   "id": "09182048",
   "metadata": {},
   "outputs": [],
   "source": [
    "#L_inclinaisonX.append(4)\n",
    "L_inclinaisonY.append(4)\n",
    "L_excentriciteX.append(4)\n",
    "L_excentriciteY.append(4)\n",
    "L_delta_energie.append(4)\n",
    "Delta_Energy_Prev.append(4)\n",
    "Delta_Energy_Next.append(4)"
   ]
  },
  {
   "cell_type": "code",
   "execution_count": 147,
   "id": "341be2cd",
   "metadata": {},
   "outputs": [],
   "source": [
    "#Lix['Delta Inc X'] = L_inclinaisonX\n",
    "Lix['Delta Inc Y'] = L_inclinaisonY\n",
    "Lix['Delta Ecc X'] = L_excentriciteX\n",
    "Lix['Delta Ecc Y'] = L_excentriciteY\n",
    "Lix['Delta Energy'] = L_delta_energie\n",
    "Lix['Delta Energy Previous'] = Delta_Energy_Prev\n",
    "Lix['Delta Energy Next'] = Delta_Energy_Next"
   ]
  },
  {
   "cell_type": "code",
   "execution_count": 148,
   "id": "78355c01",
   "metadata": {},
   "outputs": [
    {
     "data": {
      "text/html": [
       "<div>\n",
       "<style scoped>\n",
       "    .dataframe tbody tr th:only-of-type {\n",
       "        vertical-align: middle;\n",
       "    }\n",
       "\n",
       "    .dataframe tbody tr th {\n",
       "        vertical-align: top;\n",
       "    }\n",
       "\n",
       "    .dataframe thead th {\n",
       "        text-align: right;\n",
       "    }\n",
       "</style>\n",
       "<table border=\"1\" class=\"dataframe\">\n",
       "  <thead>\n",
       "    <tr style=\"text-align: right;\">\n",
       "      <th></th>\n",
       "      <th>Date</th>\n",
       "      <th>Delta Inc X</th>\n",
       "      <th>Delta Inc Y</th>\n",
       "      <th>Delta Ecc X</th>\n",
       "      <th>Delta Ecc Y</th>\n",
       "      <th>Delta Energy</th>\n",
       "      <th>Delta Energy Previous</th>\n",
       "      <th>Delta Energy Next</th>\n",
       "    </tr>\n",
       "  </thead>\n",
       "  <tbody>\n",
       "    <tr>\n",
       "      <th>0</th>\n",
       "      <td>2018-04-25 21:39:06.149664</td>\n",
       "      <td>0.264374</td>\n",
       "      <td>-0.771512</td>\n",
       "      <td>-0.000850</td>\n",
       "      <td>-0.000850</td>\n",
       "      <td>19714.782262</td>\n",
       "      <td>1</td>\n",
       "      <td>1</td>\n",
       "    </tr>\n",
       "    <tr>\n",
       "      <th>1</th>\n",
       "      <td>2018-04-26 03:44:29.023008</td>\n",
       "      <td>0.466389</td>\n",
       "      <td>-0.668540</td>\n",
       "      <td>-0.000882</td>\n",
       "      <td>-0.000882</td>\n",
       "      <td>235.042257</td>\n",
       "      <td>1</td>\n",
       "      <td>1</td>\n",
       "    </tr>\n",
       "    <tr>\n",
       "      <th>2</th>\n",
       "      <td>2018-04-26 10:28:56.503776</td>\n",
       "      <td>0.630339</td>\n",
       "      <td>-0.517035</td>\n",
       "      <td>-0.000708</td>\n",
       "      <td>-0.000708</td>\n",
       "      <td>-39.480837</td>\n",
       "      <td>1</td>\n",
       "      <td>1</td>\n",
       "    </tr>\n",
       "    <tr>\n",
       "      <th>3</th>\n",
       "      <td>2018-04-26 17:13:24.054096</td>\n",
       "      <td>0.747329</td>\n",
       "      <td>-0.326027</td>\n",
       "      <td>-0.000423</td>\n",
       "      <td>-0.000423</td>\n",
       "      <td>-15.426452</td>\n",
       "      <td>1</td>\n",
       "      <td>1</td>\n",
       "    </tr>\n",
       "    <tr>\n",
       "      <th>4</th>\n",
       "      <td>2018-04-26 23:57:51.095088</td>\n",
       "      <td>0.813538</td>\n",
       "      <td>-0.054316</td>\n",
       "      <td>0.000856</td>\n",
       "      <td>0.000856</td>\n",
       "      <td>-103.262403</td>\n",
       "      <td>1</td>\n",
       "      <td>1</td>\n",
       "    </tr>\n",
       "    <tr>\n",
       "      <th>...</th>\n",
       "      <td>...</td>\n",
       "      <td>...</td>\n",
       "      <td>...</td>\n",
       "      <td>...</td>\n",
       "      <td>...</td>\n",
       "      <td>...</td>\n",
       "      <td>...</td>\n",
       "      <td>...</td>\n",
       "    </tr>\n",
       "    <tr>\n",
       "      <th>599</th>\n",
       "      <td>2019-05-24 19:55:48.520416</td>\n",
       "      <td>-0.355201</td>\n",
       "      <td>0.735517</td>\n",
       "      <td>0.000030</td>\n",
       "      <td>0.000030</td>\n",
       "      <td>-0.415002</td>\n",
       "      <td>1</td>\n",
       "      <td>1</td>\n",
       "    </tr>\n",
       "    <tr>\n",
       "      <th>600</th>\n",
       "      <td>2019-05-25 06:01:43.756896</td>\n",
       "      <td>-0.688408</td>\n",
       "      <td>0.439599</td>\n",
       "      <td>-0.000038</td>\n",
       "      <td>-0.000038</td>\n",
       "      <td>-0.363126</td>\n",
       "      <td>1</td>\n",
       "      <td>1</td>\n",
       "    </tr>\n",
       "    <tr>\n",
       "      <th>601</th>\n",
       "      <td>2019-05-25 19:29:37.004064</td>\n",
       "      <td>-0.813866</td>\n",
       "      <td>0.069100</td>\n",
       "      <td>-0.000074</td>\n",
       "      <td>-0.000074</td>\n",
       "      <td>-0.661409</td>\n",
       "      <td>1</td>\n",
       "      <td>1</td>\n",
       "    </tr>\n",
       "    <tr>\n",
       "      <th>602</th>\n",
       "      <td>2019-05-26 07:16:31.845504</td>\n",
       "      <td>-0.752667</td>\n",
       "      <td>-0.317247</td>\n",
       "      <td>-0.000030</td>\n",
       "      <td>-0.000030</td>\n",
       "      <td>-0.298282</td>\n",
       "      <td>1</td>\n",
       "      <td>1</td>\n",
       "    </tr>\n",
       "    <tr>\n",
       "      <th>603</th>\n",
       "      <td>2019-05-26 19:03:26.288064</td>\n",
       "      <td>4.000000</td>\n",
       "      <td>4.000000</td>\n",
       "      <td>4.000000</td>\n",
       "      <td>4.000000</td>\n",
       "      <td>4.000000</td>\n",
       "      <td>1</td>\n",
       "      <td>1</td>\n",
       "    </tr>\n",
       "  </tbody>\n",
       "</table>\n",
       "<p>604 rows × 8 columns</p>\n",
       "</div>"
      ],
      "text/plain": [
       "                          Date  Delta Inc X  Delta Inc Y  Delta Ecc X  \\\n",
       "0   2018-04-25 21:39:06.149664     0.264374    -0.771512    -0.000850   \n",
       "1   2018-04-26 03:44:29.023008     0.466389    -0.668540    -0.000882   \n",
       "2   2018-04-26 10:28:56.503776     0.630339    -0.517035    -0.000708   \n",
       "3   2018-04-26 17:13:24.054096     0.747329    -0.326027    -0.000423   \n",
       "4   2018-04-26 23:57:51.095088     0.813538    -0.054316     0.000856   \n",
       "..                         ...          ...          ...          ...   \n",
       "599 2019-05-24 19:55:48.520416    -0.355201     0.735517     0.000030   \n",
       "600 2019-05-25 06:01:43.756896    -0.688408     0.439599    -0.000038   \n",
       "601 2019-05-25 19:29:37.004064    -0.813866     0.069100    -0.000074   \n",
       "602 2019-05-26 07:16:31.845504    -0.752667    -0.317247    -0.000030   \n",
       "603 2019-05-26 19:03:26.288064     4.000000     4.000000     4.000000   \n",
       "\n",
       "     Delta Ecc Y  Delta Energy  Delta Energy Previous  Delta Energy Next  \n",
       "0      -0.000850  19714.782262                      1                  1  \n",
       "1      -0.000882    235.042257                      1                  1  \n",
       "2      -0.000708    -39.480837                      1                  1  \n",
       "3      -0.000423    -15.426452                      1                  1  \n",
       "4       0.000856   -103.262403                      1                  1  \n",
       "..           ...           ...                    ...                ...  \n",
       "599     0.000030     -0.415002                      1                  1  \n",
       "600    -0.000038     -0.363126                      1                  1  \n",
       "601    -0.000074     -0.661409                      1                  1  \n",
       "602    -0.000030     -0.298282                      1                  1  \n",
       "603     4.000000      4.000000                      1                  1  \n",
       "\n",
       "[604 rows x 8 columns]"
      ]
     },
     "execution_count": 148,
     "metadata": {},
     "output_type": "execute_result"
    }
   ],
   "source": [
    "Lix"
   ]
  },
  {
   "cell_type": "code",
   "execution_count": 149,
   "id": "4e991185",
   "metadata": {},
   "outputs": [
    {
     "ename": "TypeError",
     "evalue": "The DTypes <class 'numpy.dtype[float64]'> and <class 'numpy.dtype[datetime64]'> do not have a common DType. For example they cannot be stored in a single array unless the dtype is `object`.",
     "output_type": "error",
     "traceback": [
      "\u001b[1;31m---------------------------------------------------------------------------\u001b[0m",
      "\u001b[1;31mTypeError\u001b[0m                                 Traceback (most recent call last)",
      "\u001b[1;32m<ipython-input-149-f5f8a1982a8d>\u001b[0m in \u001b[0;36m<module>\u001b[1;34m\u001b[0m\n\u001b[1;32m----> 1\u001b[1;33m \u001b[0mdetect_maneuvers\u001b[0m\u001b[1;33m(\u001b[0m\u001b[0mAdaBoost\u001b[0m\u001b[1;33m,\u001b[0m\u001b[0mLix\u001b[0m\u001b[1;33m)\u001b[0m\u001b[1;33m\u001b[0m\u001b[1;33m\u001b[0m\u001b[0m\n\u001b[0m",
      "\u001b[1;32m<ipython-input-52-8edb729fee51>\u001b[0m in \u001b[0;36mdetect_maneuvers\u001b[1;34m(model, dataframe)\u001b[0m\n\u001b[0;32m      2\u001b[0m     \u001b[0mdf_copy\u001b[0m \u001b[1;33m=\u001b[0m \u001b[0mdataframe\u001b[0m\u001b[1;33m.\u001b[0m\u001b[0mcopy\u001b[0m\u001b[1;33m(\u001b[0m\u001b[1;33m)\u001b[0m\u001b[1;33m\u001b[0m\u001b[1;33m\u001b[0m\u001b[0m\n\u001b[0;32m      3\u001b[0m     \u001b[1;31m#Fonction de prédicton\u001b[0m\u001b[1;33m\u001b[0m\u001b[1;33m\u001b[0m\u001b[1;33m\u001b[0m\u001b[0m\n\u001b[1;32m----> 4\u001b[1;33m     \u001b[0mdf_copy\u001b[0m\u001b[1;33m[\u001b[0m\u001b[1;34m'Maneuver type'\u001b[0m\u001b[1;33m]\u001b[0m \u001b[1;33m=\u001b[0m \u001b[0mmodel\u001b[0m\u001b[1;33m.\u001b[0m\u001b[0mpredict\u001b[0m\u001b[1;33m(\u001b[0m\u001b[0mdataframe\u001b[0m\u001b[1;33m)\u001b[0m\u001b[1;33m\u001b[0m\u001b[1;33m\u001b[0m\u001b[0m\n\u001b[0m\u001b[0;32m      5\u001b[0m     \u001b[0mdecodage\u001b[0m\u001b[1;33m(\u001b[0m\u001b[0mdf_copy\u001b[0m\u001b[1;33m)\u001b[0m\u001b[1;33m\u001b[0m\u001b[1;33m\u001b[0m\u001b[0m\n\u001b[0;32m      6\u001b[0m     \u001b[0mdf_copy\u001b[0m\u001b[1;33m.\u001b[0m\u001b[0mto_excel\u001b[0m\u001b[1;33m(\u001b[0m\u001b[1;34m\"predict_Maneuvers_with3.xlsx\"\u001b[0m\u001b[1;33m)\u001b[0m\u001b[1;33m\u001b[0m\u001b[1;33m\u001b[0m\u001b[0m\n",
      "\u001b[1;32m~\\anaconda3\\lib\\site-packages\\sklearn\\utils\\metaestimators.py\u001b[0m in \u001b[0;36m<lambda>\u001b[1;34m(*args, **kwargs)\u001b[0m\n\u001b[0;32m    118\u001b[0m \u001b[1;33m\u001b[0m\u001b[0m\n\u001b[0;32m    119\u001b[0m         \u001b[1;31m# lambda, but not partial, allows help() to work with update_wrapper\u001b[0m\u001b[1;33m\u001b[0m\u001b[1;33m\u001b[0m\u001b[1;33m\u001b[0m\u001b[0m\n\u001b[1;32m--> 120\u001b[1;33m         \u001b[0mout\u001b[0m \u001b[1;33m=\u001b[0m \u001b[1;32mlambda\u001b[0m \u001b[1;33m*\u001b[0m\u001b[0margs\u001b[0m\u001b[1;33m,\u001b[0m \u001b[1;33m**\u001b[0m\u001b[0mkwargs\u001b[0m\u001b[1;33m:\u001b[0m \u001b[0mself\u001b[0m\u001b[1;33m.\u001b[0m\u001b[0mfn\u001b[0m\u001b[1;33m(\u001b[0m\u001b[0mobj\u001b[0m\u001b[1;33m,\u001b[0m \u001b[1;33m*\u001b[0m\u001b[0margs\u001b[0m\u001b[1;33m,\u001b[0m \u001b[1;33m**\u001b[0m\u001b[0mkwargs\u001b[0m\u001b[1;33m)\u001b[0m\u001b[1;33m\u001b[0m\u001b[1;33m\u001b[0m\u001b[0m\n\u001b[0m\u001b[0;32m    121\u001b[0m         \u001b[1;31m# update the docstring of the returned function\u001b[0m\u001b[1;33m\u001b[0m\u001b[1;33m\u001b[0m\u001b[1;33m\u001b[0m\u001b[0m\n\u001b[0;32m    122\u001b[0m         \u001b[0mupdate_wrapper\u001b[0m\u001b[1;33m(\u001b[0m\u001b[0mout\u001b[0m\u001b[1;33m,\u001b[0m \u001b[0mself\u001b[0m\u001b[1;33m.\u001b[0m\u001b[0mfn\u001b[0m\u001b[1;33m)\u001b[0m\u001b[1;33m\u001b[0m\u001b[1;33m\u001b[0m\u001b[0m\n",
      "\u001b[1;32m~\\anaconda3\\lib\\site-packages\\sklearn\\pipeline.py\u001b[0m in \u001b[0;36mpredict\u001b[1;34m(self, X, **predict_params)\u001b[0m\n\u001b[0;32m    416\u001b[0m         \u001b[0mXt\u001b[0m \u001b[1;33m=\u001b[0m \u001b[0mX\u001b[0m\u001b[1;33m\u001b[0m\u001b[1;33m\u001b[0m\u001b[0m\n\u001b[0;32m    417\u001b[0m         \u001b[1;32mfor\u001b[0m \u001b[0m_\u001b[0m\u001b[1;33m,\u001b[0m \u001b[0mname\u001b[0m\u001b[1;33m,\u001b[0m \u001b[0mtransform\u001b[0m \u001b[1;32min\u001b[0m \u001b[0mself\u001b[0m\u001b[1;33m.\u001b[0m\u001b[0m_iter\u001b[0m\u001b[1;33m(\u001b[0m\u001b[0mwith_final\u001b[0m\u001b[1;33m=\u001b[0m\u001b[1;32mFalse\u001b[0m\u001b[1;33m)\u001b[0m\u001b[1;33m:\u001b[0m\u001b[1;33m\u001b[0m\u001b[1;33m\u001b[0m\u001b[0m\n\u001b[1;32m--> 418\u001b[1;33m             \u001b[0mXt\u001b[0m \u001b[1;33m=\u001b[0m \u001b[0mtransform\u001b[0m\u001b[1;33m.\u001b[0m\u001b[0mtransform\u001b[0m\u001b[1;33m(\u001b[0m\u001b[0mXt\u001b[0m\u001b[1;33m)\u001b[0m\u001b[1;33m\u001b[0m\u001b[1;33m\u001b[0m\u001b[0m\n\u001b[0m\u001b[0;32m    419\u001b[0m         \u001b[1;32mreturn\u001b[0m \u001b[0mself\u001b[0m\u001b[1;33m.\u001b[0m\u001b[0msteps\u001b[0m\u001b[1;33m[\u001b[0m\u001b[1;33m-\u001b[0m\u001b[1;36m1\u001b[0m\u001b[1;33m]\u001b[0m\u001b[1;33m[\u001b[0m\u001b[1;33m-\u001b[0m\u001b[1;36m1\u001b[0m\u001b[1;33m]\u001b[0m\u001b[1;33m.\u001b[0m\u001b[0mpredict\u001b[0m\u001b[1;33m(\u001b[0m\u001b[0mXt\u001b[0m\u001b[1;33m,\u001b[0m \u001b[1;33m**\u001b[0m\u001b[0mpredict_params\u001b[0m\u001b[1;33m)\u001b[0m\u001b[1;33m\u001b[0m\u001b[1;33m\u001b[0m\u001b[0m\n\u001b[0;32m    420\u001b[0m \u001b[1;33m\u001b[0m\u001b[0m\n",
      "\u001b[1;32m~\\anaconda3\\lib\\site-packages\\sklearn\\pipeline.py\u001b[0m in \u001b[0;36m_transform\u001b[1;34m(self, X)\u001b[0m\n\u001b[0;32m    558\u001b[0m         \u001b[0mXt\u001b[0m \u001b[1;33m=\u001b[0m \u001b[0mX\u001b[0m\u001b[1;33m\u001b[0m\u001b[1;33m\u001b[0m\u001b[0m\n\u001b[0;32m    559\u001b[0m         \u001b[1;32mfor\u001b[0m \u001b[0m_\u001b[0m\u001b[1;33m,\u001b[0m \u001b[0m_\u001b[0m\u001b[1;33m,\u001b[0m \u001b[0mtransform\u001b[0m \u001b[1;32min\u001b[0m \u001b[0mself\u001b[0m\u001b[1;33m.\u001b[0m\u001b[0m_iter\u001b[0m\u001b[1;33m(\u001b[0m\u001b[1;33m)\u001b[0m\u001b[1;33m:\u001b[0m\u001b[1;33m\u001b[0m\u001b[1;33m\u001b[0m\u001b[0m\n\u001b[1;32m--> 560\u001b[1;33m             \u001b[0mXt\u001b[0m \u001b[1;33m=\u001b[0m \u001b[0mtransform\u001b[0m\u001b[1;33m.\u001b[0m\u001b[0mtransform\u001b[0m\u001b[1;33m(\u001b[0m\u001b[0mXt\u001b[0m\u001b[1;33m)\u001b[0m\u001b[1;33m\u001b[0m\u001b[1;33m\u001b[0m\u001b[0m\n\u001b[0m\u001b[0;32m    561\u001b[0m         \u001b[1;32mreturn\u001b[0m \u001b[0mXt\u001b[0m\u001b[1;33m\u001b[0m\u001b[1;33m\u001b[0m\u001b[0m\n\u001b[0;32m    562\u001b[0m \u001b[1;33m\u001b[0m\u001b[0m\n",
      "\u001b[1;32m~\\anaconda3\\lib\\site-packages\\sklearn\\preprocessing\\_data.py\u001b[0m in \u001b[0;36mtransform\u001b[1;34m(self, X)\u001b[0m\n\u001b[0;32m   1742\u001b[0m         \u001b[0mcheck_is_fitted\u001b[0m\u001b[1;33m(\u001b[0m\u001b[0mself\u001b[0m\u001b[1;33m)\u001b[0m\u001b[1;33m\u001b[0m\u001b[1;33m\u001b[0m\u001b[0m\n\u001b[0;32m   1743\u001b[0m \u001b[1;33m\u001b[0m\u001b[0m\n\u001b[1;32m-> 1744\u001b[1;33m         X = self._validate_data(X, order='F', dtype=FLOAT_DTYPES, reset=False,\n\u001b[0m\u001b[0;32m   1745\u001b[0m                                 accept_sparse=('csr', 'csc'))\n\u001b[0;32m   1746\u001b[0m \u001b[1;33m\u001b[0m\u001b[0m\n",
      "\u001b[1;32m~\\anaconda3\\lib\\site-packages\\sklearn\\base.py\u001b[0m in \u001b[0;36m_validate_data\u001b[1;34m(self, X, y, reset, validate_separately, **check_params)\u001b[0m\n\u001b[0;32m    419\u001b[0m             \u001b[0mout\u001b[0m \u001b[1;33m=\u001b[0m \u001b[0mX\u001b[0m\u001b[1;33m\u001b[0m\u001b[1;33m\u001b[0m\u001b[0m\n\u001b[0;32m    420\u001b[0m         \u001b[1;32melif\u001b[0m \u001b[0misinstance\u001b[0m\u001b[1;33m(\u001b[0m\u001b[0my\u001b[0m\u001b[1;33m,\u001b[0m \u001b[0mstr\u001b[0m\u001b[1;33m)\u001b[0m \u001b[1;32mand\u001b[0m \u001b[0my\u001b[0m \u001b[1;33m==\u001b[0m \u001b[1;34m'no_validation'\u001b[0m\u001b[1;33m:\u001b[0m\u001b[1;33m\u001b[0m\u001b[1;33m\u001b[0m\u001b[0m\n\u001b[1;32m--> 421\u001b[1;33m             \u001b[0mX\u001b[0m \u001b[1;33m=\u001b[0m \u001b[0mcheck_array\u001b[0m\u001b[1;33m(\u001b[0m\u001b[0mX\u001b[0m\u001b[1;33m,\u001b[0m \u001b[1;33m**\u001b[0m\u001b[0mcheck_params\u001b[0m\u001b[1;33m)\u001b[0m\u001b[1;33m\u001b[0m\u001b[1;33m\u001b[0m\u001b[0m\n\u001b[0m\u001b[0;32m    422\u001b[0m             \u001b[0mout\u001b[0m \u001b[1;33m=\u001b[0m \u001b[0mX\u001b[0m\u001b[1;33m\u001b[0m\u001b[1;33m\u001b[0m\u001b[0m\n\u001b[0;32m    423\u001b[0m         \u001b[1;32melse\u001b[0m\u001b[1;33m:\u001b[0m\u001b[1;33m\u001b[0m\u001b[1;33m\u001b[0m\u001b[0m\n",
      "\u001b[1;32m~\\anaconda3\\lib\\site-packages\\sklearn\\utils\\validation.py\u001b[0m in \u001b[0;36minner_f\u001b[1;34m(*args, **kwargs)\u001b[0m\n\u001b[0;32m     61\u001b[0m             \u001b[0mextra_args\u001b[0m \u001b[1;33m=\u001b[0m \u001b[0mlen\u001b[0m\u001b[1;33m(\u001b[0m\u001b[0margs\u001b[0m\u001b[1;33m)\u001b[0m \u001b[1;33m-\u001b[0m \u001b[0mlen\u001b[0m\u001b[1;33m(\u001b[0m\u001b[0mall_args\u001b[0m\u001b[1;33m)\u001b[0m\u001b[1;33m\u001b[0m\u001b[1;33m\u001b[0m\u001b[0m\n\u001b[0;32m     62\u001b[0m             \u001b[1;32mif\u001b[0m \u001b[0mextra_args\u001b[0m \u001b[1;33m<=\u001b[0m \u001b[1;36m0\u001b[0m\u001b[1;33m:\u001b[0m\u001b[1;33m\u001b[0m\u001b[1;33m\u001b[0m\u001b[0m\n\u001b[1;32m---> 63\u001b[1;33m                 \u001b[1;32mreturn\u001b[0m \u001b[0mf\u001b[0m\u001b[1;33m(\u001b[0m\u001b[1;33m*\u001b[0m\u001b[0margs\u001b[0m\u001b[1;33m,\u001b[0m \u001b[1;33m**\u001b[0m\u001b[0mkwargs\u001b[0m\u001b[1;33m)\u001b[0m\u001b[1;33m\u001b[0m\u001b[1;33m\u001b[0m\u001b[0m\n\u001b[0m\u001b[0;32m     64\u001b[0m \u001b[1;33m\u001b[0m\u001b[0m\n\u001b[0;32m     65\u001b[0m             \u001b[1;31m# extra_args > 0\u001b[0m\u001b[1;33m\u001b[0m\u001b[1;33m\u001b[0m\u001b[1;33m\u001b[0m\u001b[0m\n",
      "\u001b[1;32m~\\anaconda3\\lib\\site-packages\\sklearn\\utils\\validation.py\u001b[0m in \u001b[0;36mcheck_array\u001b[1;34m(array, accept_sparse, accept_large_sparse, dtype, order, copy, force_all_finite, ensure_2d, allow_nd, ensure_min_samples, ensure_min_features, estimator)\u001b[0m\n\u001b[0;32m    538\u001b[0m \u001b[1;33m\u001b[0m\u001b[0m\n\u001b[0;32m    539\u001b[0m         \u001b[1;32mif\u001b[0m \u001b[0mall\u001b[0m\u001b[1;33m(\u001b[0m\u001b[0misinstance\u001b[0m\u001b[1;33m(\u001b[0m\u001b[0mdtype\u001b[0m\u001b[1;33m,\u001b[0m \u001b[0mnp\u001b[0m\u001b[1;33m.\u001b[0m\u001b[0mdtype\u001b[0m\u001b[1;33m)\u001b[0m \u001b[1;32mfor\u001b[0m \u001b[0mdtype\u001b[0m \u001b[1;32min\u001b[0m \u001b[0mdtypes_orig\u001b[0m\u001b[1;33m)\u001b[0m\u001b[1;33m:\u001b[0m\u001b[1;33m\u001b[0m\u001b[1;33m\u001b[0m\u001b[0m\n\u001b[1;32m--> 540\u001b[1;33m             \u001b[0mdtype_orig\u001b[0m \u001b[1;33m=\u001b[0m \u001b[0mnp\u001b[0m\u001b[1;33m.\u001b[0m\u001b[0mresult_type\u001b[0m\u001b[1;33m(\u001b[0m\u001b[1;33m*\u001b[0m\u001b[0mdtypes_orig\u001b[0m\u001b[1;33m)\u001b[0m\u001b[1;33m\u001b[0m\u001b[1;33m\u001b[0m\u001b[0m\n\u001b[0m\u001b[0;32m    541\u001b[0m \u001b[1;33m\u001b[0m\u001b[0m\n\u001b[0;32m    542\u001b[0m     \u001b[1;32mif\u001b[0m \u001b[0mdtype_numeric\u001b[0m\u001b[1;33m:\u001b[0m\u001b[1;33m\u001b[0m\u001b[1;33m\u001b[0m\u001b[0m\n",
      "\u001b[1;32m<__array_function__ internals>\u001b[0m in \u001b[0;36mresult_type\u001b[1;34m(*args, **kwargs)\u001b[0m\n",
      "\u001b[1;31mTypeError\u001b[0m: The DTypes <class 'numpy.dtype[float64]'> and <class 'numpy.dtype[datetime64]'> do not have a common DType. For example they cannot be stored in a single array unless the dtype is `object`."
     ]
    }
   ],
   "source": [
    "detect_maneuvers(AdaBoost,Lix)"
   ]
  }
 ],
 "metadata": {
  "kernelspec": {
   "display_name": "Python 3",
   "language": "python",
   "name": "python3"
  },
  "language_info": {
   "codemirror_mode": {
    "name": "ipython",
    "version": 3
   },
   "file_extension": ".py",
   "mimetype": "text/x-python",
   "name": "python",
   "nbconvert_exporter": "python",
   "pygments_lexer": "ipython3",
   "version": "3.8.8"
  }
 },
 "nbformat": 4,
 "nbformat_minor": 5
}
