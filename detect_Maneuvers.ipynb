{
 "cells": [
  {
   "cell_type": "code",
   "execution_count": 5,
   "id": "189f78eb",
   "metadata": {},
   "outputs": [],
   "source": [
    "import numpy as np\n",
    "import pandas as pd\n",
    "import matplotlib.pyplot as plt\n",
    "import seaborn as sns"
   ]
  },
  {
   "cell_type": "code",
   "execution_count": 84,
   "id": "d2126b63",
   "metadata": {},
   "outputs": [],
   "source": [
    "pd.set_option('display.max_row', 14)\n",
    "pd.set_option('display.max_column', 14)"
   ]
  },
  {
   "cell_type": "code",
   "execution_count": null,
   "id": "faaa74b5",
   "metadata": {},
   "outputs": [],
   "source": []
  },
  {
   "cell_type": "code",
   "execution_count": 85,
   "id": "87d89938",
   "metadata": {},
   "outputs": [],
   "source": [
    "data = pd.read_excel('Manoeuvers_Ath.xlsx')"
   ]
  },
  {
   "cell_type": "code",
   "execution_count": null,
   "id": "91cd5432",
   "metadata": {},
   "outputs": [],
   "source": []
  },
  {
   "cell_type": "code",
   "execution_count": 86,
   "id": "53ce0282",
   "metadata": {},
   "outputs": [
    {
     "data": {
      "text/html": [
       "<div>\n",
       "<style scoped>\n",
       "    .dataframe tbody tr th:only-of-type {\n",
       "        vertical-align: middle;\n",
       "    }\n",
       "\n",
       "    .dataframe tbody tr th {\n",
       "        vertical-align: top;\n",
       "    }\n",
       "\n",
       "    .dataframe thead th {\n",
       "        text-align: right;\n",
       "    }\n",
       "</style>\n",
       "<table border=\"1\" class=\"dataframe\">\n",
       "  <thead>\n",
       "    <tr style=\"text-align: right;\">\n",
       "      <th></th>\n",
       "      <th>Date</th>\n",
       "      <th>Maneuver type</th>\n",
       "      <th>Delta-t</th>\n",
       "      <th>Delta Inc X</th>\n",
       "      <th>Delta Inc Y</th>\n",
       "      <th>Delta Ecc X</th>\n",
       "      <th>Delta Ecc Y</th>\n",
       "      <th>Delta Energy</th>\n",
       "      <th>Delta Energy Previous</th>\n",
       "      <th>Delta Energy Next</th>\n",
       "      <th>Delta Moment</th>\n",
       "      <th>Delta Out-of-plane</th>\n",
       "      <th>Delta Along-track</th>\n",
       "      <th>Delta Along-track avg</th>\n",
       "    </tr>\n",
       "  </thead>\n",
       "  <tbody>\n",
       "    <tr>\n",
       "      <th>0</th>\n",
       "      <td>24140.749659</td>\n",
       "      <td>0</td>\n",
       "      <td>1.224519</td>\n",
       "      <td>0.000010</td>\n",
       "      <td>0.000258</td>\n",
       "      <td>-0.000058</td>\n",
       "      <td>0.000132</td>\n",
       "      <td>-46.793223</td>\n",
       "      <td>0.000000</td>\n",
       "      <td>99.526227</td>\n",
       "      <td>0.000517</td>\n",
       "      <td>-4628.698901</td>\n",
       "      <td>-28711.657464</td>\n",
       "      <td>0.000000</td>\n",
       "    </tr>\n",
       "    <tr>\n",
       "      <th>1</th>\n",
       "      <td>24141.519689</td>\n",
       "      <td>1</td>\n",
       "      <td>0.770030</td>\n",
       "      <td>-0.000025</td>\n",
       "      <td>-0.000213</td>\n",
       "      <td>0.000075</td>\n",
       "      <td>-0.000106</td>\n",
       "      <td>99.526227</td>\n",
       "      <td>-46.793223</td>\n",
       "      <td>-4.871059</td>\n",
       "      <td>0.000429</td>\n",
       "      <td>35293.385259</td>\n",
       "      <td>2776.854666</td>\n",
       "      <td>15744.256065</td>\n",
       "    </tr>\n",
       "    <tr>\n",
       "      <th>2</th>\n",
       "      <td>24142.516965</td>\n",
       "      <td>0</td>\n",
       "      <td>0.997276</td>\n",
       "      <td>-0.000015</td>\n",
       "      <td>0.000030</td>\n",
       "      <td>-0.000012</td>\n",
       "      <td>-0.000009</td>\n",
       "      <td>-4.871059</td>\n",
       "      <td>99.526227</td>\n",
       "      <td>-16.184467</td>\n",
       "      <td>0.000067</td>\n",
       "      <td>15963.393632</td>\n",
       "      <td>-10739.880071</td>\n",
       "      <td>1838.528849</td>\n",
       "    </tr>\n",
       "    <tr>\n",
       "      <th>3</th>\n",
       "      <td>24144.511512</td>\n",
       "      <td>0</td>\n",
       "      <td>1.994546</td>\n",
       "      <td>-0.000018</td>\n",
       "      <td>0.000027</td>\n",
       "      <td>0.000005</td>\n",
       "      <td>0.000001</td>\n",
       "      <td>-16.184467</td>\n",
       "      <td>-4.871059</td>\n",
       "      <td>-101.914365</td>\n",
       "      <td>0.000065</td>\n",
       "      <td>18457.947107</td>\n",
       "      <td>-8576.802672</td>\n",
       "      <td>5298.810851</td>\n",
       "    </tr>\n",
       "    <tr>\n",
       "      <th>4</th>\n",
       "      <td>24145.237001</td>\n",
       "      <td>0</td>\n",
       "      <td>0.725489</td>\n",
       "      <td>0.000026</td>\n",
       "      <td>-0.000008</td>\n",
       "      <td>0.000027</td>\n",
       "      <td>0.000033</td>\n",
       "      <td>-101.914365</td>\n",
       "      <td>-16.184467</td>\n",
       "      <td>84.064344</td>\n",
       "      <td>0.000054</td>\n",
       "      <td>-7575.844344</td>\n",
       "      <td>-30462.847067</td>\n",
       "      <td>-13084.512230</td>\n",
       "    </tr>\n",
       "  </tbody>\n",
       "</table>\n",
       "</div>"
      ],
      "text/plain": [
       "           Date  Maneuver type   Delta-t  Delta Inc X   Delta Inc Y  \\\n",
       "0  24140.749659              0  1.224519      0.000010     0.000258   \n",
       "1  24141.519689              1  0.770030     -0.000025    -0.000213   \n",
       "2  24142.516965              0  0.997276     -0.000015     0.000030   \n",
       "3  24144.511512              0  1.994546     -0.000018     0.000027   \n",
       "4  24145.237001              0  0.725489      0.000026    -0.000008   \n",
       "\n",
       "   Delta Ecc X   Delta Ecc Y  Delta Energy   Delta Energy Previous   \\\n",
       "0     -0.000058     0.000132     -46.793223                0.000000   \n",
       "1      0.000075    -0.000106      99.526227              -46.793223   \n",
       "2     -0.000012    -0.000009      -4.871059               99.526227   \n",
       "3      0.000005     0.000001     -16.184467               -4.871059   \n",
       "4      0.000027     0.000033    -101.914365              -16.184467   \n",
       "\n",
       "   Delta Energy Next  Delta Moment  Delta Out-of-plane  Delta Along-track  \\\n",
       "0          99.526227      0.000517        -4628.698901      -28711.657464   \n",
       "1          -4.871059      0.000429        35293.385259        2776.854666   \n",
       "2         -16.184467      0.000067        15963.393632      -10739.880071   \n",
       "3        -101.914365      0.000065        18457.947107       -8576.802672   \n",
       "4          84.064344      0.000054        -7575.844344      -30462.847067   \n",
       "\n",
       "   Delta Along-track avg  \n",
       "0               0.000000  \n",
       "1           15744.256065  \n",
       "2            1838.528849  \n",
       "3            5298.810851  \n",
       "4          -13084.512230  "
      ]
     },
     "execution_count": 86,
     "metadata": {},
     "output_type": "execute_result"
    }
   ],
   "source": [
    "data.head()"
   ]
  },
  {
   "cell_type": "markdown",
   "id": "2406b17e",
   "metadata": {},
   "source": [
    "# 1. Exploratory Data Analysis\n",
    "\n",
    "## Objectif :\n",
    "- Compréhension des données\n",
    "- Développer une premiere stratégie de modélisation \n",
    "\n",
    "## Checklist de base\n",
    "#### Analyse de Forme :\n",
    "- **variable target** : Maneuver type\t\n",
    "- **lignes et colonnes** : (1559, 14)\n",
    "- **types de variables** : qualitatives : 13, quantitatives : 1\n",
    "- **Analyse des valeurs manquantes** :\n",
    "    - Aucune valeur manquante\n",
    "\n",
    "#### Analyse de Fond :\n",
    "- **Visualisation de la target** :\n",
    "      Maneuver type:\n",
    "     - **Value = 0, on a 1267 acune manoeuvre**\n",
    "     - **Value = 1, on a 195 manoeuvres East/West**\n",
    "     - **Value = 2, 97   manoeuvres South/North** \n",
    "    \n",
    "    \n",
    "    \n",
    "- **Signification des variables** :\n",
    "    -  variables continues standardisées, skewed (asymétriques), Delta Ecc\n",
    "    \n",
    "\n",
    "- **Relation Variables / Target** :\n",
    "   \n",
    "    - target/Delta-t : \n",
    "    \n",
    "    - target / Delta Energy : \n",
    "    \n",
    "    \n",
    "    \n",
    "## Analyse plus détaillée\n",
    "\n",
    "- **Relation Variables / Variables** :\n",
    "    - Delta Energy / Maneuver type :  corrélation entre les deux\n",
    "    - Deta Moment / Maneuver type : \n",
    "\n",
    "\n",
    "### hypotheses nulle (H0): \n",
    "\n",
    "- \n",
    "\n",
    "    "
   ]
  },
  {
   "cell_type": "code",
   "execution_count": null,
   "id": "fd4807ca",
   "metadata": {},
   "outputs": [],
   "source": []
  },
  {
   "cell_type": "code",
   "execution_count": null,
   "id": "76785ee7",
   "metadata": {},
   "outputs": [],
   "source": []
  },
  {
   "cell_type": "code",
   "execution_count": 12,
   "id": "8f518c19",
   "metadata": {},
   "outputs": [],
   "source": [
    "df = data.copy()"
   ]
  },
  {
   "cell_type": "code",
   "execution_count": 13,
   "id": "54f87a44",
   "metadata": {},
   "outputs": [
    {
     "data": {
      "text/plain": [
       "(1559, 14)"
      ]
     },
     "execution_count": 13,
     "metadata": {},
     "output_type": "execute_result"
    }
   ],
   "source": [
    "#Détection du nombre de lignes et colonnes\n",
    "df.shape"
   ]
  },
  {
   "cell_type": "code",
   "execution_count": 14,
   "id": "a62983a8",
   "metadata": {},
   "outputs": [
    {
     "data": {
      "text/plain": [
       "float64    13\n",
       "int64       1\n",
       "dtype: int64"
      ]
     },
     "execution_count": 14,
     "metadata": {},
     "output_type": "execute_result"
    }
   ],
   "source": [
    "#Détection du type de variable\n",
    "df.dtypes.value_counts()"
   ]
  },
  {
   "cell_type": "code",
   "execution_count": 85,
   "id": "588eccbf",
   "metadata": {},
   "outputs": [
    {
     "data": {
      "text/html": [
       "<div>\n",
       "<style scoped>\n",
       "    .dataframe tbody tr th:only-of-type {\n",
       "        vertical-align: middle;\n",
       "    }\n",
       "\n",
       "    .dataframe tbody tr th {\n",
       "        vertical-align: top;\n",
       "    }\n",
       "\n",
       "    .dataframe thead th {\n",
       "        text-align: right;\n",
       "    }\n",
       "</style>\n",
       "<table border=\"1\" class=\"dataframe\">\n",
       "  <thead>\n",
       "    <tr style=\"text-align: right;\">\n",
       "      <th></th>\n",
       "      <th>Date</th>\n",
       "      <th>Maneuver type</th>\n",
       "      <th>Delta-t</th>\n",
       "      <th>Delta Inc X</th>\n",
       "      <th>Delta Inc Y</th>\n",
       "      <th>Delta Ecc X</th>\n",
       "      <th>Delta Ecc Y</th>\n",
       "      <th>Delta Energy</th>\n",
       "      <th>Delta Energy Previous</th>\n",
       "      <th>Delta Energy Next</th>\n",
       "      <th>Delta Moment</th>\n",
       "      <th>Delta Out-of-plane</th>\n",
       "      <th>Delta Along-track</th>\n",
       "      <th>Delta Along-track avg</th>\n",
       "    </tr>\n",
       "  </thead>\n",
       "  <tbody>\n",
       "    <tr>\n",
       "      <th>0</th>\n",
       "      <td>False</td>\n",
       "      <td>False</td>\n",
       "      <td>False</td>\n",
       "      <td>False</td>\n",
       "      <td>False</td>\n",
       "      <td>False</td>\n",
       "      <td>False</td>\n",
       "      <td>False</td>\n",
       "      <td>False</td>\n",
       "      <td>False</td>\n",
       "      <td>False</td>\n",
       "      <td>False</td>\n",
       "      <td>False</td>\n",
       "      <td>False</td>\n",
       "    </tr>\n",
       "    <tr>\n",
       "      <th>1</th>\n",
       "      <td>False</td>\n",
       "      <td>False</td>\n",
       "      <td>False</td>\n",
       "      <td>False</td>\n",
       "      <td>False</td>\n",
       "      <td>False</td>\n",
       "      <td>False</td>\n",
       "      <td>False</td>\n",
       "      <td>False</td>\n",
       "      <td>False</td>\n",
       "      <td>False</td>\n",
       "      <td>False</td>\n",
       "      <td>False</td>\n",
       "      <td>False</td>\n",
       "    </tr>\n",
       "    <tr>\n",
       "      <th>2</th>\n",
       "      <td>False</td>\n",
       "      <td>False</td>\n",
       "      <td>False</td>\n",
       "      <td>False</td>\n",
       "      <td>False</td>\n",
       "      <td>False</td>\n",
       "      <td>False</td>\n",
       "      <td>False</td>\n",
       "      <td>False</td>\n",
       "      <td>False</td>\n",
       "      <td>False</td>\n",
       "      <td>False</td>\n",
       "      <td>False</td>\n",
       "      <td>False</td>\n",
       "    </tr>\n",
       "    <tr>\n",
       "      <th>3</th>\n",
       "      <td>False</td>\n",
       "      <td>False</td>\n",
       "      <td>False</td>\n",
       "      <td>False</td>\n",
       "      <td>False</td>\n",
       "      <td>False</td>\n",
       "      <td>False</td>\n",
       "      <td>False</td>\n",
       "      <td>False</td>\n",
       "      <td>False</td>\n",
       "      <td>False</td>\n",
       "      <td>False</td>\n",
       "      <td>False</td>\n",
       "      <td>False</td>\n",
       "    </tr>\n",
       "    <tr>\n",
       "      <th>4</th>\n",
       "      <td>False</td>\n",
       "      <td>False</td>\n",
       "      <td>False</td>\n",
       "      <td>False</td>\n",
       "      <td>False</td>\n",
       "      <td>False</td>\n",
       "      <td>False</td>\n",
       "      <td>False</td>\n",
       "      <td>False</td>\n",
       "      <td>False</td>\n",
       "      <td>False</td>\n",
       "      <td>False</td>\n",
       "      <td>False</td>\n",
       "      <td>False</td>\n",
       "    </tr>\n",
       "    <tr>\n",
       "      <th>...</th>\n",
       "      <td>...</td>\n",
       "      <td>...</td>\n",
       "      <td>...</td>\n",
       "      <td>...</td>\n",
       "      <td>...</td>\n",
       "      <td>...</td>\n",
       "      <td>...</td>\n",
       "      <td>...</td>\n",
       "      <td>...</td>\n",
       "      <td>...</td>\n",
       "      <td>...</td>\n",
       "      <td>...</td>\n",
       "      <td>...</td>\n",
       "      <td>...</td>\n",
       "    </tr>\n",
       "    <tr>\n",
       "      <th>1554</th>\n",
       "      <td>False</td>\n",
       "      <td>False</td>\n",
       "      <td>False</td>\n",
       "      <td>False</td>\n",
       "      <td>False</td>\n",
       "      <td>False</td>\n",
       "      <td>False</td>\n",
       "      <td>False</td>\n",
       "      <td>False</td>\n",
       "      <td>False</td>\n",
       "      <td>False</td>\n",
       "      <td>False</td>\n",
       "      <td>False</td>\n",
       "      <td>False</td>\n",
       "    </tr>\n",
       "    <tr>\n",
       "      <th>1555</th>\n",
       "      <td>False</td>\n",
       "      <td>False</td>\n",
       "      <td>False</td>\n",
       "      <td>False</td>\n",
       "      <td>False</td>\n",
       "      <td>False</td>\n",
       "      <td>False</td>\n",
       "      <td>False</td>\n",
       "      <td>False</td>\n",
       "      <td>False</td>\n",
       "      <td>False</td>\n",
       "      <td>False</td>\n",
       "      <td>False</td>\n",
       "      <td>False</td>\n",
       "    </tr>\n",
       "    <tr>\n",
       "      <th>1556</th>\n",
       "      <td>False</td>\n",
       "      <td>False</td>\n",
       "      <td>False</td>\n",
       "      <td>False</td>\n",
       "      <td>False</td>\n",
       "      <td>False</td>\n",
       "      <td>False</td>\n",
       "      <td>False</td>\n",
       "      <td>False</td>\n",
       "      <td>False</td>\n",
       "      <td>False</td>\n",
       "      <td>False</td>\n",
       "      <td>False</td>\n",
       "      <td>False</td>\n",
       "    </tr>\n",
       "    <tr>\n",
       "      <th>1557</th>\n",
       "      <td>False</td>\n",
       "      <td>False</td>\n",
       "      <td>False</td>\n",
       "      <td>False</td>\n",
       "      <td>False</td>\n",
       "      <td>False</td>\n",
       "      <td>False</td>\n",
       "      <td>False</td>\n",
       "      <td>False</td>\n",
       "      <td>False</td>\n",
       "      <td>False</td>\n",
       "      <td>False</td>\n",
       "      <td>False</td>\n",
       "      <td>False</td>\n",
       "    </tr>\n",
       "    <tr>\n",
       "      <th>1558</th>\n",
       "      <td>False</td>\n",
       "      <td>False</td>\n",
       "      <td>False</td>\n",
       "      <td>False</td>\n",
       "      <td>False</td>\n",
       "      <td>False</td>\n",
       "      <td>False</td>\n",
       "      <td>False</td>\n",
       "      <td>False</td>\n",
       "      <td>False</td>\n",
       "      <td>False</td>\n",
       "      <td>False</td>\n",
       "      <td>False</td>\n",
       "      <td>False</td>\n",
       "    </tr>\n",
       "  </tbody>\n",
       "</table>\n",
       "<p>1559 rows × 14 columns</p>\n",
       "</div>"
      ],
      "text/plain": [
       "       Date  Maneuver type  Delta-t  Delta Inc X   Delta Inc Y  Delta Ecc X   \\\n",
       "0     False          False    False         False        False         False   \n",
       "1     False          False    False         False        False         False   \n",
       "2     False          False    False         False        False         False   \n",
       "3     False          False    False         False        False         False   \n",
       "4     False          False    False         False        False         False   \n",
       "...     ...            ...      ...           ...          ...           ...   \n",
       "1554  False          False    False         False        False         False   \n",
       "1555  False          False    False         False        False         False   \n",
       "1556  False          False    False         False        False         False   \n",
       "1557  False          False    False         False        False         False   \n",
       "1558  False          False    False         False        False         False   \n",
       "\n",
       "      Delta Ecc Y  Delta Energy   Delta Energy Previous   Delta Energy Next  \\\n",
       "0           False          False                   False              False   \n",
       "1           False          False                   False              False   \n",
       "2           False          False                   False              False   \n",
       "3           False          False                   False              False   \n",
       "4           False          False                   False              False   \n",
       "...           ...            ...                     ...                ...   \n",
       "1554        False          False                   False              False   \n",
       "1555        False          False                   False              False   \n",
       "1556        False          False                   False              False   \n",
       "1557        False          False                   False              False   \n",
       "1558        False          False                   False              False   \n",
       "\n",
       "      Delta Moment  Delta Out-of-plane  Delta Along-track  \\\n",
       "0            False               False              False   \n",
       "1            False               False              False   \n",
       "2            False               False              False   \n",
       "3            False               False              False   \n",
       "4            False               False              False   \n",
       "...            ...                 ...                ...   \n",
       "1554         False               False              False   \n",
       "1555         False               False              False   \n",
       "1556         False               False              False   \n",
       "1557         False               False              False   \n",
       "1558         False               False              False   \n",
       "\n",
       "      Delta Along-track avg  \n",
       "0                     False  \n",
       "1                     False  \n",
       "2                     False  \n",
       "3                     False  \n",
       "4                     False  \n",
       "...                     ...  \n",
       "1554                  False  \n",
       "1555                  False  \n",
       "1556                  False  \n",
       "1557                  False  \n",
       "1558                  False  \n",
       "\n",
       "[1559 rows x 14 columns]"
      ]
     },
     "execution_count": 85,
     "metadata": {},
     "output_type": "execute_result"
    }
   ],
   "source": [
    "#Toujours dans la phase d'analyse on affiche notre dataset dans une image\n",
    "df.isna()"
   ]
  },
  {
   "cell_type": "code",
   "execution_count": 86,
   "id": "ec2aa1a5",
   "metadata": {},
   "outputs": [
    {
     "data": {
      "text/plain": [
       "<AxesSubplot:>"
      ]
     },
     "execution_count": 86,
     "metadata": {},
     "output_type": "execute_result"
    },
    {
     "data": {
      "image/png": "[encoded data removed]",
      "text/plain": [
       "<Figure size 1440x720 with 1 Axes>"
      ]
     },
     "metadata": {
      "needs_background": "light"
     },
     "output_type": "display_data"
    }
   ],
   "source": [
    "#Cette figure illustre parfaitement le fait que notre dataset n'a aucune valeur manquante\n",
    "#Ce qui est une très bonne nouvelle hiihi ^^\n",
    "\n",
    "plt.figure(figsize=(20,10))\n",
    "sns.heatmap(df.isna(), cbar=False)"
   ]
  },
  {
   "cell_type": "code",
   "execution_count": 15,
   "id": "2b882a5d",
   "metadata": {},
   "outputs": [],
   "source": [
    "#Suppression de  Delta Out-of-plane, Delta Along-track et Delta Along-track avg\n",
    "#Car pas important et données de calcul de ces valeurs manquantes dans le word\n",
    "\n",
    "df = df.drop('Delta Out-of-plane', axis=1)\n",
    "df = df.drop('Delta Along-track', axis=1)\n",
    "df = df.drop('Delta Along-track avg', axis=1)\n"
   ]
  },
  {
   "cell_type": "code",
   "execution_count": 16,
   "id": "dcd4515d",
   "metadata": {},
   "outputs": [
    {
     "data": {
      "text/html": [
       "<div>\n",
       "<style scoped>\n",
       "    .dataframe tbody tr th:only-of-type {\n",
       "        vertical-align: middle;\n",
       "    }\n",
       "\n",
       "    .dataframe tbody tr th {\n",
       "        vertical-align: top;\n",
       "    }\n",
       "\n",
       "    .dataframe thead th {\n",
       "        text-align: right;\n",
       "    }\n",
       "</style>\n",
       "<table border=\"1\" class=\"dataframe\">\n",
       "  <thead>\n",
       "    <tr style=\"text-align: right;\">\n",
       "      <th></th>\n",
       "      <th>Date</th>\n",
       "      <th>Maneuver type</th>\n",
       "      <th>Delta-t</th>\n",
       "      <th>Delta Inc X</th>\n",
       "      <th>Delta Inc Y</th>\n",
       "      <th>Delta Ecc X</th>\n",
       "      <th>Delta Ecc Y</th>\n",
       "      <th>Delta Energy</th>\n",
       "      <th>Delta Energy Previous</th>\n",
       "      <th>Delta Energy Next</th>\n",
       "      <th>Delta Moment</th>\n",
       "    </tr>\n",
       "  </thead>\n",
       "  <tbody>\n",
       "    <tr>\n",
       "      <th>0</th>\n",
       "      <td>24140.749659</td>\n",
       "      <td>0</td>\n",
       "      <td>1.224519</td>\n",
       "      <td>0.000010</td>\n",
       "      <td>0.000258</td>\n",
       "      <td>-0.000058</td>\n",
       "      <td>0.000132</td>\n",
       "      <td>-46.793223</td>\n",
       "      <td>0.000000</td>\n",
       "      <td>99.526227</td>\n",
       "      <td>0.000517</td>\n",
       "    </tr>\n",
       "    <tr>\n",
       "      <th>1</th>\n",
       "      <td>24141.519689</td>\n",
       "      <td>1</td>\n",
       "      <td>0.770030</td>\n",
       "      <td>-0.000025</td>\n",
       "      <td>-0.000213</td>\n",
       "      <td>0.000075</td>\n",
       "      <td>-0.000106</td>\n",
       "      <td>99.526227</td>\n",
       "      <td>-46.793223</td>\n",
       "      <td>-4.871059</td>\n",
       "      <td>0.000429</td>\n",
       "    </tr>\n",
       "    <tr>\n",
       "      <th>2</th>\n",
       "      <td>24142.516965</td>\n",
       "      <td>0</td>\n",
       "      <td>0.997276</td>\n",
       "      <td>-0.000015</td>\n",
       "      <td>0.000030</td>\n",
       "      <td>-0.000012</td>\n",
       "      <td>-0.000009</td>\n",
       "      <td>-4.871059</td>\n",
       "      <td>99.526227</td>\n",
       "      <td>-16.184467</td>\n",
       "      <td>0.000067</td>\n",
       "    </tr>\n",
       "    <tr>\n",
       "      <th>3</th>\n",
       "      <td>24144.511512</td>\n",
       "      <td>0</td>\n",
       "      <td>1.994546</td>\n",
       "      <td>-0.000018</td>\n",
       "      <td>0.000027</td>\n",
       "      <td>0.000005</td>\n",
       "      <td>0.000001</td>\n",
       "      <td>-16.184467</td>\n",
       "      <td>-4.871059</td>\n",
       "      <td>-101.914365</td>\n",
       "      <td>0.000065</td>\n",
       "    </tr>\n",
       "    <tr>\n",
       "      <th>4</th>\n",
       "      <td>24145.237001</td>\n",
       "      <td>0</td>\n",
       "      <td>0.725489</td>\n",
       "      <td>0.000026</td>\n",
       "      <td>-0.000008</td>\n",
       "      <td>0.000027</td>\n",
       "      <td>0.000033</td>\n",
       "      <td>-101.914365</td>\n",
       "      <td>-16.184467</td>\n",
       "      <td>84.064344</td>\n",
       "      <td>0.000054</td>\n",
       "    </tr>\n",
       "  </tbody>\n",
       "</table>\n",
       "</div>"
      ],
      "text/plain": [
       "           Date  Maneuver type   Delta-t  Delta Inc X   Delta Inc Y  \\\n",
       "0  24140.749659              0  1.224519      0.000010     0.000258   \n",
       "1  24141.519689              1  0.770030     -0.000025    -0.000213   \n",
       "2  24142.516965              0  0.997276     -0.000015     0.000030   \n",
       "3  24144.511512              0  1.994546     -0.000018     0.000027   \n",
       "4  24145.237001              0  0.725489      0.000026    -0.000008   \n",
       "\n",
       "   Delta Ecc X   Delta Ecc Y  Delta Energy   Delta Energy Previous   \\\n",
       "0     -0.000058     0.000132     -46.793223                0.000000   \n",
       "1      0.000075    -0.000106      99.526227              -46.793223   \n",
       "2     -0.000012    -0.000009      -4.871059               99.526227   \n",
       "3      0.000005     0.000001     -16.184467               -4.871059   \n",
       "4      0.000027     0.000033    -101.914365              -16.184467   \n",
       "\n",
       "   Delta Energy Next  Delta Moment  \n",
       "0          99.526227      0.000517  \n",
       "1          -4.871059      0.000429  \n",
       "2         -16.184467      0.000067  \n",
       "3        -101.914365      0.000065  \n",
       "4          84.064344      0.000054  "
      ]
     },
     "execution_count": 16,
     "metadata": {},
     "output_type": "execute_result"
    }
   ],
   "source": [
    "df.head()"
   ]
  },
  {
   "cell_type": "markdown",
   "id": "1639d74a",
   "metadata": {},
   "source": [
    "### Examen de la colonne target"
   ]
  },
  {
   "cell_type": "code",
   "execution_count": 17,
   "id": "2be6065d",
   "metadata": {},
   "outputs": [
    {
     "data": {
      "text/plain": [
       "0    1267\n",
       "1     195\n",
       "2      97\n",
       "Name: Maneuver type, dtype: int64"
      ]
     },
     "execution_count": 17,
     "metadata": {},
     "output_type": "execute_result"
    }
   ],
   "source": [
    "df['Maneuver type'].value_counts()"
   ]
  },
  {
   "cell_type": "markdown",
   "id": "29bc3085",
   "metadata": {},
   "source": [
    "### histogrames des variables continues "
   ]
  },
  {
   "cell_type": "code",
   "execution_count": 110,
   "id": "0e3288b2",
   "metadata": {},
   "outputs": [
    {
     "data": {
      "image/png": "[encoded data removed]",
      "text/plain": [
       "<Figure size 432x288 with 1 Axes>"
      ]
     },
     "metadata": {
      "needs_background": "light"
     },
     "output_type": "display_data"
    },
    {
     "data": {
      "image/png": "[encoded data removed]",
      "text/plain": [
       "<Figure size 432x288 with 1 Axes>"
      ]
     },
     "metadata": {
      "needs_background": "light"
     },
     "output_type": "display_data"
    },
    {
     "data": {
      "image/png": "[encoded data removed]",
      "text/plain": [
       "<Figure size 432x288 with 1 Axes>"
      ]
     },
     "metadata": {
      "needs_background": "light"
     },
     "output_type": "display_data"
    },
    {
     "data": {
      "image/png": "[encoded data removed]",
      "text/plain": [
       "<Figure size 432x288 with 1 Axes>"
      ]
     },
     "metadata": {
      "needs_background": "light"
     },
     "output_type": "display_data"
    },
    {
     "data": {
      "image/png": "[encoded data removed]",
      "text/plain": [
       "<Figure size 432x288 with 1 Axes>"
      ]
     },
     "metadata": {
      "needs_background": "light"
     },
     "output_type": "display_data"
    },
    {
     "data": {
      "image/png": "[encoded data removed]",
      "text/plain": [
       "<Figure size 432x288 with 1 Axes>"
      ]
     },
     "metadata": {
      "needs_background": "light"
     },
     "output_type": "display_data"
    },
    {
     "data": {
      "image/png": "[encoded data removed]",
      "text/plain": [
       "<Figure size 432x288 with 1 Axes>"
      ]
     },
     "metadata": {
      "needs_background": "light"
     },
     "output_type": "display_data"
    },
    {
     "data": {
      "image/png": "[encoded data removed]",
      "text/plain": [
       "<Figure size 432x288 with 1 Axes>"
      ]
     },
     "metadata": {
      "needs_background": "light"
     },
     "output_type": "display_data"
    },
    {
     "data": {
      "image/png": "[encoded data removed]",
      "text/plain": [
       "<Figure size 432x288 with 1 Axes>"
      ]
     },
     "metadata": {
      "needs_background": "light"
     },
     "output_type": "display_data"
    },
    {
     "data": {
      "image/png": "[encoded data removed]",
      "text/plain": [
       "<Figure size 432x288 with 1 Axes>"
      ]
     },
     "metadata": {
      "needs_background": "light"
     },
     "output_type": "display_data"
    }
   ],
   "source": [
    "for col in df.select_dtypes('float'):\n",
    "    plt.figure()\n",
    "    sns.histplot(df[col])\n",
    "    "
   ]
  },
  {
   "cell_type": "markdown",
   "id": "5af84a69",
   "metadata": {},
   "source": [
    "## Relation Target / Variables\n",
    "### Création de sous-ensembles East/West, South/North et None"
   ]
  },
  {
   "cell_type": "code",
   "execution_count": 114,
   "id": "d33ce709",
   "metadata": {},
   "outputs": [],
   "source": [
    "eastW_df = df[df['Maneuver type'] == 1]"
   ]
  },
  {
   "cell_type": "code",
   "execution_count": 117,
   "id": "759a4d0a",
   "metadata": {},
   "outputs": [],
   "source": [
    "southN_df = df[df['Maneuver type'] == 2]"
   ]
  },
  {
   "cell_type": "code",
   "execution_count": 118,
   "id": "56ccbd40",
   "metadata": {},
   "outputs": [],
   "source": [
    "none_df = df[df['Maneuver type'] == 0]"
   ]
  },
  {
   "cell_type": "markdown",
   "id": "2334464e",
   "metadata": {},
   "source": [
    "### Relation Target / Delta-t"
   ]
  },
  {
   "cell_type": "code",
   "execution_count": 150,
   "id": "e3e7f18f",
   "metadata": {},
   "outputs": [
    {
     "data": {
      "image/png": "[encoded data removed]",
      "text/plain": [
       "<Figure size 1440x720 with 1 Axes>"
      ]
     },
     "metadata": {
      "needs_background": "light"
     },
     "output_type": "display_data"
    }
   ],
   "source": [
    "plt.figure(figsize=(20,10))\n",
    "ax = sns.countplot(x='Delta-t', hue='Maneuver type', data=df)\n",
    "plt.show()"
   ]
  },
  {
   "cell_type": "markdown",
   "id": "5d75814d",
   "metadata": {},
   "source": [
    "### Relation Target / Delta-Energy"
   ]
  },
  {
   "cell_type": "code",
   "execution_count": null,
   "id": "9a7332f6",
   "metadata": {},
   "outputs": [],
   "source": []
  },
  {
   "cell_type": "code",
   "execution_count": 148,
   "id": "fbc843c1",
   "metadata": {},
   "outputs": [
    {
     "data": {
      "image/png": "[encoded data removed]",
      "text/plain": [
       "<Figure size 1440x720 with 1 Axes>"
      ]
     },
     "metadata": {
      "needs_background": "light"
     },
     "output_type": "display_data"
    }
   ],
   "source": [
    "plt.figure(figsize=(20,10))\n",
    "ax = sns.countplot(x='Delta Energy ', hue='Maneuver type', data=df)\n",
    "plt.show()"
   ]
  },
  {
   "cell_type": "markdown",
   "id": "0d8ef686",
   "metadata": {},
   "source": [
    "### Relation Target / Delta Moment"
   ]
  },
  {
   "cell_type": "code",
   "execution_count": 147,
   "id": "c35274bd",
   "metadata": {},
   "outputs": [
    {
     "data": {
      "image/png": "[encoded data removed]",
      "text/plain": [
       "<Figure size 1440x720 with 1 Axes>"
      ]
     },
     "metadata": {
      "needs_background": "light"
     },
     "output_type": "display_data"
    }
   ],
   "source": [
    "plt.figure(figsize=(20,10))\n",
    "ax = sns.countplot(x='Delta Moment', hue='Maneuver type', data=df)\n",
    "plt.show()"
   ]
  },
  {
   "cell_type": "markdown",
   "id": "27ae9b95",
   "metadata": {},
   "source": [
    "## Analyse un peu plus Avancée\n",
    "### Relation Variables / Variables"
   ]
  },
  {
   "cell_type": "markdown",
   "id": "13e33ece",
   "metadata": {},
   "source": [
    "## Relation Ecc x / Delta Energy"
   ]
  },
  {
   "cell_type": "code",
   "execution_count": 164,
   "id": "f2e43bb7",
   "metadata": {},
   "outputs": [
    {
     "data": {
      "text/plain": [
       "Delta Energy Next        -0.167058\n",
       "Delta Energy Previous    -0.167039\n",
       "Delta Inc X              -0.061107\n",
       "Delta Moment             -0.053924\n",
       "Delta Ecc Y              -0.005366\n",
       "Date                     -0.001923\n",
       "Delta-t                   0.006948\n",
       "Delta Ecc X               0.011861\n",
       "Delta Inc Y               0.097566\n",
       "Maneuver type             0.352029\n",
       "Delta Energy              1.000000\n",
       "Name: Delta Energy , dtype: float64"
      ]
     },
     "execution_count": 164,
     "metadata": {},
     "output_type": "execute_result"
    }
   ],
   "source": [
    "\n",
    "df.corr()['Delta Energy '].sort_values()"
   ]
  },
  {
   "cell_type": "code",
   "execution_count": null,
   "id": "136af1f4",
   "metadata": {},
   "outputs": [],
   "source": []
  },
  {
   "cell_type": "code",
   "execution_count": 165,
   "id": "b96197c2",
   "metadata": {},
   "outputs": [
    {
     "data": {
      "text/plain": [
       "Delta Inc Y              -0.504090\n",
       "Date                     -0.102756\n",
       "Delta Energy Previous    -0.062981\n",
       "Delta Energy             -0.053924\n",
       "Delta Ecc X              -0.012610\n",
       "Delta Energy Next        -0.008701\n",
       "Delta Ecc Y               0.012006\n",
       "Delta-t                   0.017220\n",
       "Delta Inc X               0.270260\n",
       "Maneuver type             0.563152\n",
       "Delta Moment              1.000000\n",
       "Name: Delta Moment, dtype: float64"
      ]
     },
     "execution_count": 165,
     "metadata": {},
     "output_type": "execute_result"
    }
   ],
   "source": [
    "\n",
    "df.corr()['Delta Moment'].sort_values()"
   ]
  },
  {
   "cell_type": "markdown",
   "id": "36bf9907",
   "metadata": {},
   "source": [
    "# PRE-PROCESSING"
   ]
  },
  {
   "cell_type": "code",
   "execution_count": 51,
   "id": "dbf79f08",
   "metadata": {},
   "outputs": [],
   "source": [
    "df = data.copy()"
   ]
  },
  {
   "cell_type": "code",
   "execution_count": 52,
   "id": "e939b8dd",
   "metadata": {},
   "outputs": [
    {
     "data": {
      "text/plain": [
       "Index(['Date', 'Maneuver type', 'Delta-t', 'Delta Inc X ', 'Delta Inc Y',\n",
       "       'Delta Ecc X ', 'Delta Ecc Y', 'Delta Energy ',\n",
       "       'Delta Energy Previous ', 'Delta Energy Next', 'Delta Moment',\n",
       "       'Delta Out-of-plane', 'Delta Along-track', 'Delta Along-track avg'],\n",
       "      dtype='object')"
      ]
     },
     "execution_count": 52,
     "metadata": {},
     "output_type": "execute_result"
    }
   ],
   "source": [
    "df.head()\n",
    "df.columns"
   ]
  },
  {
   "cell_type": "code",
   "execution_count": 53,
   "id": "278b9ded",
   "metadata": {},
   "outputs": [],
   "source": [
    "df = df.drop('Delta Out-of-plane', axis=1)\n",
    "df = df.drop('Delta Along-track', axis=1)\n",
    "df = df.drop('Delta Along-track avg', axis=1)\n",
    "df = df.drop('Date', axis=1)\n",
    "#df = df.drop('Delta-t', axis=1)\n",
    "#df = df.drop('Delta Inc X ', axis=1)\n",
    "#df = df.drop('Delta Ecc X ', axis=1)\n",
    "#df = df.drop('Delta Ecc Y', axis=1)\n"
   ]
  },
  {
   "cell_type": "code",
   "execution_count": 54,
   "id": "56227803",
   "metadata": {},
   "outputs": [
    {
     "data": {
      "text/html": [
       "<div>\n",
       "<style scoped>\n",
       "    .dataframe tbody tr th:only-of-type {\n",
       "        vertical-align: middle;\n",
       "    }\n",
       "\n",
       "    .dataframe tbody tr th {\n",
       "        vertical-align: top;\n",
       "    }\n",
       "\n",
       "    .dataframe thead th {\n",
       "        text-align: right;\n",
       "    }\n",
       "</style>\n",
       "<table border=\"1\" class=\"dataframe\">\n",
       "  <thead>\n",
       "    <tr style=\"text-align: right;\">\n",
       "      <th></th>\n",
       "      <th>Maneuver type</th>\n",
       "      <th>Delta-t</th>\n",
       "      <th>Delta Inc X</th>\n",
       "      <th>Delta Inc Y</th>\n",
       "      <th>Delta Ecc X</th>\n",
       "      <th>Delta Ecc Y</th>\n",
       "      <th>Delta Energy</th>\n",
       "      <th>Delta Energy Previous</th>\n",
       "      <th>Delta Energy Next</th>\n",
       "      <th>Delta Moment</th>\n",
       "    </tr>\n",
       "  </thead>\n",
       "  <tbody>\n",
       "    <tr>\n",
       "      <th>0</th>\n",
       "      <td>0</td>\n",
       "      <td>1.224519</td>\n",
       "      <td>0.000010</td>\n",
       "      <td>0.000258</td>\n",
       "      <td>-0.000058</td>\n",
       "      <td>0.000132</td>\n",
       "      <td>-46.793223</td>\n",
       "      <td>0.000000</td>\n",
       "      <td>99.526227</td>\n",
       "      <td>0.000517</td>\n",
       "    </tr>\n",
       "    <tr>\n",
       "      <th>1</th>\n",
       "      <td>1</td>\n",
       "      <td>0.770030</td>\n",
       "      <td>-0.000025</td>\n",
       "      <td>-0.000213</td>\n",
       "      <td>0.000075</td>\n",
       "      <td>-0.000106</td>\n",
       "      <td>99.526227</td>\n",
       "      <td>-46.793223</td>\n",
       "      <td>-4.871059</td>\n",
       "      <td>0.000429</td>\n",
       "    </tr>\n",
       "    <tr>\n",
       "      <th>2</th>\n",
       "      <td>0</td>\n",
       "      <td>0.997276</td>\n",
       "      <td>-0.000015</td>\n",
       "      <td>0.000030</td>\n",
       "      <td>-0.000012</td>\n",
       "      <td>-0.000009</td>\n",
       "      <td>-4.871059</td>\n",
       "      <td>99.526227</td>\n",
       "      <td>-16.184467</td>\n",
       "      <td>0.000067</td>\n",
       "    </tr>\n",
       "    <tr>\n",
       "      <th>3</th>\n",
       "      <td>0</td>\n",
       "      <td>1.994546</td>\n",
       "      <td>-0.000018</td>\n",
       "      <td>0.000027</td>\n",
       "      <td>0.000005</td>\n",
       "      <td>0.000001</td>\n",
       "      <td>-16.184467</td>\n",
       "      <td>-4.871059</td>\n",
       "      <td>-101.914365</td>\n",
       "      <td>0.000065</td>\n",
       "    </tr>\n",
       "    <tr>\n",
       "      <th>4</th>\n",
       "      <td>0</td>\n",
       "      <td>0.725489</td>\n",
       "      <td>0.000026</td>\n",
       "      <td>-0.000008</td>\n",
       "      <td>0.000027</td>\n",
       "      <td>0.000033</td>\n",
       "      <td>-101.914365</td>\n",
       "      <td>-16.184467</td>\n",
       "      <td>84.064344</td>\n",
       "      <td>0.000054</td>\n",
       "    </tr>\n",
       "  </tbody>\n",
       "</table>\n",
       "</div>"
      ],
      "text/plain": [
       "   Maneuver type   Delta-t  Delta Inc X   Delta Inc Y  Delta Ecc X   \\\n",
       "0              0  1.224519      0.000010     0.000258     -0.000058   \n",
       "1              1  0.770030     -0.000025    -0.000213      0.000075   \n",
       "2              0  0.997276     -0.000015     0.000030     -0.000012   \n",
       "3              0  1.994546     -0.000018     0.000027      0.000005   \n",
       "4              0  0.725489      0.000026    -0.000008      0.000027   \n",
       "\n",
       "   Delta Ecc Y  Delta Energy   Delta Energy Previous   Delta Energy Next  \\\n",
       "0     0.000132     -46.793223                0.000000          99.526227   \n",
       "1    -0.000106      99.526227              -46.793223          -4.871059   \n",
       "2    -0.000009      -4.871059               99.526227         -16.184467   \n",
       "3     0.000001     -16.184467               -4.871059        -101.914365   \n",
       "4     0.000033    -101.914365              -16.184467          84.064344   \n",
       "\n",
       "   Delta Moment  \n",
       "0      0.000517  \n",
       "1      0.000429  \n",
       "2      0.000067  \n",
       "3      0.000065  \n",
       "4      0.000054  "
      ]
     },
     "execution_count": 54,
     "metadata": {},
     "output_type": "execute_result"
    }
   ],
   "source": [
    "df.head()"
   ]
  },
  {
   "cell_type": "markdown",
   "id": "ba1911ba",
   "metadata": {},
   "source": [
    "## TrainTest - Nettoyage - Encodage"
   ]
  },
  {
   "cell_type": "code",
   "execution_count": 23,
   "id": "a8f3c57c",
   "metadata": {},
   "outputs": [],
   "source": [
    "from sklearn.model_selection import train_test_split"
   ]
  },
  {
   "cell_type": "code",
   "execution_count": 174,
   "id": "749ac332",
   "metadata": {},
   "outputs": [],
   "source": [
    "#trainset , test = train_test_splitt()\n",
    "x = ([[0, 1],\n",
    "       [2, 3],\n",
    "       [4, 5],\n",
    "       [6, 7],\n",
    "       [8, 9]])"
   ]
  },
  {
   "cell_type": "code",
   "execution_count": 183,
   "id": "874304f2",
   "metadata": {},
   "outputs": [],
   "source": [
    "X, y = np.arange(10).reshape((5, 2)), range(5)"
   ]
  },
  {
   "cell_type": "code",
   "execution_count": 205,
   "id": "b4e8da8a",
   "metadata": {},
   "outputs": [
    {
     "data": {
      "text/plain": [
       "array([[0, 1],\n",
       "       [2, 3],\n",
       "       [4, 5],\n",
       "       [6, 7],\n",
       "       [8, 9]])"
      ]
     },
     "execution_count": 205,
     "metadata": {},
     "output_type": "execute_result"
    }
   ],
   "source": [
    "X"
   ]
  },
  {
   "cell_type": "markdown",
   "id": "66eea84a",
   "metadata": {},
   "source": [
    "## TrainTest (de 1 a 1000)- Nettoyage - Encodage\n"
   ]
  },
  {
   "cell_type": "code",
   "execution_count": 55,
   "id": "d8947bcf",
   "metadata": {},
   "outputs": [],
   "source": [
    "#Création de deuxx dataset un dataset pour la validation et un autre pour les tes\n",
    "trainset, testset = train_test_split(df, test_size=0.361, shuffle=False)"
   ]
  },
  {
   "cell_type": "code",
   "execution_count": 56,
   "id": "d84d9250",
   "metadata": {},
   "outputs": [
    {
     "data": {
      "text/plain": [
       "0    786\n",
       "1    141\n",
       "2     69\n",
       "Name: Maneuver type, dtype: int64"
      ]
     },
     "execution_count": 56,
     "metadata": {},
     "output_type": "execute_result"
    }
   ],
   "source": [
    "trainset['Maneuver type'].value_counts()\n"
   ]
  },
  {
   "cell_type": "code",
   "execution_count": 57,
   "id": "dfc4778e",
   "metadata": {},
   "outputs": [
    {
     "data": {
      "text/html": [
       "<div>\n",
       "<style scoped>\n",
       "    .dataframe tbody tr th:only-of-type {\n",
       "        vertical-align: middle;\n",
       "    }\n",
       "\n",
       "    .dataframe tbody tr th {\n",
       "        vertical-align: top;\n",
       "    }\n",
       "\n",
       "    .dataframe thead th {\n",
       "        text-align: right;\n",
       "    }\n",
       "</style>\n",
       "<table border=\"1\" class=\"dataframe\">\n",
       "  <thead>\n",
       "    <tr style=\"text-align: right;\">\n",
       "      <th></th>\n",
       "      <th>Maneuver type</th>\n",
       "      <th>Delta-t</th>\n",
       "      <th>Delta Inc X</th>\n",
       "      <th>Delta Inc Y</th>\n",
       "      <th>Delta Ecc X</th>\n",
       "      <th>Delta Ecc Y</th>\n",
       "      <th>Delta Energy</th>\n",
       "      <th>Delta Energy Previous</th>\n",
       "      <th>Delta Energy Next</th>\n",
       "      <th>Delta Moment</th>\n",
       "    </tr>\n",
       "  </thead>\n",
       "  <tbody>\n",
       "    <tr>\n",
       "      <th>0</th>\n",
       "      <td>0</td>\n",
       "      <td>1.224519</td>\n",
       "      <td>0.000010</td>\n",
       "      <td>0.000258</td>\n",
       "      <td>-0.000058</td>\n",
       "      <td>0.000132</td>\n",
       "      <td>-46.793223</td>\n",
       "      <td>0.000000</td>\n",
       "      <td>99.526227</td>\n",
       "      <td>0.000517</td>\n",
       "    </tr>\n",
       "    <tr>\n",
       "      <th>1</th>\n",
       "      <td>1</td>\n",
       "      <td>0.770030</td>\n",
       "      <td>-0.000025</td>\n",
       "      <td>-0.000213</td>\n",
       "      <td>0.000075</td>\n",
       "      <td>-0.000106</td>\n",
       "      <td>99.526227</td>\n",
       "      <td>-46.793223</td>\n",
       "      <td>-4.871059</td>\n",
       "      <td>0.000429</td>\n",
       "    </tr>\n",
       "    <tr>\n",
       "      <th>2</th>\n",
       "      <td>0</td>\n",
       "      <td>0.997276</td>\n",
       "      <td>-0.000015</td>\n",
       "      <td>0.000030</td>\n",
       "      <td>-0.000012</td>\n",
       "      <td>-0.000009</td>\n",
       "      <td>-4.871059</td>\n",
       "      <td>99.526227</td>\n",
       "      <td>-16.184467</td>\n",
       "      <td>0.000067</td>\n",
       "    </tr>\n",
       "    <tr>\n",
       "      <th>3</th>\n",
       "      <td>0</td>\n",
       "      <td>1.994546</td>\n",
       "      <td>-0.000018</td>\n",
       "      <td>0.000027</td>\n",
       "      <td>0.000005</td>\n",
       "      <td>0.000001</td>\n",
       "      <td>-16.184467</td>\n",
       "      <td>-4.871059</td>\n",
       "      <td>-101.914365</td>\n",
       "      <td>0.000065</td>\n",
       "    </tr>\n",
       "    <tr>\n",
       "      <th>4</th>\n",
       "      <td>0</td>\n",
       "      <td>0.725489</td>\n",
       "      <td>0.000026</td>\n",
       "      <td>-0.000008</td>\n",
       "      <td>0.000027</td>\n",
       "      <td>0.000033</td>\n",
       "      <td>-101.914365</td>\n",
       "      <td>-16.184467</td>\n",
       "      <td>84.064344</td>\n",
       "      <td>0.000054</td>\n",
       "    </tr>\n",
       "  </tbody>\n",
       "</table>\n",
       "</div>"
      ],
      "text/plain": [
       "   Maneuver type   Delta-t  Delta Inc X   Delta Inc Y  Delta Ecc X   \\\n",
       "0              0  1.224519      0.000010     0.000258     -0.000058   \n",
       "1              1  0.770030     -0.000025    -0.000213      0.000075   \n",
       "2              0  0.997276     -0.000015     0.000030     -0.000012   \n",
       "3              0  1.994546     -0.000018     0.000027      0.000005   \n",
       "4              0  0.725489      0.000026    -0.000008      0.000027   \n",
       "\n",
       "   Delta Ecc Y  Delta Energy   Delta Energy Previous   Delta Energy Next  \\\n",
       "0     0.000132     -46.793223                0.000000          99.526227   \n",
       "1    -0.000106      99.526227              -46.793223          -4.871059   \n",
       "2    -0.000009      -4.871059               99.526227         -16.184467   \n",
       "3     0.000001     -16.184467               -4.871059        -101.914365   \n",
       "4     0.000033    -101.914365              -16.184467          84.064344   \n",
       "\n",
       "   Delta Moment  \n",
       "0      0.000517  \n",
       "1      0.000429  \n",
       "2      0.000067  \n",
       "3      0.000065  \n",
       "4      0.000054  "
      ]
     },
     "execution_count": 57,
     "metadata": {},
     "output_type": "execute_result"
    }
   ],
   "source": [
    "trainset.head()"
   ]
  },
  {
   "cell_type": "code",
   "execution_count": 58,
   "id": "b974b2a2",
   "metadata": {},
   "outputs": [
    {
     "data": {
      "text/plain": [
       "0    481\n",
       "1     54\n",
       "2     28\n",
       "Name: Maneuver type, dtype: int64"
      ]
     },
     "execution_count": 58,
     "metadata": {},
     "output_type": "execute_result"
    }
   ],
   "source": [
    "testset['Maneuver type'].value_counts()"
   ]
  },
  {
   "cell_type": "markdown",
   "id": "9faa3a90",
   "metadata": {},
   "source": [
    "#### Bon je vais rétirer du dataset la valeur 0 pour le cas ou il y'a pas de maneuve \n",
    "#### et entrainer le model juste avec 1 et 2  valeurs présentent dans le dataset initial\n"
   ]
  },
  {
   "cell_type": "code",
   "execution_count": 59,
   "id": "b43a6fcf",
   "metadata": {},
   "outputs": [
    {
     "name": "stderr",
     "output_type": "stream",
     "text": [
      "C:\\Users\\Arthur Atonleu\\anaconda3\\lib\\site-packages\\pandas\\core\\frame.py:4308: SettingWithCopyWarning: \n",
      "A value is trying to be set on a copy of a slice from a DataFrame\n",
      "\n",
      "See the caveats in the documentation: https://pandas.pydata.org/pandas-docs/stable/user_guide/indexing.html#returning-a-view-versus-a-copy\n",
      "  return super().drop(\n"
     ]
    }
   ],
   "source": [
    "#def removeValue:\n",
    " #   for i in testset['Maneuver type']\n",
    "  #   if i==0:\n",
    "   #     testset.\n",
    "testset.drop( testset[ testset['Maneuver type'] == 0 ].index, inplace=True)    "
   ]
  },
  {
   "cell_type": "code",
   "execution_count": 60,
   "id": "f75de0f0",
   "metadata": {},
   "outputs": [
    {
     "data": {
      "text/plain": [
       "1    54\n",
       "2    28\n",
       "Name: Maneuver type, dtype: int64"
      ]
     },
     "execution_count": 60,
     "metadata": {},
     "output_type": "execute_result"
    }
   ],
   "source": [
    "testset['Maneuver type'].value_counts()"
   ]
  },
  {
   "cell_type": "code",
   "execution_count": 61,
   "id": "b1e68fc6",
   "metadata": {},
   "outputs": [],
   "source": [
    "def preprocessing(df):\n",
    "    \n",
    "    #df = feature_engineering(df)\n",
    "    \n",
    "    \n",
    "    X = df.drop('Maneuver type', axis=1)\n",
    "    y = df['Maneuver type']\n",
    "    \n",
    "    print(y.value_counts())\n",
    "    \n",
    "    return X, y"
   ]
  },
  {
   "cell_type": "code",
   "execution_count": 62,
   "id": "30a35a2d",
   "metadata": {},
   "outputs": [
    {
     "name": "stdout",
     "output_type": "stream",
     "text": [
      "0    786\n",
      "1    141\n",
      "2     69\n",
      "Name: Maneuver type, dtype: int64\n"
     ]
    }
   ],
   "source": [
    "X_train, y_train = preprocessing(trainset)"
   ]
  },
  {
   "cell_type": "code",
   "execution_count": 268,
   "id": "cba32625",
   "metadata": {},
   "outputs": [
    {
     "name": "stderr",
     "output_type": "stream",
     "text": [
      "C:\\Users\\Arthur Atonleu\\anaconda3\\lib\\site-packages\\pandas\\core\\frame.py:4308: SettingWithCopyWarning: \n",
      "A value is trying to be set on a copy of a slice from a DataFrame\n",
      "\n",
      "See the caveats in the documentation: https://pandas.pydata.org/pandas-docs/stable/user_guide/indexing.html#returning-a-view-versus-a-copy\n",
      "  return super().drop(\n"
     ]
    }
   ],
   "source": [
    "#def removeValue:\n",
    " #   for i in testset['Maneuver type']\n",
    "  #   if i==0:\n",
    "   #     testset.\n",
    "#trainset.drop( trainset[ trainset['Maneuver type'] == 0 ].index, inplace=True)    "
   ]
  },
  {
   "cell_type": "code",
   "execution_count": 63,
   "id": "c6c59405",
   "metadata": {},
   "outputs": [
    {
     "name": "stdout",
     "output_type": "stream",
     "text": [
      "1    141\n",
      "2     69\n",
      "Name: Maneuver type, dtype: int64\n"
     ]
    },
    {
     "name": "stderr",
     "output_type": "stream",
     "text": [
      "C:\\Users\\Arthur Atonleu\\anaconda3\\lib\\site-packages\\pandas\\core\\frame.py:4308: SettingWithCopyWarning: \n",
      "A value is trying to be set on a copy of a slice from a DataFrame\n",
      "\n",
      "See the caveats in the documentation: https://pandas.pydata.org/pandas-docs/stable/user_guide/indexing.html#returning-a-view-versus-a-copy\n",
      "  return super().drop(\n"
     ]
    }
   ],
   "source": [
    "trainset.drop( trainset[ trainset['Maneuver type'] == 0 ].index, inplace=True)    \n",
    "X_train, y_train = preprocessing(trainset)"
   ]
  },
  {
   "cell_type": "code",
   "execution_count": 64,
   "id": "080f3a6f",
   "metadata": {},
   "outputs": [
    {
     "name": "stdout",
     "output_type": "stream",
     "text": [
      "1    54\n",
      "2    28\n",
      "Name: Maneuver type, dtype: int64\n"
     ]
    },
    {
     "name": "stderr",
     "output_type": "stream",
     "text": [
      "C:\\Users\\Arthur Atonleu\\anaconda3\\lib\\site-packages\\pandas\\core\\frame.py:4308: SettingWithCopyWarning: \n",
      "A value is trying to be set on a copy of a slice from a DataFrame\n",
      "\n",
      "See the caveats in the documentation: https://pandas.pydata.org/pandas-docs/stable/user_guide/indexing.html#returning-a-view-versus-a-copy\n",
      "  return super().drop(\n"
     ]
    }
   ],
   "source": [
    "testset.drop( testset[ testset['Maneuver type'] == 0 ].index, inplace=True)    \n",
    "X_test, y_test = preprocessing(testset)"
   ]
  },
  {
   "cell_type": "code",
   "execution_count": null,
   "id": "6eccf560",
   "metadata": {},
   "outputs": [],
   "source": []
  },
  {
   "cell_type": "markdown",
   "id": "70eceb1d",
   "metadata": {},
   "source": [
    "## Modellisation"
   ]
  },
  {
   "cell_type": "code",
   "execution_count": 69,
   "id": "0acfface",
   "metadata": {},
   "outputs": [],
   "source": [
    "#Implémentation de plusieurs fonctions et choix de celle qui a un recall le plus élévée\n",
    "\n",
    "from sklearn.tree import DecisionTreeClassifier\n",
    "from sklearn.ensemble import RandomForestClassifier, AdaBoostClassifier\n",
    "from sklearn.svm import SVC\n",
    "from sklearn.neighbors import KNeighborsClassifier\n",
    "from sklearn.pipeline import make_pipeline\n",
    "from sklearn.feature_selection import SelectKBest, f_classif\n",
    "from sklearn.preprocessing import PolynomialFeatures, StandardScaler"
   ]
  },
  {
   "cell_type": "code",
   "execution_count": 70,
   "id": "86cb78db",
   "metadata": {},
   "outputs": [],
   "source": [
    "preprocessor = make_pipeline(PolynomialFeatures(2, include_bias=False), SelectKBest(f_classif, k=10))"
   ]
  },
  {
   "cell_type": "code",
   "execution_count": 71,
   "id": "2ca60cde",
   "metadata": {},
   "outputs": [],
   "source": [
    "RandomForest = make_pipeline(preprocessor, RandomForestClassifier(random_state=0))\n",
    "AdaBoost = make_pipeline(preprocessor, AdaBoostClassifier(random_state=0))\n",
    "SVM = make_pipeline(preprocessor, StandardScaler(), SVC(random_state=0))\n",
    "KNN = make_pipeline(preprocessor, StandardScaler(), KNeighborsClassifier())"
   ]
  },
  {
   "cell_type": "code",
   "execution_count": 72,
   "id": "0a55517f",
   "metadata": {},
   "outputs": [],
   "source": [
    "dict_of_models = {'RandomForest': RandomForest,\n",
    "                  'AdaBoost' : AdaBoost,\n",
    "                  'SVM': SVM,\n",
    "                  'KNN': KNN\n",
    "                 }"
   ]
  },
  {
   "cell_type": "code",
   "execution_count": 73,
   "id": "9b2d3fdd",
   "metadata": {},
   "outputs": [
    {
     "name": "stdout",
     "output_type": "stream",
     "text": [
      "RandomForest\n",
      "[[53  1]\n",
      " [ 1 27]]\n",
      "              precision    recall  f1-score   support\n",
      "\n",
      "           1       0.98      0.98      0.98        54\n",
      "           2       0.96      0.96      0.96        28\n",
      "\n",
      "    accuracy                           0.98        82\n",
      "   macro avg       0.97      0.97      0.97        82\n",
      "weighted avg       0.98      0.98      0.98        82\n",
      "\n",
      "AdaBoost\n",
      "[[53  1]\n",
      " [ 2 26]]\n",
      "              precision    recall  f1-score   support\n",
      "\n",
      "           1       0.96      0.98      0.97        54\n",
      "           2       0.96      0.93      0.95        28\n",
      "\n",
      "    accuracy                           0.96        82\n",
      "   macro avg       0.96      0.96      0.96        82\n",
      "weighted avg       0.96      0.96      0.96        82\n",
      "\n",
      "SVM\n",
      "[[54  0]\n",
      " [ 3 25]]\n",
      "              precision    recall  f1-score   support\n",
      "\n",
      "           1       0.95      1.00      0.97        54\n",
      "           2       1.00      0.89      0.94        28\n",
      "\n",
      "    accuracy                           0.96        82\n",
      "   macro avg       0.97      0.95      0.96        82\n",
      "weighted avg       0.97      0.96      0.96        82\n",
      "\n",
      "KNN\n",
      "[[54  0]\n",
      " [ 2 26]]\n",
      "              precision    recall  f1-score   support\n",
      "\n",
      "           1       0.96      1.00      0.98        54\n",
      "           2       1.00      0.93      0.96        28\n",
      "\n",
      "    accuracy                           0.98        82\n",
      "   macro avg       0.98      0.96      0.97        82\n",
      "weighted avg       0.98      0.98      0.98        82\n",
      "\n"
     ]
    },
    {
     "data": {
      "image/png": "[encoded data removed]",
      "text/plain": [
       "<Figure size 864x576 with 1 Axes>"
      ]
     },
     "metadata": {
      "needs_background": "light"
     },
     "output_type": "display_data"
    },
    {
     "data": {
      "image/png": "[encoded data removed]",
      "text/plain": [
       "<Figure size 864x576 with 1 Axes>"
      ]
     },
     "metadata": {
      "needs_background": "light"
     },
     "output_type": "display_data"
    },
    {
     "data": {
      "image/png": "[encoded data removed]",
      "text/plain": [
       "<Figure size 864x576 with 1 Axes>"
      ]
     },
     "metadata": {
      "needs_background": "light"
     },
     "output_type": "display_data"
    },
    {
     "data": {
      "image/png": "[encoded data removed]",
      "text/plain": [
       "<Figure size 864x576 with 1 Axes>"
      ]
     },
     "metadata": {
      "needs_background": "light"
     },
     "output_type": "display_data"
    }
   ],
   "source": [
    "for name, model in dict_of_models.items():\n",
    "    print(name)\n",
    "    evaluation(model)"
   ]
  },
  {
   "cell_type": "markdown",
   "id": "49331ef4",
   "metadata": {},
   "source": [
    "## OPTIMISATION"
   ]
  },
  {
   "cell_type": "code",
   "execution_count": 74,
   "id": "45a1c64f",
   "metadata": {},
   "outputs": [],
   "source": [
    "from sklearn.model_selection import GridSearchCV, RandomizedSearchCV"
   ]
  },
  {
   "cell_type": "code",
   "execution_count": 75,
   "id": "294c9dcf",
   "metadata": {},
   "outputs": [
    {
     "data": {
      "text/plain": [
       "Pipeline(steps=[('pipeline',\n",
       "                 Pipeline(steps=[('polynomialfeatures',\n",
       "                                  PolynomialFeatures(include_bias=False)),\n",
       "                                 ('selectkbest', SelectKBest())])),\n",
       "                ('standardscaler', StandardScaler()),\n",
       "                ('svc', SVC(random_state=0))])"
      ]
     },
     "execution_count": 75,
     "metadata": {},
     "output_type": "execute_result"
    }
   ],
   "source": [
    "SVM"
   ]
  },
  {
   "cell_type": "code",
   "execution_count": 77,
   "id": "3ac8f442",
   "metadata": {},
   "outputs": [],
   "source": [
    "hyper_params = {'svc__gamma':[1e-3, 1e-4, 0.0005],\n",
    "                'svc__C':[1, 10, 100, 1000, 3000], \n",
    "               'pipeline__polynomialfeatures__degree':[2, 3],\n",
    "               'pipeline__selectkbest__k': range(45, 60)}"
   ]
  },
  {
   "cell_type": "code",
   "execution_count": 79,
   "id": "221dd435",
   "metadata": {},
   "outputs": [
    {
     "name": "stderr",
     "output_type": "stream",
     "text": [
      "C:\\Users\\Arthur Atonleu\\anaconda3\\lib\\site-packages\\sklearn\\model_selection\\_validation.py:610: FitFailedWarning: Estimator fit failed. The score on this train-test partition for these parameters will be set to nan. Details: \n",
      "Traceback (most recent call last):\n",
      "  File \"C:\\Users\\Arthur Atonleu\\anaconda3\\lib\\site-packages\\sklearn\\model_selection\\_validation.py\", line 593, in _fit_and_score\n",
      "    estimator.fit(X_train, y_train, **fit_params)\n",
      "  File \"C:\\Users\\Arthur Atonleu\\anaconda3\\lib\\site-packages\\sklearn\\pipeline.py\", line 341, in fit\n",
      "    Xt = self._fit(X, y, **fit_params_steps)\n",
      "  File \"C:\\Users\\Arthur Atonleu\\anaconda3\\lib\\site-packages\\sklearn\\pipeline.py\", line 303, in _fit\n",
      "    X, fitted_transformer = fit_transform_one_cached(\n",
      "  File \"C:\\Users\\Arthur Atonleu\\anaconda3\\lib\\site-packages\\joblib\\memory.py\", line 352, in __call__\n",
      "    return self.func(*args, **kwargs)\n",
      "  File \"C:\\Users\\Arthur Atonleu\\anaconda3\\lib\\site-packages\\sklearn\\pipeline.py\", line 754, in _fit_transform_one\n",
      "    res = transformer.fit_transform(X, y, **fit_params)\n",
      "  File \"C:\\Users\\Arthur Atonleu\\anaconda3\\lib\\site-packages\\sklearn\\pipeline.py\", line 387, in fit_transform\n",
      "    return last_step.fit_transform(Xt, y, **fit_params_last_step)\n",
      "  File \"C:\\Users\\Arthur Atonleu\\anaconda3\\lib\\site-packages\\sklearn\\base.py\", line 702, in fit_transform\n",
      "    return self.fit(X, y, **fit_params).transform(X)\n",
      "  File \"C:\\Users\\Arthur Atonleu\\anaconda3\\lib\\site-packages\\sklearn\\feature_selection\\_univariate_selection.py\", line 351, in fit\n",
      "    self._check_params(X, y)\n",
      "  File \"C:\\Users\\Arthur Atonleu\\anaconda3\\lib\\site-packages\\sklearn\\feature_selection\\_univariate_selection.py\", line 525, in _check_params\n",
      "    raise ValueError(\"k should be >=0, <= n_features = %d; got %r. \"\n",
      "ValueError: k should be >=0, <= n_features = 54; got 55. Use k='all' to return all features.\n",
      "\n",
      "  warnings.warn(\"Estimator fit failed. The score on this train-test\"\n",
      "C:\\Users\\Arthur Atonleu\\anaconda3\\lib\\site-packages\\sklearn\\model_selection\\_validation.py:610: FitFailedWarning: Estimator fit failed. The score on this train-test partition for these parameters will be set to nan. Details: \n",
      "Traceback (most recent call last):\n",
      "  File \"C:\\Users\\Arthur Atonleu\\anaconda3\\lib\\site-packages\\sklearn\\model_selection\\_validation.py\", line 593, in _fit_and_score\n",
      "    estimator.fit(X_train, y_train, **fit_params)\n",
      "  File \"C:\\Users\\Arthur Atonleu\\anaconda3\\lib\\site-packages\\sklearn\\pipeline.py\", line 341, in fit\n",
      "    Xt = self._fit(X, y, **fit_params_steps)\n",
      "  File \"C:\\Users\\Arthur Atonleu\\anaconda3\\lib\\site-packages\\sklearn\\pipeline.py\", line 303, in _fit\n",
      "    X, fitted_transformer = fit_transform_one_cached(\n",
      "  File \"C:\\Users\\Arthur Atonleu\\anaconda3\\lib\\site-packages\\joblib\\memory.py\", line 352, in __call__\n",
      "    return self.func(*args, **kwargs)\n",
      "  File \"C:\\Users\\Arthur Atonleu\\anaconda3\\lib\\site-packages\\sklearn\\pipeline.py\", line 754, in _fit_transform_one\n",
      "    res = transformer.fit_transform(X, y, **fit_params)\n",
      "  File \"C:\\Users\\Arthur Atonleu\\anaconda3\\lib\\site-packages\\sklearn\\pipeline.py\", line 387, in fit_transform\n",
      "    return last_step.fit_transform(Xt, y, **fit_params_last_step)\n",
      "  File \"C:\\Users\\Arthur Atonleu\\anaconda3\\lib\\site-packages\\sklearn\\base.py\", line 702, in fit_transform\n",
      "    return self.fit(X, y, **fit_params).transform(X)\n",
      "  File \"C:\\Users\\Arthur Atonleu\\anaconda3\\lib\\site-packages\\sklearn\\feature_selection\\_univariate_selection.py\", line 351, in fit\n",
      "    self._check_params(X, y)\n",
      "  File \"C:\\Users\\Arthur Atonleu\\anaconda3\\lib\\site-packages\\sklearn\\feature_selection\\_univariate_selection.py\", line 525, in _check_params\n",
      "    raise ValueError(\"k should be >=0, <= n_features = %d; got %r. \"\n",
      "ValueError: k should be >=0, <= n_features = 54; got 55. Use k='all' to return all features.\n",
      "\n",
      "  warnings.warn(\"Estimator fit failed. The score on this train-test\"\n",
      "C:\\Users\\Arthur Atonleu\\anaconda3\\lib\\site-packages\\sklearn\\model_selection\\_validation.py:610: FitFailedWarning: Estimator fit failed. The score on this train-test partition for these parameters will be set to nan. Details: \n",
      "Traceback (most recent call last):\n",
      "  File \"C:\\Users\\Arthur Atonleu\\anaconda3\\lib\\site-packages\\sklearn\\model_selection\\_validation.py\", line 593, in _fit_and_score\n",
      "    estimator.fit(X_train, y_train, **fit_params)\n",
      "  File \"C:\\Users\\Arthur Atonleu\\anaconda3\\lib\\site-packages\\sklearn\\pipeline.py\", line 341, in fit\n",
      "    Xt = self._fit(X, y, **fit_params_steps)\n",
      "  File \"C:\\Users\\Arthur Atonleu\\anaconda3\\lib\\site-packages\\sklearn\\pipeline.py\", line 303, in _fit\n",
      "    X, fitted_transformer = fit_transform_one_cached(\n",
      "  File \"C:\\Users\\Arthur Atonleu\\anaconda3\\lib\\site-packages\\joblib\\memory.py\", line 352, in __call__\n",
      "    return self.func(*args, **kwargs)\n",
      "  File \"C:\\Users\\Arthur Atonleu\\anaconda3\\lib\\site-packages\\sklearn\\pipeline.py\", line 754, in _fit_transform_one\n",
      "    res = transformer.fit_transform(X, y, **fit_params)\n",
      "  File \"C:\\Users\\Arthur Atonleu\\anaconda3\\lib\\site-packages\\sklearn\\pipeline.py\", line 387, in fit_transform\n",
      "    return last_step.fit_transform(Xt, y, **fit_params_last_step)\n",
      "  File \"C:\\Users\\Arthur Atonleu\\anaconda3\\lib\\site-packages\\sklearn\\base.py\", line 702, in fit_transform\n",
      "    return self.fit(X, y, **fit_params).transform(X)\n",
      "  File \"C:\\Users\\Arthur Atonleu\\anaconda3\\lib\\site-packages\\sklearn\\feature_selection\\_univariate_selection.py\", line 351, in fit\n",
      "    self._check_params(X, y)\n",
      "  File \"C:\\Users\\Arthur Atonleu\\anaconda3\\lib\\site-packages\\sklearn\\feature_selection\\_univariate_selection.py\", line 525, in _check_params\n",
      "    raise ValueError(\"k should be >=0, <= n_features = %d; got %r. \"\n",
      "ValueError: k should be >=0, <= n_features = 54; got 55. Use k='all' to return all features.\n",
      "\n",
      "  warnings.warn(\"Estimator fit failed. The score on this train-test\"\n",
      "C:\\Users\\Arthur Atonleu\\anaconda3\\lib\\site-packages\\sklearn\\model_selection\\_validation.py:610: FitFailedWarning: Estimator fit failed. The score on this train-test partition for these parameters will be set to nan. Details: \n",
      "Traceback (most recent call last):\n",
      "  File \"C:\\Users\\Arthur Atonleu\\anaconda3\\lib\\site-packages\\sklearn\\model_selection\\_validation.py\", line 593, in _fit_and_score\n",
      "    estimator.fit(X_train, y_train, **fit_params)\n",
      "  File \"C:\\Users\\Arthur Atonleu\\anaconda3\\lib\\site-packages\\sklearn\\pipeline.py\", line 341, in fit\n",
      "    Xt = self._fit(X, y, **fit_params_steps)\n",
      "  File \"C:\\Users\\Arthur Atonleu\\anaconda3\\lib\\site-packages\\sklearn\\pipeline.py\", line 303, in _fit\n",
      "    X, fitted_transformer = fit_transform_one_cached(\n",
      "  File \"C:\\Users\\Arthur Atonleu\\anaconda3\\lib\\site-packages\\joblib\\memory.py\", line 352, in __call__\n",
      "    return self.func(*args, **kwargs)\n",
      "  File \"C:\\Users\\Arthur Atonleu\\anaconda3\\lib\\site-packages\\sklearn\\pipeline.py\", line 754, in _fit_transform_one\n",
      "    res = transformer.fit_transform(X, y, **fit_params)\n",
      "  File \"C:\\Users\\Arthur Atonleu\\anaconda3\\lib\\site-packages\\sklearn\\pipeline.py\", line 387, in fit_transform\n",
      "    return last_step.fit_transform(Xt, y, **fit_params_last_step)\n",
      "  File \"C:\\Users\\Arthur Atonleu\\anaconda3\\lib\\site-packages\\sklearn\\base.py\", line 702, in fit_transform\n",
      "    return self.fit(X, y, **fit_params).transform(X)\n",
      "  File \"C:\\Users\\Arthur Atonleu\\anaconda3\\lib\\site-packages\\sklearn\\feature_selection\\_univariate_selection.py\", line 351, in fit\n",
      "    self._check_params(X, y)\n",
      "  File \"C:\\Users\\Arthur Atonleu\\anaconda3\\lib\\site-packages\\sklearn\\feature_selection\\_univariate_selection.py\", line 525, in _check_params\n",
      "    raise ValueError(\"k should be >=0, <= n_features = %d; got %r. \"\n",
      "ValueError: k should be >=0, <= n_features = 54; got 55. Use k='all' to return all features.\n",
      "\n",
      "  warnings.warn(\"Estimator fit failed. The score on this train-test\"\n",
      "C:\\Users\\Arthur Atonleu\\anaconda3\\lib\\site-packages\\sklearn\\model_selection\\_validation.py:610: FitFailedWarning: Estimator fit failed. The score on this train-test partition for these parameters will be set to nan. Details: \n",
      "Traceback (most recent call last):\n",
      "  File \"C:\\Users\\Arthur Atonleu\\anaconda3\\lib\\site-packages\\sklearn\\model_selection\\_validation.py\", line 593, in _fit_and_score\n",
      "    estimator.fit(X_train, y_train, **fit_params)\n",
      "  File \"C:\\Users\\Arthur Atonleu\\anaconda3\\lib\\site-packages\\sklearn\\pipeline.py\", line 341, in fit\n",
      "    Xt = self._fit(X, y, **fit_params_steps)\n",
      "  File \"C:\\Users\\Arthur Atonleu\\anaconda3\\lib\\site-packages\\sklearn\\pipeline.py\", line 303, in _fit\n",
      "    X, fitted_transformer = fit_transform_one_cached(\n",
      "  File \"C:\\Users\\Arthur Atonleu\\anaconda3\\lib\\site-packages\\joblib\\memory.py\", line 352, in __call__\n",
      "    return self.func(*args, **kwargs)\n",
      "  File \"C:\\Users\\Arthur Atonleu\\anaconda3\\lib\\site-packages\\sklearn\\pipeline.py\", line 754, in _fit_transform_one\n",
      "    res = transformer.fit_transform(X, y, **fit_params)\n",
      "  File \"C:\\Users\\Arthur Atonleu\\anaconda3\\lib\\site-packages\\sklearn\\pipeline.py\", line 387, in fit_transform\n",
      "    return last_step.fit_transform(Xt, y, **fit_params_last_step)\n",
      "  File \"C:\\Users\\Arthur Atonleu\\anaconda3\\lib\\site-packages\\sklearn\\base.py\", line 702, in fit_transform\n",
      "    return self.fit(X, y, **fit_params).transform(X)\n",
      "  File \"C:\\Users\\Arthur Atonleu\\anaconda3\\lib\\site-packages\\sklearn\\feature_selection\\_univariate_selection.py\", line 351, in fit\n",
      "    self._check_params(X, y)\n",
      "  File \"C:\\Users\\Arthur Atonleu\\anaconda3\\lib\\site-packages\\sklearn\\feature_selection\\_univariate_selection.py\", line 525, in _check_params\n",
      "    raise ValueError(\"k should be >=0, <= n_features = %d; got %r. \"\n",
      "ValueError: k should be >=0, <= n_features = 54; got 55. Use k='all' to return all features.\n",
      "\n",
      "  warnings.warn(\"Estimator fit failed. The score on this train-test\"\n",
      "C:\\Users\\Arthur Atonleu\\anaconda3\\lib\\site-packages\\sklearn\\model_selection\\_validation.py:610: FitFailedWarning: Estimator fit failed. The score on this train-test partition for these parameters will be set to nan. Details: \n",
      "Traceback (most recent call last):\n",
      "  File \"C:\\Users\\Arthur Atonleu\\anaconda3\\lib\\site-packages\\sklearn\\model_selection\\_validation.py\", line 593, in _fit_and_score\n",
      "    estimator.fit(X_train, y_train, **fit_params)\n",
      "  File \"C:\\Users\\Arthur Atonleu\\anaconda3\\lib\\site-packages\\sklearn\\pipeline.py\", line 341, in fit\n",
      "    Xt = self._fit(X, y, **fit_params_steps)\n",
      "  File \"C:\\Users\\Arthur Atonleu\\anaconda3\\lib\\site-packages\\sklearn\\pipeline.py\", line 303, in _fit\n",
      "    X, fitted_transformer = fit_transform_one_cached(\n",
      "  File \"C:\\Users\\Arthur Atonleu\\anaconda3\\lib\\site-packages\\joblib\\memory.py\", line 352, in __call__\n",
      "    return self.func(*args, **kwargs)\n",
      "  File \"C:\\Users\\Arthur Atonleu\\anaconda3\\lib\\site-packages\\sklearn\\pipeline.py\", line 754, in _fit_transform_one\n",
      "    res = transformer.fit_transform(X, y, **fit_params)\n",
      "  File \"C:\\Users\\Arthur Atonleu\\anaconda3\\lib\\site-packages\\sklearn\\pipeline.py\", line 387, in fit_transform\n",
      "    return last_step.fit_transform(Xt, y, **fit_params_last_step)\n",
      "  File \"C:\\Users\\Arthur Atonleu\\anaconda3\\lib\\site-packages\\sklearn\\base.py\", line 702, in fit_transform\n",
      "    return self.fit(X, y, **fit_params).transform(X)\n",
      "  File \"C:\\Users\\Arthur Atonleu\\anaconda3\\lib\\site-packages\\sklearn\\feature_selection\\_univariate_selection.py\", line 351, in fit\n",
      "    self._check_params(X, y)\n",
      "  File \"C:\\Users\\Arthur Atonleu\\anaconda3\\lib\\site-packages\\sklearn\\feature_selection\\_univariate_selection.py\", line 525, in _check_params\n",
      "    raise ValueError(\"k should be >=0, <= n_features = %d; got %r. \"\n",
      "ValueError: k should be >=0, <= n_features = 54; got 55. Use k='all' to return all features.\n",
      "\n",
      "  warnings.warn(\"Estimator fit failed. The score on this train-test\"\n",
      "C:\\Users\\Arthur Atonleu\\anaconda3\\lib\\site-packages\\sklearn\\model_selection\\_validation.py:610: FitFailedWarning: Estimator fit failed. The score on this train-test partition for these parameters will be set to nan. Details: \n",
      "Traceback (most recent call last):\n",
      "  File \"C:\\Users\\Arthur Atonleu\\anaconda3\\lib\\site-packages\\sklearn\\model_selection\\_validation.py\", line 593, in _fit_and_score\n",
      "    estimator.fit(X_train, y_train, **fit_params)\n",
      "  File \"C:\\Users\\Arthur Atonleu\\anaconda3\\lib\\site-packages\\sklearn\\pipeline.py\", line 341, in fit\n",
      "    Xt = self._fit(X, y, **fit_params_steps)\n",
      "  File \"C:\\Users\\Arthur Atonleu\\anaconda3\\lib\\site-packages\\sklearn\\pipeline.py\", line 303, in _fit\n",
      "    X, fitted_transformer = fit_transform_one_cached(\n",
      "  File \"C:\\Users\\Arthur Atonleu\\anaconda3\\lib\\site-packages\\joblib\\memory.py\", line 352, in __call__\n",
      "    return self.func(*args, **kwargs)\n",
      "  File \"C:\\Users\\Arthur Atonleu\\anaconda3\\lib\\site-packages\\sklearn\\pipeline.py\", line 754, in _fit_transform_one\n",
      "    res = transformer.fit_transform(X, y, **fit_params)\n",
      "  File \"C:\\Users\\Arthur Atonleu\\anaconda3\\lib\\site-packages\\sklearn\\pipeline.py\", line 387, in fit_transform\n",
      "    return last_step.fit_transform(Xt, y, **fit_params_last_step)\n",
      "  File \"C:\\Users\\Arthur Atonleu\\anaconda3\\lib\\site-packages\\sklearn\\base.py\", line 702, in fit_transform\n",
      "    return self.fit(X, y, **fit_params).transform(X)\n",
      "  File \"C:\\Users\\Arthur Atonleu\\anaconda3\\lib\\site-packages\\sklearn\\feature_selection\\_univariate_selection.py\", line 351, in fit\n",
      "    self._check_params(X, y)\n",
      "  File \"C:\\Users\\Arthur Atonleu\\anaconda3\\lib\\site-packages\\sklearn\\feature_selection\\_univariate_selection.py\", line 525, in _check_params\n",
      "    raise ValueError(\"k should be >=0, <= n_features = %d; got %r. \"\n",
      "ValueError: k should be >=0, <= n_features = 54; got 55. Use k='all' to return all features.\n",
      "\n",
      "  warnings.warn(\"Estimator fit failed. The score on this train-test\"\n",
      "C:\\Users\\Arthur Atonleu\\anaconda3\\lib\\site-packages\\sklearn\\model_selection\\_validation.py:610: FitFailedWarning: Estimator fit failed. The score on this train-test partition for these parameters will be set to nan. Details: \n",
      "Traceback (most recent call last):\n",
      "  File \"C:\\Users\\Arthur Atonleu\\anaconda3\\lib\\site-packages\\sklearn\\model_selection\\_validation.py\", line 593, in _fit_and_score\n",
      "    estimator.fit(X_train, y_train, **fit_params)\n",
      "  File \"C:\\Users\\Arthur Atonleu\\anaconda3\\lib\\site-packages\\sklearn\\pipeline.py\", line 341, in fit\n",
      "    Xt = self._fit(X, y, **fit_params_steps)\n",
      "  File \"C:\\Users\\Arthur Atonleu\\anaconda3\\lib\\site-packages\\sklearn\\pipeline.py\", line 303, in _fit\n",
      "    X, fitted_transformer = fit_transform_one_cached(\n",
      "  File \"C:\\Users\\Arthur Atonleu\\anaconda3\\lib\\site-packages\\joblib\\memory.py\", line 352, in __call__\n",
      "    return self.func(*args, **kwargs)\n",
      "  File \"C:\\Users\\Arthur Atonleu\\anaconda3\\lib\\site-packages\\sklearn\\pipeline.py\", line 754, in _fit_transform_one\n",
      "    res = transformer.fit_transform(X, y, **fit_params)\n",
      "  File \"C:\\Users\\Arthur Atonleu\\anaconda3\\lib\\site-packages\\sklearn\\pipeline.py\", line 387, in fit_transform\n",
      "    return last_step.fit_transform(Xt, y, **fit_params_last_step)\n",
      "  File \"C:\\Users\\Arthur Atonleu\\anaconda3\\lib\\site-packages\\sklearn\\base.py\", line 702, in fit_transform\n",
      "    return self.fit(X, y, **fit_params).transform(X)\n",
      "  File \"C:\\Users\\Arthur Atonleu\\anaconda3\\lib\\site-packages\\sklearn\\feature_selection\\_univariate_selection.py\", line 351, in fit\n",
      "    self._check_params(X, y)\n",
      "  File \"C:\\Users\\Arthur Atonleu\\anaconda3\\lib\\site-packages\\sklearn\\feature_selection\\_univariate_selection.py\", line 525, in _check_params\n",
      "    raise ValueError(\"k should be >=0, <= n_features = %d; got %r. \"\n",
      "ValueError: k should be >=0, <= n_features = 54; got 55. Use k='all' to return all features.\n",
      "\n",
      "  warnings.warn(\"Estimator fit failed. The score on this train-test\"\n",
      "C:\\Users\\Arthur Atonleu\\anaconda3\\lib\\site-packages\\sklearn\\model_selection\\_validation.py:610: FitFailedWarning: Estimator fit failed. The score on this train-test partition for these parameters will be set to nan. Details: \n",
      "Traceback (most recent call last):\n",
      "  File \"C:\\Users\\Arthur Atonleu\\anaconda3\\lib\\site-packages\\sklearn\\model_selection\\_validation.py\", line 593, in _fit_and_score\n",
      "    estimator.fit(X_train, y_train, **fit_params)\n",
      "  File \"C:\\Users\\Arthur Atonleu\\anaconda3\\lib\\site-packages\\sklearn\\pipeline.py\", line 341, in fit\n",
      "    Xt = self._fit(X, y, **fit_params_steps)\n",
      "  File \"C:\\Users\\Arthur Atonleu\\anaconda3\\lib\\site-packages\\sklearn\\pipeline.py\", line 303, in _fit\n",
      "    X, fitted_transformer = fit_transform_one_cached(\n",
      "  File \"C:\\Users\\Arthur Atonleu\\anaconda3\\lib\\site-packages\\joblib\\memory.py\", line 352, in __call__\n",
      "    return self.func(*args, **kwargs)\n",
      "  File \"C:\\Users\\Arthur Atonleu\\anaconda3\\lib\\site-packages\\sklearn\\pipeline.py\", line 754, in _fit_transform_one\n",
      "    res = transformer.fit_transform(X, y, **fit_params)\n",
      "  File \"C:\\Users\\Arthur Atonleu\\anaconda3\\lib\\site-packages\\sklearn\\pipeline.py\", line 387, in fit_transform\n",
      "    return last_step.fit_transform(Xt, y, **fit_params_last_step)\n",
      "  File \"C:\\Users\\Arthur Atonleu\\anaconda3\\lib\\site-packages\\sklearn\\base.py\", line 702, in fit_transform\n",
      "    return self.fit(X, y, **fit_params).transform(X)\n",
      "  File \"C:\\Users\\Arthur Atonleu\\anaconda3\\lib\\site-packages\\sklearn\\feature_selection\\_univariate_selection.py\", line 351, in fit\n",
      "    self._check_params(X, y)\n",
      "  File \"C:\\Users\\Arthur Atonleu\\anaconda3\\lib\\site-packages\\sklearn\\feature_selection\\_univariate_selection.py\", line 525, in _check_params\n",
      "    raise ValueError(\"k should be >=0, <= n_features = %d; got %r. \"\n",
      "ValueError: k should be >=0, <= n_features = 54; got 56. Use k='all' to return all features.\n",
      "\n",
      "  warnings.warn(\"Estimator fit failed. The score on this train-test\"\n",
      "C:\\Users\\Arthur Atonleu\\anaconda3\\lib\\site-packages\\sklearn\\model_selection\\_validation.py:610: FitFailedWarning: Estimator fit failed. The score on this train-test partition for these parameters will be set to nan. Details: \n",
      "Traceback (most recent call last):\n",
      "  File \"C:\\Users\\Arthur Atonleu\\anaconda3\\lib\\site-packages\\sklearn\\model_selection\\_validation.py\", line 593, in _fit_and_score\n",
      "    estimator.fit(X_train, y_train, **fit_params)\n",
      "  File \"C:\\Users\\Arthur Atonleu\\anaconda3\\lib\\site-packages\\sklearn\\pipeline.py\", line 341, in fit\n",
      "    Xt = self._fit(X, y, **fit_params_steps)\n",
      "  File \"C:\\Users\\Arthur Atonleu\\anaconda3\\lib\\site-packages\\sklearn\\pipeline.py\", line 303, in _fit\n",
      "    X, fitted_transformer = fit_transform_one_cached(\n",
      "  File \"C:\\Users\\Arthur Atonleu\\anaconda3\\lib\\site-packages\\joblib\\memory.py\", line 352, in __call__\n",
      "    return self.func(*args, **kwargs)\n",
      "  File \"C:\\Users\\Arthur Atonleu\\anaconda3\\lib\\site-packages\\sklearn\\pipeline.py\", line 754, in _fit_transform_one\n",
      "    res = transformer.fit_transform(X, y, **fit_params)\n",
      "  File \"C:\\Users\\Arthur Atonleu\\anaconda3\\lib\\site-packages\\sklearn\\pipeline.py\", line 387, in fit_transform\n",
      "    return last_step.fit_transform(Xt, y, **fit_params_last_step)\n",
      "  File \"C:\\Users\\Arthur Atonleu\\anaconda3\\lib\\site-packages\\sklearn\\base.py\", line 702, in fit_transform\n",
      "    return self.fit(X, y, **fit_params).transform(X)\n",
      "  File \"C:\\Users\\Arthur Atonleu\\anaconda3\\lib\\site-packages\\sklearn\\feature_selection\\_univariate_selection.py\", line 351, in fit\n",
      "    self._check_params(X, y)\n",
      "  File \"C:\\Users\\Arthur Atonleu\\anaconda3\\lib\\site-packages\\sklearn\\feature_selection\\_univariate_selection.py\", line 525, in _check_params\n",
      "    raise ValueError(\"k should be >=0, <= n_features = %d; got %r. \"\n",
      "ValueError: k should be >=0, <= n_features = 54; got 56. Use k='all' to return all features.\n",
      "\n",
      "  warnings.warn(\"Estimator fit failed. The score on this train-test\"\n",
      "C:\\Users\\Arthur Atonleu\\anaconda3\\lib\\site-packages\\sklearn\\model_selection\\_validation.py:610: FitFailedWarning: Estimator fit failed. The score on this train-test partition for these parameters will be set to nan. Details: \n",
      "Traceback (most recent call last):\n",
      "  File \"C:\\Users\\Arthur Atonleu\\anaconda3\\lib\\site-packages\\sklearn\\model_selection\\_validation.py\", line 593, in _fit_and_score\n",
      "    estimator.fit(X_train, y_train, **fit_params)\n",
      "  File \"C:\\Users\\Arthur Atonleu\\anaconda3\\lib\\site-packages\\sklearn\\pipeline.py\", line 341, in fit\n",
      "    Xt = self._fit(X, y, **fit_params_steps)\n",
      "  File \"C:\\Users\\Arthur Atonleu\\anaconda3\\lib\\site-packages\\sklearn\\pipeline.py\", line 303, in _fit\n",
      "    X, fitted_transformer = fit_transform_one_cached(\n",
      "  File \"C:\\Users\\Arthur Atonleu\\anaconda3\\lib\\site-packages\\joblib\\memory.py\", line 352, in __call__\n",
      "    return self.func(*args, **kwargs)\n",
      "  File \"C:\\Users\\Arthur Atonleu\\anaconda3\\lib\\site-packages\\sklearn\\pipeline.py\", line 754, in _fit_transform_one\n",
      "    res = transformer.fit_transform(X, y, **fit_params)\n",
      "  File \"C:\\Users\\Arthur Atonleu\\anaconda3\\lib\\site-packages\\sklearn\\pipeline.py\", line 387, in fit_transform\n",
      "    return last_step.fit_transform(Xt, y, **fit_params_last_step)\n",
      "  File \"C:\\Users\\Arthur Atonleu\\anaconda3\\lib\\site-packages\\sklearn\\base.py\", line 702, in fit_transform\n",
      "    return self.fit(X, y, **fit_params).transform(X)\n",
      "  File \"C:\\Users\\Arthur Atonleu\\anaconda3\\lib\\site-packages\\sklearn\\feature_selection\\_univariate_selection.py\", line 351, in fit\n",
      "    self._check_params(X, y)\n",
      "  File \"C:\\Users\\Arthur Atonleu\\anaconda3\\lib\\site-packages\\sklearn\\feature_selection\\_univariate_selection.py\", line 525, in _check_params\n",
      "    raise ValueError(\"k should be >=0, <= n_features = %d; got %r. \"\n",
      "ValueError: k should be >=0, <= n_features = 54; got 56. Use k='all' to return all features.\n",
      "\n",
      "  warnings.warn(\"Estimator fit failed. The score on this train-test\"\n",
      "C:\\Users\\Arthur Atonleu\\anaconda3\\lib\\site-packages\\sklearn\\model_selection\\_validation.py:610: FitFailedWarning: Estimator fit failed. The score on this train-test partition for these parameters will be set to nan. Details: \n",
      "Traceback (most recent call last):\n",
      "  File \"C:\\Users\\Arthur Atonleu\\anaconda3\\lib\\site-packages\\sklearn\\model_selection\\_validation.py\", line 593, in _fit_and_score\n",
      "    estimator.fit(X_train, y_train, **fit_params)\n",
      "  File \"C:\\Users\\Arthur Atonleu\\anaconda3\\lib\\site-packages\\sklearn\\pipeline.py\", line 341, in fit\n",
      "    Xt = self._fit(X, y, **fit_params_steps)\n",
      "  File \"C:\\Users\\Arthur Atonleu\\anaconda3\\lib\\site-packages\\sklearn\\pipeline.py\", line 303, in _fit\n",
      "    X, fitted_transformer = fit_transform_one_cached(\n",
      "  File \"C:\\Users\\Arthur Atonleu\\anaconda3\\lib\\site-packages\\joblib\\memory.py\", line 352, in __call__\n",
      "    return self.func(*args, **kwargs)\n",
      "  File \"C:\\Users\\Arthur Atonleu\\anaconda3\\lib\\site-packages\\sklearn\\pipeline.py\", line 754, in _fit_transform_one\n",
      "    res = transformer.fit_transform(X, y, **fit_params)\n",
      "  File \"C:\\Users\\Arthur Atonleu\\anaconda3\\lib\\site-packages\\sklearn\\pipeline.py\", line 387, in fit_transform\n",
      "    return last_step.fit_transform(Xt, y, **fit_params_last_step)\n",
      "  File \"C:\\Users\\Arthur Atonleu\\anaconda3\\lib\\site-packages\\sklearn\\base.py\", line 702, in fit_transform\n",
      "    return self.fit(X, y, **fit_params).transform(X)\n",
      "  File \"C:\\Users\\Arthur Atonleu\\anaconda3\\lib\\site-packages\\sklearn\\feature_selection\\_univariate_selection.py\", line 351, in fit\n",
      "    self._check_params(X, y)\n",
      "  File \"C:\\Users\\Arthur Atonleu\\anaconda3\\lib\\site-packages\\sklearn\\feature_selection\\_univariate_selection.py\", line 525, in _check_params\n",
      "    raise ValueError(\"k should be >=0, <= n_features = %d; got %r. \"\n",
      "ValueError: k should be >=0, <= n_features = 54; got 56. Use k='all' to return all features.\n",
      "\n",
      "  warnings.warn(\"Estimator fit failed. The score on this train-test\"\n",
      "C:\\Users\\Arthur Atonleu\\anaconda3\\lib\\site-packages\\sklearn\\model_selection\\_validation.py:610: FitFailedWarning: Estimator fit failed. The score on this train-test partition for these parameters will be set to nan. Details: \n",
      "Traceback (most recent call last):\n",
      "  File \"C:\\Users\\Arthur Atonleu\\anaconda3\\lib\\site-packages\\sklearn\\model_selection\\_validation.py\", line 593, in _fit_and_score\n",
      "    estimator.fit(X_train, y_train, **fit_params)\n",
      "  File \"C:\\Users\\Arthur Atonleu\\anaconda3\\lib\\site-packages\\sklearn\\pipeline.py\", line 341, in fit\n",
      "    Xt = self._fit(X, y, **fit_params_steps)\n",
      "  File \"C:\\Users\\Arthur Atonleu\\anaconda3\\lib\\site-packages\\sklearn\\pipeline.py\", line 303, in _fit\n",
      "    X, fitted_transformer = fit_transform_one_cached(\n",
      "  File \"C:\\Users\\Arthur Atonleu\\anaconda3\\lib\\site-packages\\joblib\\memory.py\", line 352, in __call__\n",
      "    return self.func(*args, **kwargs)\n",
      "  File \"C:\\Users\\Arthur Atonleu\\anaconda3\\lib\\site-packages\\sklearn\\pipeline.py\", line 754, in _fit_transform_one\n",
      "    res = transformer.fit_transform(X, y, **fit_params)\n",
      "  File \"C:\\Users\\Arthur Atonleu\\anaconda3\\lib\\site-packages\\sklearn\\pipeline.py\", line 387, in fit_transform\n",
      "    return last_step.fit_transform(Xt, y, **fit_params_last_step)\n",
      "  File \"C:\\Users\\Arthur Atonleu\\anaconda3\\lib\\site-packages\\sklearn\\base.py\", line 702, in fit_transform\n",
      "    return self.fit(X, y, **fit_params).transform(X)\n",
      "  File \"C:\\Users\\Arthur Atonleu\\anaconda3\\lib\\site-packages\\sklearn\\feature_selection\\_univariate_selection.py\", line 351, in fit\n",
      "    self._check_params(X, y)\n",
      "  File \"C:\\Users\\Arthur Atonleu\\anaconda3\\lib\\site-packages\\sklearn\\feature_selection\\_univariate_selection.py\", line 525, in _check_params\n",
      "    raise ValueError(\"k should be >=0, <= n_features = %d; got %r. \"\n",
      "ValueError: k should be >=0, <= n_features = 54; got 59. Use k='all' to return all features.\n",
      "\n",
      "  warnings.warn(\"Estimator fit failed. The score on this train-test\"\n",
      "C:\\Users\\Arthur Atonleu\\anaconda3\\lib\\site-packages\\sklearn\\model_selection\\_validation.py:610: FitFailedWarning: Estimator fit failed. The score on this train-test partition for these parameters will be set to nan. Details: \n",
      "Traceback (most recent call last):\n",
      "  File \"C:\\Users\\Arthur Atonleu\\anaconda3\\lib\\site-packages\\sklearn\\model_selection\\_validation.py\", line 593, in _fit_and_score\n",
      "    estimator.fit(X_train, y_train, **fit_params)\n",
      "  File \"C:\\Users\\Arthur Atonleu\\anaconda3\\lib\\site-packages\\sklearn\\pipeline.py\", line 341, in fit\n",
      "    Xt = self._fit(X, y, **fit_params_steps)\n",
      "  File \"C:\\Users\\Arthur Atonleu\\anaconda3\\lib\\site-packages\\sklearn\\pipeline.py\", line 303, in _fit\n",
      "    X, fitted_transformer = fit_transform_one_cached(\n",
      "  File \"C:\\Users\\Arthur Atonleu\\anaconda3\\lib\\site-packages\\joblib\\memory.py\", line 352, in __call__\n",
      "    return self.func(*args, **kwargs)\n",
      "  File \"C:\\Users\\Arthur Atonleu\\anaconda3\\lib\\site-packages\\sklearn\\pipeline.py\", line 754, in _fit_transform_one\n",
      "    res = transformer.fit_transform(X, y, **fit_params)\n",
      "  File \"C:\\Users\\Arthur Atonleu\\anaconda3\\lib\\site-packages\\sklearn\\pipeline.py\", line 387, in fit_transform\n",
      "    return last_step.fit_transform(Xt, y, **fit_params_last_step)\n",
      "  File \"C:\\Users\\Arthur Atonleu\\anaconda3\\lib\\site-packages\\sklearn\\base.py\", line 702, in fit_transform\n",
      "    return self.fit(X, y, **fit_params).transform(X)\n",
      "  File \"C:\\Users\\Arthur Atonleu\\anaconda3\\lib\\site-packages\\sklearn\\feature_selection\\_univariate_selection.py\", line 351, in fit\n",
      "    self._check_params(X, y)\n",
      "  File \"C:\\Users\\Arthur Atonleu\\anaconda3\\lib\\site-packages\\sklearn\\feature_selection\\_univariate_selection.py\", line 525, in _check_params\n",
      "    raise ValueError(\"k should be >=0, <= n_features = %d; got %r. \"\n",
      "ValueError: k should be >=0, <= n_features = 54; got 59. Use k='all' to return all features.\n",
      "\n",
      "  warnings.warn(\"Estimator fit failed. The score on this train-test\"\n",
      "C:\\Users\\Arthur Atonleu\\anaconda3\\lib\\site-packages\\sklearn\\model_selection\\_validation.py:610: FitFailedWarning: Estimator fit failed. The score on this train-test partition for these parameters will be set to nan. Details: \n",
      "Traceback (most recent call last):\n",
      "  File \"C:\\Users\\Arthur Atonleu\\anaconda3\\lib\\site-packages\\sklearn\\model_selection\\_validation.py\", line 593, in _fit_and_score\n",
      "    estimator.fit(X_train, y_train, **fit_params)\n",
      "  File \"C:\\Users\\Arthur Atonleu\\anaconda3\\lib\\site-packages\\sklearn\\pipeline.py\", line 341, in fit\n",
      "    Xt = self._fit(X, y, **fit_params_steps)\n",
      "  File \"C:\\Users\\Arthur Atonleu\\anaconda3\\lib\\site-packages\\sklearn\\pipeline.py\", line 303, in _fit\n",
      "    X, fitted_transformer = fit_transform_one_cached(\n",
      "  File \"C:\\Users\\Arthur Atonleu\\anaconda3\\lib\\site-packages\\joblib\\memory.py\", line 352, in __call__\n",
      "    return self.func(*args, **kwargs)\n",
      "  File \"C:\\Users\\Arthur Atonleu\\anaconda3\\lib\\site-packages\\sklearn\\pipeline.py\", line 754, in _fit_transform_one\n",
      "    res = transformer.fit_transform(X, y, **fit_params)\n",
      "  File \"C:\\Users\\Arthur Atonleu\\anaconda3\\lib\\site-packages\\sklearn\\pipeline.py\", line 387, in fit_transform\n",
      "    return last_step.fit_transform(Xt, y, **fit_params_last_step)\n",
      "  File \"C:\\Users\\Arthur Atonleu\\anaconda3\\lib\\site-packages\\sklearn\\base.py\", line 702, in fit_transform\n",
      "    return self.fit(X, y, **fit_params).transform(X)\n",
      "  File \"C:\\Users\\Arthur Atonleu\\anaconda3\\lib\\site-packages\\sklearn\\feature_selection\\_univariate_selection.py\", line 351, in fit\n",
      "    self._check_params(X, y)\n",
      "  File \"C:\\Users\\Arthur Atonleu\\anaconda3\\lib\\site-packages\\sklearn\\feature_selection\\_univariate_selection.py\", line 525, in _check_params\n",
      "    raise ValueError(\"k should be >=0, <= n_features = %d; got %r. \"\n",
      "ValueError: k should be >=0, <= n_features = 54; got 59. Use k='all' to return all features.\n",
      "\n",
      "  warnings.warn(\"Estimator fit failed. The score on this train-test\"\n",
      "C:\\Users\\Arthur Atonleu\\anaconda3\\lib\\site-packages\\sklearn\\model_selection\\_validation.py:610: FitFailedWarning: Estimator fit failed. The score on this train-test partition for these parameters will be set to nan. Details: \n",
      "Traceback (most recent call last):\n",
      "  File \"C:\\Users\\Arthur Atonleu\\anaconda3\\lib\\site-packages\\sklearn\\model_selection\\_validation.py\", line 593, in _fit_and_score\n",
      "    estimator.fit(X_train, y_train, **fit_params)\n",
      "  File \"C:\\Users\\Arthur Atonleu\\anaconda3\\lib\\site-packages\\sklearn\\pipeline.py\", line 341, in fit\n",
      "    Xt = self._fit(X, y, **fit_params_steps)\n",
      "  File \"C:\\Users\\Arthur Atonleu\\anaconda3\\lib\\site-packages\\sklearn\\pipeline.py\", line 303, in _fit\n",
      "    X, fitted_transformer = fit_transform_one_cached(\n",
      "  File \"C:\\Users\\Arthur Atonleu\\anaconda3\\lib\\site-packages\\joblib\\memory.py\", line 352, in __call__\n",
      "    return self.func(*args, **kwargs)\n",
      "  File \"C:\\Users\\Arthur Atonleu\\anaconda3\\lib\\site-packages\\sklearn\\pipeline.py\", line 754, in _fit_transform_one\n",
      "    res = transformer.fit_transform(X, y, **fit_params)\n",
      "  File \"C:\\Users\\Arthur Atonleu\\anaconda3\\lib\\site-packages\\sklearn\\pipeline.py\", line 387, in fit_transform\n",
      "    return last_step.fit_transform(Xt, y, **fit_params_last_step)\n",
      "  File \"C:\\Users\\Arthur Atonleu\\anaconda3\\lib\\site-packages\\sklearn\\base.py\", line 702, in fit_transform\n",
      "    return self.fit(X, y, **fit_params).transform(X)\n",
      "  File \"C:\\Users\\Arthur Atonleu\\anaconda3\\lib\\site-packages\\sklearn\\feature_selection\\_univariate_selection.py\", line 351, in fit\n",
      "    self._check_params(X, y)\n",
      "  File \"C:\\Users\\Arthur Atonleu\\anaconda3\\lib\\site-packages\\sklearn\\feature_selection\\_univariate_selection.py\", line 525, in _check_params\n",
      "    raise ValueError(\"k should be >=0, <= n_features = %d; got %r. \"\n",
      "ValueError: k should be >=0, <= n_features = 54; got 59. Use k='all' to return all features.\n",
      "\n",
      "  warnings.warn(\"Estimator fit failed. The score on this train-test\"\n"
     ]
    },
    {
     "name": "stdout",
     "output_type": "stream",
     "text": [
      "{'svc__gamma': 0.0001, 'svc__C': 1, 'pipeline__selectkbest__k': 47, 'pipeline__polynomialfeatures__degree': 2}\n",
      "              precision    recall  f1-score   support\n",
      "\n",
      "           1       0.66      1.00      0.79        54\n",
      "           2       0.00      0.00      0.00        28\n",
      "\n",
      "    accuracy                           0.66        82\n",
      "   macro avg       0.33      0.50      0.40        82\n",
      "weighted avg       0.43      0.66      0.52        82\n",
      "\n"
     ]
    },
    {
     "name": "stderr",
     "output_type": "stream",
     "text": [
      "C:\\Users\\Arthur Atonleu\\anaconda3\\lib\\site-packages\\sklearn\\model_selection\\_search.py:918: UserWarning: One or more of the test scores are non-finite: [0.98571429 1.                nan 1.         0.99285714 0.99285714\n",
      " 0.95059524        nan 0.97916667        nan 1.         0.97222222\n",
      " 0.98571429 1.         0.98571429 0.99285714 0.97916667 0.98571429\n",
      " 0.97896825 0.99285714 0.98571429 0.99285714 1.                nan\n",
      " 0.97857143 0.9718254  0.99285714 0.99305556 0.99305556 0.98571429\n",
      " 0.98571429 0.98571429 1.         1.         0.98571429 0.98571429\n",
      " 0.99305556 0.97916667 0.99305556 0.97162698]\n",
      "  warnings.warn(\n",
      "C:\\Users\\Arthur Atonleu\\anaconda3\\lib\\site-packages\\sklearn\\metrics\\_classification.py:1245: UndefinedMetricWarning: Precision and F-score are ill-defined and being set to 0.0 in labels with no predicted samples. Use `zero_division` parameter to control this behavior.\n",
      "  _warn_prf(average, modifier, msg_start, len(result))\n",
      "C:\\Users\\Arthur Atonleu\\anaconda3\\lib\\site-packages\\sklearn\\metrics\\_classification.py:1245: UndefinedMetricWarning: Precision and F-score are ill-defined and being set to 0.0 in labels with no predicted samples. Use `zero_division` parameter to control this behavior.\n",
      "  _warn_prf(average, modifier, msg_start, len(result))\n",
      "C:\\Users\\Arthur Atonleu\\anaconda3\\lib\\site-packages\\sklearn\\metrics\\_classification.py:1245: UndefinedMetricWarning: Precision and F-score are ill-defined and being set to 0.0 in labels with no predicted samples. Use `zero_division` parameter to control this behavior.\n",
      "  _warn_prf(average, modifier, msg_start, len(result))\n"
     ]
    }
   ],
   "source": [
    "grid = RandomizedSearchCV(SVM, hyper_params, scoring='recall', cv=4,\n",
    "                          n_iter=40)\n",
    "\n",
    "grid.fit(X_train, y_train)\n",
    "\n",
    "print(grid.best_params_)\n",
    "\n",
    "y_pred = grid.predict(X_test)\n",
    "\n",
    "print(classification_report(y_test, y_pred))"
   ]
  },
  {
   "cell_type": "code",
   "execution_count": 80,
   "id": "815afab3",
   "metadata": {},
   "outputs": [
    {
     "name": "stdout",
     "output_type": "stream",
     "text": [
      "[[54  0]\n",
      " [28  0]]\n",
      "              precision    recall  f1-score   support\n",
      "\n",
      "           1       0.66      1.00      0.79        54\n",
      "           2       0.00      0.00      0.00        28\n",
      "\n",
      "    accuracy                           0.66        82\n",
      "   macro avg       0.33      0.50      0.40        82\n",
      "weighted avg       0.43      0.66      0.52        82\n",
      "\n"
     ]
    },
    {
     "name": "stderr",
     "output_type": "stream",
     "text": [
      "C:\\Users\\Arthur Atonleu\\anaconda3\\lib\\site-packages\\sklearn\\metrics\\_classification.py:1245: UndefinedMetricWarning: Precision and F-score are ill-defined and being set to 0.0 in labels with no predicted samples. Use `zero_division` parameter to control this behavior.\n",
      "  _warn_prf(average, modifier, msg_start, len(result))\n",
      "C:\\Users\\Arthur Atonleu\\anaconda3\\lib\\site-packages\\sklearn\\metrics\\_classification.py:1245: UndefinedMetricWarning: Precision and F-score are ill-defined and being set to 0.0 in labels with no predicted samples. Use `zero_division` parameter to control this behavior.\n",
      "  _warn_prf(average, modifier, msg_start, len(result))\n",
      "C:\\Users\\Arthur Atonleu\\anaconda3\\lib\\site-packages\\sklearn\\metrics\\_classification.py:1245: UndefinedMetricWarning: Precision and F-score are ill-defined and being set to 0.0 in labels with no predicted samples. Use `zero_division` parameter to control this behavior.\n",
      "  _warn_prf(average, modifier, msg_start, len(result))\n"
     ]
    },
    {
     "data": {
      "image/png": "[encoded data removed]",
      "text/plain": [
       "<Figure size 864x576 with 1 Axes>"
      ]
     },
     "metadata": {
      "needs_background": "light"
     },
     "output_type": "display_data"
    }
   ],
   "source": [
    "evaluation(grid.best_estimator_)"
   ]
  },
  {
   "cell_type": "code",
   "execution_count": null,
   "id": "f7c353c3",
   "metadata": {},
   "outputs": [],
   "source": []
  },
  {
   "cell_type": "markdown",
   "id": "b17bac9f",
   "metadata": {},
   "source": [
    "### Variable les plus importantes dans l'abre de décisions\n",
    "### On a la var Delta Energy , Delta Inc Y et Delta Moment\n"
   ]
  },
  {
   "cell_type": "code",
   "execution_count": 68,
   "id": "a9a8cb5b",
   "metadata": {},
   "outputs": [
    {
     "data": {
      "text/plain": [
       "<AxesSubplot:>"
      ]
     },
     "execution_count": 68,
     "metadata": {},
     "output_type": "execute_result"
    },
    {
     "data": {
      "image/png": "[encoded data removed]",
      "text/plain": [
       "<Figure size 864x576 with 1 Axes>"
      ]
     },
     "metadata": {
      "needs_background": "light"
     },
     "output_type": "display_data"
    }
   ],
   "source": [
    "pd.DataFrame(model_1.feature_importances_, index=X_train.columns).plot.bar(figsize=(12, 8))"
   ]
  },
  {
   "cell_type": "markdown",
   "id": "26a9d18f",
   "metadata": {},
   "source": [
    "### Suppresiion des variables initules\n",
    "### Faufra faire le test d'Anova pour une meilleure selection des varibales"
   ]
  },
  {
   "cell_type": "code",
   "execution_count": 81,
   "id": "21d20e13",
   "metadata": {},
   "outputs": [
    {
     "data": {
      "text/html": [
       "<div>\n",
       "<style scoped>\n",
       "    .dataframe tbody tr th:only-of-type {\n",
       "        vertical-align: middle;\n",
       "    }\n",
       "\n",
       "    .dataframe tbody tr th {\n",
       "        vertical-align: top;\n",
       "    }\n",
       "\n",
       "    .dataframe thead th {\n",
       "        text-align: right;\n",
       "    }\n",
       "</style>\n",
       "<table border=\"1\" class=\"dataframe\">\n",
       "  <thead>\n",
       "    <tr style=\"text-align: right;\">\n",
       "      <th></th>\n",
       "      <th>Maneuver type</th>\n",
       "      <th>Delta-t</th>\n",
       "      <th>Delta Inc X</th>\n",
       "      <th>Delta Inc Y</th>\n",
       "      <th>Delta Ecc X</th>\n",
       "      <th>Delta Ecc Y</th>\n",
       "      <th>Delta Energy</th>\n",
       "      <th>Delta Energy Previous</th>\n",
       "      <th>Delta Energy Next</th>\n",
       "      <th>Delta Moment</th>\n",
       "    </tr>\n",
       "  </thead>\n",
       "  <tbody>\n",
       "    <tr>\n",
       "      <th>0</th>\n",
       "      <td>0</td>\n",
       "      <td>1.224519</td>\n",
       "      <td>0.000010</td>\n",
       "      <td>0.000258</td>\n",
       "      <td>-0.000058</td>\n",
       "      <td>0.000132</td>\n",
       "      <td>-46.793223</td>\n",
       "      <td>0.000000</td>\n",
       "      <td>99.526227</td>\n",
       "      <td>0.000517</td>\n",
       "    </tr>\n",
       "    <tr>\n",
       "      <th>1</th>\n",
       "      <td>1</td>\n",
       "      <td>0.770030</td>\n",
       "      <td>-0.000025</td>\n",
       "      <td>-0.000213</td>\n",
       "      <td>0.000075</td>\n",
       "      <td>-0.000106</td>\n",
       "      <td>99.526227</td>\n",
       "      <td>-46.793223</td>\n",
       "      <td>-4.871059</td>\n",
       "      <td>0.000429</td>\n",
       "    </tr>\n",
       "    <tr>\n",
       "      <th>2</th>\n",
       "      <td>0</td>\n",
       "      <td>0.997276</td>\n",
       "      <td>-0.000015</td>\n",
       "      <td>0.000030</td>\n",
       "      <td>-0.000012</td>\n",
       "      <td>-0.000009</td>\n",
       "      <td>-4.871059</td>\n",
       "      <td>99.526227</td>\n",
       "      <td>-16.184467</td>\n",
       "      <td>0.000067</td>\n",
       "    </tr>\n",
       "    <tr>\n",
       "      <th>3</th>\n",
       "      <td>0</td>\n",
       "      <td>1.994546</td>\n",
       "      <td>-0.000018</td>\n",
       "      <td>0.000027</td>\n",
       "      <td>0.000005</td>\n",
       "      <td>0.000001</td>\n",
       "      <td>-16.184467</td>\n",
       "      <td>-4.871059</td>\n",
       "      <td>-101.914365</td>\n",
       "      <td>0.000065</td>\n",
       "    </tr>\n",
       "    <tr>\n",
       "      <th>4</th>\n",
       "      <td>0</td>\n",
       "      <td>0.725489</td>\n",
       "      <td>0.000026</td>\n",
       "      <td>-0.000008</td>\n",
       "      <td>0.000027</td>\n",
       "      <td>0.000033</td>\n",
       "      <td>-101.914365</td>\n",
       "      <td>-16.184467</td>\n",
       "      <td>84.064344</td>\n",
       "      <td>0.000054</td>\n",
       "    </tr>\n",
       "  </tbody>\n",
       "</table>\n",
       "</div>"
      ],
      "text/plain": [
       "   Maneuver type   Delta-t  Delta Inc X   Delta Inc Y  Delta Ecc X   \\\n",
       "0              0  1.224519      0.000010     0.000258     -0.000058   \n",
       "1              1  0.770030     -0.000025    -0.000213      0.000075   \n",
       "2              0  0.997276     -0.000015     0.000030     -0.000012   \n",
       "3              0  1.994546     -0.000018     0.000027      0.000005   \n",
       "4              0  0.725489      0.000026    -0.000008      0.000027   \n",
       "\n",
       "   Delta Ecc Y  Delta Energy   Delta Energy Previous   Delta Energy Next  \\\n",
       "0     0.000132     -46.793223                0.000000          99.526227   \n",
       "1    -0.000106      99.526227              -46.793223          -4.871059   \n",
       "2    -0.000009      -4.871059               99.526227         -16.184467   \n",
       "3     0.000001     -16.184467               -4.871059        -101.914365   \n",
       "4     0.000033    -101.914365              -16.184467          84.064344   \n",
       "\n",
       "   Delta Moment  \n",
       "0      0.000517  \n",
       "1      0.000429  \n",
       "2      0.000067  \n",
       "3      0.000065  \n",
       "4      0.000054  "
      ]
     },
     "execution_count": 81,
     "metadata": {},
     "output_type": "execute_result"
    }
   ],
   "source": [
    "df.head()"
   ]
  },
  {
   "cell_type": "markdown",
   "id": "9de12424",
   "metadata": {},
   "source": [
    "## Precision Recall Curve"
   ]
  },
  {
   "cell_type": "code",
   "execution_count": 82,
   "id": "a936e056",
   "metadata": {},
   "outputs": [],
   "source": [
    "from sklearn.metrics import precision_recall_curve"
   ]
  },
  {
   "cell_type": "code",
   "execution_count": null,
   "id": "2ba2d4be",
   "metadata": {},
   "outputs": [],
   "source": []
  },
  {
   "cell_type": "code",
   "execution_count": null,
   "id": "e263e4c7",
   "metadata": {},
   "outputs": [],
   "source": []
  }
 ],
 "metadata": {
  "kernelspec": {
   "display_name": "Python 3",
   "language": "python",
   "name": "python3"
  },
  "language_info": {
   "codemirror_mode": {
    "name": "ipython",
    "version": 3
   },
   "file_extension": ".py",
   "mimetype": "text/x-python",
   "name": "python",
   "nbconvert_exporter": "python",
   "pygments_lexer": "ipython3",
   "version": "3.8.8"
  }
 },
 "nbformat": 4,
 "nbformat_minor": 5
}
